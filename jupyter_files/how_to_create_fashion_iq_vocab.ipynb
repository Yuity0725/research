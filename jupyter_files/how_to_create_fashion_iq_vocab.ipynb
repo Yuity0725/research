{
 "cells": [
  {
   "cell_type": "code",
   "execution_count": 1,
   "metadata": {},
   "outputs": [],
   "source": [
    "import sys\n",
    "sys.path.append(\"../\")"
   ]
  },
  {
   "cell_type": "code",
   "execution_count": 2,
   "metadata": {},
   "outputs": [],
   "source": [
    "from data.fashionIQ import FashionIQDataset, FashionIQTestQueryDataset\n",
    "\n",
    "iq_train = FashionIQDataset()\n",
    "iq_test = FashionIQTestQueryDataset()"
   ]
  },
  {
   "cell_type": "code",
   "execution_count": 3,
   "metadata": {},
   "outputs": [
    {
     "name": "stdout",
     "output_type": "stream",
     "text": [
      "is solid black with no sleeves and is black with straps\n",
      "is shiny and silver with shorter sleeves and fit and flare\n"
     ]
    }
   ],
   "source": [
    "print(iq_train[0][2])\n",
    "print(iq_test[0][1])"
   ]
  },
  {
   "cell_type": "code",
   "execution_count": 4,
   "metadata": {},
   "outputs": [],
   "source": [
    "datasets = [iq_train, iq_test]"
   ]
  },
  {
   "cell_type": "code",
   "execution_count": 5,
   "metadata": {},
   "outputs": [
    {
     "data": {
      "text/plain": [
       "<language.vocabulary.SimpleVocabulary at 0x7f2edc2a6190>"
      ]
     },
     "execution_count": 5,
     "metadata": {},
     "output_type": "execute_result"
    }
   ],
   "source": [
    "from language.vocabulary import SimpleVocabulary\n",
    "from language.tokenizers import NltkTokenizer\n",
    "from language.utils import create_read_func, create_write_func\n",
    "\n",
    "tokenizer = NltkTokenizer()\n",
    "read_func = create_read_func('fashion_iq_vocab.pkl')\n",
    "write_func = create_write_func('fashion_iq_vocab.pkl')\n",
    "SimpleVocabulary.create_and_store_vocabulary_from_datasets(datasets, tokenizer, write_func)"
   ]
  },
  {
   "cell_type": "code",
   "execution_count": 6,
   "metadata": {},
   "outputs": [
    {
     "data": {
      "text/plain": [
       "1882"
      ]
     },
     "execution_count": 6,
     "metadata": {},
     "output_type": "execute_result"
    }
   ],
   "source": [
    "vocab = SimpleVocabulary.create_vocabulary_from_storage(read_func)\n",
    "len(vocab)"
   ]
  }
 ],
 "metadata": {
  "kernelspec": {
   "display_name": "Python 3",
   "language": "python",
   "name": "python3"
  },
  "language_info": {
   "codemirror_mode": {
    "name": "ipython",
    "version": 3
   },
   "file_extension": ".py",
   "mimetype": "text/x-python",
   "name": "python",
   "nbconvert_exporter": "python",
   "pygments_lexer": "ipython3",
   "version": "3.5.2"
  }
 },
 "nbformat": 4,
 "nbformat_minor": 4
}
