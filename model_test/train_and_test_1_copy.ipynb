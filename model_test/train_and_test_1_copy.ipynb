{
 "cells": [
  {
   "cell_type": "code",
   "execution_count": null,
   "metadata": {},
   "outputs": [],
   "source": [
    "# ライブラリの読み込み\n",
    "import json\n",
    "import pickle\n",
    "import random\n",
    "import re\n",
    "import statistics\n",
    "\n",
    "import japanize_matplotlib\n",
    "\n",
    "import numpy as np\n",
    "import pandas as pd\n",
    "import seaborn as sns\n",
    "import matplotlib.pyplot as plt\n",
    "\n",
    "from pprint import pprint\n",
    "from sklearn.metrics import mean_absolute_error\n",
    "from tqdm.auto import tqdm"
   ]
  },
  {
   "cell_type": "code",
   "execution_count": null,
   "metadata": {},
   "outputs": [],
   "source": [
    "# 設定\n",
    "plt.rcParams[\"font.family\"] = \"IPAexGothic\"\n",
    "\n",
    "pd.options.display.max_columns = 200\n",
    "pd.options.display.max_rows = 100"
   ]
  },
  {
   "cell_type": "code",
   "execution_count": null,
   "metadata": {},
   "outputs": [],
   "source": [
    "# データの読み込み\n",
    "df_result = pd.read_csv(\"human0821.csv\")\n",
    "df_gt = pd.read_csv(\"all_data.csv\", index_col=0)\n",
    "df_t = df_gt.T\n",
    "selected_ids = list(set(df_result[\"target_ID\"]))\n",
    "df_drop = df_gt.drop(selected_ids, axis=0)\n",
    "df_train = pd.read_csv(\"train.csv\", index_col=0).T\n",
    "df_test = pd.read_csv(\"test.csv\", index_col=0)"
   ]
  },
  {
   "cell_type": "code",
   "execution_count": null,
   "metadata": {},
   "outputs": [],
   "source": [
    "# 重みの読み込み\n",
    "matrix_dict = {}\n",
    "\n",
    "for dim in tqdm(range(5, 30)):\n",
    "    matrix_dict[dim] = [\n",
    "        np.load(f\"nmf_w/train/nmf_w_r{i}/nmf_50000_w_{dim}_r{i}.npy\") for i in range(1000)\n",
    "    ]"
   ]
  },
  {
   "cell_type": "code",
   "execution_count": null,
   "metadata": {},
   "outputs": [],
   "source": [
    "# 推論\n",
    "def calculate_score(target_id: int, selected_images: list, dims: tuple):\n",
    "    result = {}\n",
    "    q_gt = df_gt.iloc[target_id].to_numpy()\n",
    "    x = df_gt.iloc[target_id, selected_images].to_numpy()\n",
    "\n",
    "    for dim in dims:\n",
    "        q_array = []\n",
    "        result[dim] = {}\n",
    "        for random_state in range(1000):\n",
    "            W = matrix_dict[dim][random_state]\n",
    "            W1 = W[selected_images]\n",
    "            W1_inv = np.linalg.pinv(W1)\n",
    "            h_est = np.dot(W1_inv, x)\n",
    "            q = np.dot(W, h_est)\n",
    "            q[q<0] = 0\n",
    "            q[q>10] = 10\n",
    "            q_array.append(q)\n",
    "        q = sum(q_array) / len(q_array)\n",
    "        result[dim][\"q\"] = q\n",
    "        result[dim][\"MAE\"] = mean_absolute_error(q, q_gt)\n",
    "    return result"
   ]
  },
  {
   "cell_type": "code",
   "execution_count": null,
   "metadata": {},
   "outputs": [],
   "source": [
    "# 次元\n",
    "dims = (5, 10, 15)"
   ]
  },
  {
   "cell_type": "code",
   "execution_count": null,
   "metadata": {},
   "outputs": [],
   "source": [
    "# 訓練用データの分散\n",
    "variances = df_train.var()\n",
    "# 分散が大きい順に列をソート\n",
    "sorted_columns = variances.sort_values(ascending=False).index.to_list()"
   ]
  },
  {
   "cell_type": "code",
   "execution_count": null,
   "metadata": {},
   "outputs": [],
   "source": [
    "# 列名をimage_idに変換\n",
    "def find_index(col_name):\n",
    "    pattern = r\"No\\.(\\d+)\"\n",
    "    match = re.search(pattern, col_name)\n",
    "\n",
    "    if match:\n",
    "        return int(match.group(1))-1\n",
    "    else:\n",
    "        return -1"
   ]
  },
  {
   "cell_type": "code",
   "execution_count": null,
   "metadata": {},
   "outputs": [],
   "source": [
    "plt.hist(variances, width=0.5)"
   ]
  },
  {
   "cell_type": "code",
   "execution_count": null,
   "metadata": {},
   "outputs": [],
   "source": [
    "# 分散が大きい順に10枚聞く\n",
    "var_large_10 = sorted([find_index(col_name) for col_name in sorted_columns[:10]])\n",
    "print(var_large_10)\n",
    "var_large_10_results = []\n",
    "for index, row in tqdm(df_test.iterrows()):\n",
    "    result = calculate_score(row.name, var_large_10, dims)\n",
    "    var_large_10_results.append(result)\n",
    "\n",
    "# 分散が小さい順に10枚聞く\n",
    "var_small_10 = sorted([find_index(col_name) for col_name in sorted_columns[-10:]])\n",
    "print(var_small_10)\n",
    "var_small_10_results = []\n",
    "for index, row in tqdm(df_test.iterrows()):\n",
    "    result = calculate_score(row.name, var_small_10, dims)\n",
    "    var_small_10_results.append(result)\n",
    "\n",
    "# 分散が大きい順に5枚、小さい順に5枚聞く\n",
    "var_large_5_small_5 = sorted([find_index(col_name) for col_name in sorted_columns[-5:]] + [find_index(col_name) for col_name in sorted_columns[:5]])\n",
    "var_large_5_small_5_results = []\n",
    "print(var_large_5_small_5)\n",
    "for index, row in tqdm(df_test.iterrows()):\n",
    "    result = calculate_score(row.name, var_large_5_small_5, dims)\n",
    "    var_large_5_small_5_results.append(result)\n",
    "\n",
    "MAE_var_large_10 = {5: [], 10: [], 15: []}\n",
    "for result in var_large_10_results:\n",
    "    for dim in dims:\n",
    "        MAE_var_large_10[dim].append(result[dim][\"MAE\"])\n",
    "\n",
    "MAE_var_small_10 = {5: [], 10: [], 15: []}\n",
    "for result in var_small_10_results:\n",
    "    for dim in dims:\n",
    "        MAE_var_small_10[dim].append(result[dim][\"MAE\"])\n",
    "\n",
    "MAE_var_large_5_small_5 = {5: [], 10: [], 15: []}\n",
    "for result in var_large_5_small_5_results:\n",
    "    for dim in dims:\n",
    "        MAE_var_large_5_small_5[dim].append(result[dim][\"MAE\"])"
   ]
  },
  {
   "cell_type": "code",
   "execution_count": null,
   "metadata": {},
   "outputs": [],
   "source": [
    "plt.rcParams[\"figure.figsize\"] = (6, 6)\n",
    "for index, dim in enumerate(dims):\n",
    "    plt.subplot(3, 1, index+1)\n",
    "    plt.hist(MAE_var_large_10[dim], label=\"大10\", alpha=0.5)\n",
    "    plt.hist(MAE_var_small_10[dim], label=\"小10\", alpha=0.5)\n",
    "    plt.hist(MAE_var_large_5_small_5[dim], label=\"大5小5\", alpha=0.5)\n",
    "    plt.title(f\"{dim}次元\")\n",
    "    plt.legend()\n",
    "\n",
    "plt.tight_layout()"
   ]
  },
  {
   "cell_type": "code",
   "execution_count": null,
   "metadata": {},
   "outputs": [],
   "source": [
    "plt.rcParams[\"figure.figsize\"] = (6, 6)\n",
    "plt.subplot(3, 1, 1)\n",
    "for index, dim in enumerate(dims):\n",
    "    plt.hist(MAE_var_large_10[dim], label=f\"{dim}次元\", alpha=0.5)\n",
    "    plt.title(\"分散が大きい画像10枚\")\n",
    "    plt.xticks(list(range(7)))\n",
    "    plt.legend()\n",
    "\n",
    "plt.subplot(3, 1, 2)\n",
    "for index, dim in enumerate(dims):\n",
    "    plt.hist(MAE_var_small_10[dim], label=f\"{dim}次元\", alpha=0.5)\n",
    "    plt.title(\"分散が小さい画像10枚\")\n",
    "    plt.xticks(list(range(7)))\n",
    "    plt.legend()\n",
    "\n",
    "plt.subplot(3, 1, 3)\n",
    "for index, dim in enumerate(dims):\n",
    "    plt.hist(MAE_var_large_5_small_5[dim], label=f\"{dim}次元\", alpha=0.5)\n",
    "    plt.title(\"分散が大きい画像5枚と小さい画像5枚\")\n",
    "    plt.xticks(list(range(7)))\n",
    "    plt.legend()\n",
    "plt.tight_layout()"
   ]
  },
  {
   "cell_type": "code",
   "execution_count": null,
   "metadata": {},
   "outputs": [],
   "source": [
    "df_MAE_var_large_10 = pd.DataFrame({'5次元':MAE_var_large_10[5],'10次元':MAE_var_large_10[10],'15次元':MAE_var_large_10[15]})\n",
    "df_MAE_var_large_10.describe()"
   ]
  },
  {
   "cell_type": "code",
   "execution_count": null,
   "metadata": {},
   "outputs": [],
   "source": [
    "df_MAE_var_small_10 = pd.DataFrame({'5次元':MAE_var_small_10[5],'10次元':MAE_var_small_10[10],'15次元':MAE_var_small_10[15]})\n",
    "df_MAE_var_small_10.describe()"
   ]
  },
  {
   "cell_type": "code",
   "execution_count": null,
   "metadata": {},
   "outputs": [],
   "source": [
    "df_MAE_var_large_5_small_5 = pd.DataFrame({'5次元':MAE_var_large_5_small_5[5],'10次元':MAE_var_large_5_small_5[10],'15次元':MAE_var_large_5_small_5[15]})\n",
    "df_MAE_var_large_5_small_5.describe()"
   ]
  },
  {
   "cell_type": "code",
   "execution_count": null,
   "metadata": {},
   "outputs": [],
   "source": [
    "df_train_corr = df_train.corr()"
   ]
  },
  {
   "cell_type": "code",
   "execution_count": null,
   "metadata": {},
   "outputs": [],
   "source": [
    "print(sorted_columns[0])\n",
    "var_max_col = df_train_corr[sorted_columns[0]]\n",
    "var_max_col.nlargest(2).iloc[-1]\n",
    "var_max_col[var_max_col == var_max_col.nlargest(2).iloc[-1]].index[0]"
   ]
  },
  {
   "cell_type": "code",
   "execution_count": null,
   "metadata": {},
   "outputs": [],
   "source": [
    "# 分散が大きいものとそれと相関が強いもの\n",
    "\n",
    "var_corr_max = []\n",
    "current_index = 0\n",
    "n_largest = 2\n",
    "while len(var_corr_max) < 10:\n",
    "    if len(var_corr_max) % 2 == 0:\n",
    "        col_name = sorted_columns[current_index]\n",
    "        if col_name not in var_corr_max:\n",
    "            var_corr_max.append(col_name)\n",
    "        current_index += 1\n",
    "    else:\n",
    "        raw = df_train_corr[var_corr_max[-1]]\n",
    "        n_largest_index = raw[raw == raw.nlargest(n_largest).iloc[-1]].index[0]\n",
    "        if n_largest_index not in var_corr_max:\n",
    "            var_corr_max.append(n_largest_index)\n",
    "            n_largest = 2\n",
    "        else:\n",
    "            n_largest += 1\n",
    "\n",
    "var_corr_max_ids = sorted([find_index(col_name) for col_name in var_corr_max])\n",
    "\n",
    "var_corr_max_results = []\n",
    "\n",
    "for index, row in tqdm(df_test.iterrows()):\n",
    "    result = calculate_score(row.name, var_corr_max_ids, dims)\n",
    "    var_corr_max_results.append(result)"
   ]
  },
  {
   "cell_type": "code",
   "execution_count": null,
   "metadata": {},
   "outputs": [],
   "source": [
    "# 分散が大きいものとそれと相関が弱いもの\n",
    "\n",
    "var_corr_zero = []\n",
    "current_index = 0\n",
    "n_smallest = 1\n",
    "while len(var_corr_zero) < 10:\n",
    "    if len(var_corr_zero)%2==0:\n",
    "        col_name = sorted_columns[current_index]\n",
    "        if col_name not in var_corr_zero:\n",
    "            var_corr_zero.append(col_name)\n",
    "            current_index += 1\n",
    "    else:\n",
    "        raw = df_train_corr[var_corr_zero[-1]]\n",
    "        n_smallest_index = raw[raw == raw.nsmallest(n_smallest).iloc[-1]].index[0]\n",
    "        if n_smallest_index not in var_corr_zero:\n",
    "            var_corr_zero.append(n_smallest_index)\n",
    "            n_smallest = 1\n",
    "        else:\n",
    "            n_smallest += 1\n",
    "\n",
    "var_corr_zero_ids = sorted([find_index(col_name) for col_name in var_corr_zero])\n",
    "var_corr_zero_results = []\n",
    "\n",
    "for index, row in tqdm(df_test.iterrows()):\n",
    "    result = calculate_score(row.name, var_corr_zero_ids, dims)\n",
    "    var_corr_zero_results.append(result)"
   ]
  },
  {
   "cell_type": "code",
   "execution_count": null,
   "metadata": {},
   "outputs": [],
   "source": [
    "MAE_var_corr_max = {5: [], 10: [], 15: []}\n",
    "for result in var_corr_max_results:\n",
    "    for dim in dims:\n",
    "        MAE_var_corr_max[dim].append(result[dim][\"MAE\"])\n",
    "\n",
    "MAE_var_corr_zero = {5: [], 10: [], 15: []}\n",
    "for result in var_corr_zero_results:\n",
    "    for dim in dims:\n",
    "        MAE_var_corr_zero[dim].append(result[dim][\"MAE\"])"
   ]
  },
  {
   "cell_type": "code",
   "execution_count": null,
   "metadata": {},
   "outputs": [],
   "source": [
    "df_MAE_var_corr_max = pd.DataFrame({'5次元':MAE_var_corr_max[5],'10次元':MAE_var_corr_max[10],'15次元':MAE_var_corr_max[15]})\n",
    "df_MAE_var_corr_max.describe()"
   ]
  },
  {
   "cell_type": "code",
   "execution_count": null,
   "metadata": {},
   "outputs": [],
   "source": [
    "df_MAE_var_corr_zero = pd.DataFrame({'5次元':MAE_var_corr_zero[5],'10次元':MAE_var_corr_zero[10],'15次元':MAE_var_corr_zero[15]})\n",
    "df_MAE_var_corr_zero.describe()"
   ]
  },
  {
   "cell_type": "code",
   "execution_count": null,
   "metadata": {},
   "outputs": [],
   "source": [
    "plt.rcParams[\"figure.figsize\"] = (6, 6)\n",
    "for index, dim in enumerate(dims):\n",
    "    plt.subplot(3, 1, index+1)\n",
    "    plt.hist(MAE_var_corr_max[dim], label=\"相関強\", alpha=0.5)\n",
    "    plt.hist(MAE_var_corr_zero[dim], label=\"相関弱\", alpha=0.5)\n",
    "    plt.title(f\"{dim}次元\")\n",
    "    plt.legend()\n",
    "\n",
    "plt.tight_layout()"
   ]
  },
  {
   "cell_type": "code",
   "execution_count": null,
   "metadata": {},
   "outputs": [],
   "source": [
    "plt.rcParams[\"figure.figsize\"] = (6, 4)\n",
    "plt.subplot(2, 1, 1)\n",
    "for index, dim in enumerate(dims):\n",
    "    plt.hist(MAE_var_corr_max[dim], label=f\"{dim}次元\", alpha=0.5)\n",
    "    plt.title(\"分散が大きい画像5枚と相関が強い画像\")\n",
    "    plt.xticks(list(range(7)))\n",
    "    plt.legend()\n",
    "\n",
    "plt.subplot(2, 1, 2)\n",
    "for index, dim in enumerate(dims):\n",
    "    plt.hist(MAE_var_corr_zero[dim], label=f\"{dim}次元\", alpha=0.5)\n",
    "    plt.title(\"分散が大きい画像5枚と相関が弱い画像\")\n",
    "    plt.xticks(list(range(7)))\n",
    "    plt.legend()\n",
    "\n",
    "plt.tight_layout()"
   ]
  },
  {
   "cell_type": "code",
   "execution_count": null,
   "metadata": {},
   "outputs": [],
   "source": [
    "#オブジェクトの呼び出し(sample_object を保存する)\n",
    "with open('random_samples.pkl', mode='rb') as f:\n",
    "    random_samples = pickle.load(f)"
   ]
  },
  {
   "cell_type": "code",
   "execution_count": null,
   "metadata": {},
   "outputs": [],
   "source": [
    "# ランダム\n",
    "random_results_0_10 = []\n",
    "\n",
    "for index, row in tqdm(df_test.iterrows()):\n",
    "    print(row.name)\n",
    "    for random_sample in random_samples:\n",
    "        result = calculate_score(row.name, random_sample, dims)\n",
    "        random_results_0_10.append(result)\n",
    "\n",
    "with open(f\"random_results_0_10.pkl\", \"wb\") as file:\n",
    "    pickle.dump(random_results, file)"
   ]
  },
  {
   "cell_type": "code",
   "execution_count": null,
   "metadata": {},
   "outputs": [],
   "source": [
    "# 分散が大きいものとそれと相関が強いもの\n",
    "\n",
    "var_corr_max_6 = []\n",
    "current_index = 0\n",
    "n_largest = 2\n",
    "while len(var_corr_max) < 10:\n",
    "    if len(var_corr_max) % 2 == 0:\n",
    "        col_name = sorted_columns[current_index]\n",
    "        if col_name not in var_corr_max_6:\n",
    "            var_corr_max.append(col_name)\n",
    "        current_index += 1\n",
    "    else:\n",
    "        raw = df_train_corr[var_corr_max_6[-1]]\n",
    "        n_largest_index = raw[raw == raw.nlargest(n_largest).iloc[-1]].index[0]\n",
    "        if n_largest_index not in var_corr_max_6:\n",
    "            var_corr_max_6.append(n_largest_index)\n",
    "            n_largest = 2\n",
    "        else:\n",
    "            n_largest += 1\n",
    "\n",
    "var_corr_max_6_ids = sorted([find_index(col_name) for col_name in var_corr_max_6])\n",
    "\n",
    "var_corr_max_6_results = []\n",
    "\n",
    "\n",
    "for index, row in tqdm(df_test.iterrows()):\n",
    "    result = calculate_score(row.name, var_corr_max_6_ids, dims)\n",
    "    var_corr_max_6_results.append(result)\n",
    "\n",
    "# 分散が大きいものとそれと相関が弱いもの\n",
    "var_corr_zero_6 = []\n",
    "current_index = 0\n",
    "n_smallest = 1\n",
    "while len(var_corr_zero_6) < 6:\n",
    "    if len(var_corr_zero_6)%2==0:\n",
    "        col_name = sorted_columns[current_index]\n",
    "        if col_name not in var_corr_zero_6:\n",
    "            var_corr_zero_6.append(col_name)\n",
    "            current_index += 1\n",
    "    else:\n",
    "        row = df_train_corr[var_corr_zero_6[-1]]\n",
    "        n_smallest_index = row[row == row.nsmallest(n_smallest).iloc[-1]].index[0]\n",
    "        if n_smallest_index not in var_corr_zero_6:\n",
    "            var_corr_zero_6.append(n_smallest_index)\n",
    "            n_smallest = 1\n",
    "        else:\n",
    "            n_smallest += 1\n",
    "\n",
    "var_corr_zero_6_ids = sorted([find_index(col_name) for col_name in var_corr_zero_6])\n",
    "var_corr_zero_6_results = []\n",
    "\n",
    "for index, row in tqdm(df_test.iterrows()):\n",
    "    result = calculate_score(row.name, var_corr_zero_6_ids, dims)\n",
    "    var_corr_zero_6_results.append(result)\n",
    "\n",
    "\n",
    "MAE_var_corr_max_6 = {5: [], 10: [], 15: []}\n",
    "for result in var_corr_max_6_results:\n",
    "    for dim in dims:\n",
    "        MAE_var_corr_max_6[dim].append(result[dim][\"MAE\"])\n",
    "\n",
    "MAE_var_corr_zero_6 = {5: [], 10: [], 15: []}\n",
    "for result in var_corr_zero_6_results:\n",
    "    for dim in dims:\n",
    "        MAE_var_corr_zero_6[dim].append(result[dim][\"MAE\"])"
   ]
  },
  {
   "cell_type": "code",
   "execution_count": null,
   "metadata": {},
   "outputs": [],
   "source": [
    "plt.rcParams[\"figure.figsize\"] = (6, 6)\n",
    "for index, dim in enumerate(dims):\n",
    "    plt.subplot(3, 1, index+1)\n",
    "    plt.hist(MAE_var_corr_max_6[dim], label=\"相関強\", alpha=0.5)\n",
    "    plt.hist(MAE_var_corr_zero_6[dim], label=\"相関弱\", alpha=0.5)\n",
    "    plt.title(f\"{dim}次元\")\n",
    "    plt.legend()\n",
    "    plt.xlim(0, 7)\n",
    "\n",
    "plt.tight_layout()"
   ]
  },
  {
   "cell_type": "code",
   "execution_count": null,
   "metadata": {},
   "outputs": [],
   "source": [
    "var_corr_zero_6_index = [find_index(col_name) for col_name in sorted_columns[:6]]\n",
    "\n",
    "with open(\"filename_list.json\", \"r\") as file:\n",
    "    data = json.load(file)\n",
    "    var_corr_zero_6_file_name = [data[index] for index in var_corr_zero_6_index]"
   ]
  },
  {
   "cell_type": "code",
   "execution_count": null,
   "metadata": {},
   "outputs": [],
   "source": [
    "with open(\"sample_var_corr_zero_6.json\", \"w\") as file:\n",
    "    json.dump(var_corr_zero_6_file_name, file)"
   ]
  },
  {
   "cell_type": "code",
   "execution_count": null,
   "metadata": {},
   "outputs": [],
   "source": [
    "# 分散が大きい順に6枚聞く\n",
    "var_large_6 = sorted([find_index(col_name) for col_name in sorted_columns[:6]])\n",
    "print(var_large_6)\n",
    "var_large_6_results = []\n",
    "for index, row in tqdm(df_test.iterrows()):\n",
    "    result = calculate_score(row.name, var_large_6, dims)\n",
    "    var_large_6_results.append(result)\n",
    "\n",
    "# 分散が小さい順に6枚聞く\n",
    "var_small_6 = sorted([find_index(col_name) for col_name in sorted_columns[-6:]])\n",
    "print(var_small_6)\n",
    "var_small_6_results = []\n",
    "for index, row in tqdm(df_test.iterrows()):\n",
    "    result = calculate_score(row.name, var_small_6, dims)\n",
    "    var_small_6_results.append(result)\n",
    "\n",
    "# 分散が大きい順に3枚、小さい順に3枚聞く\n",
    "var_large_3_small_3 = sorted([find_index(col_name) for col_name in sorted_columns[-3:]] + [find_index(col_name) for col_name in sorted_columns[:3]])\n",
    "var_large_3_small_3_results = []\n",
    "print(var_large_3_small_3)\n",
    "for index, row in tqdm(df_test.iterrows()):\n",
    "    result = calculate_score(row.name, var_large_3_small_3, dims)\n",
    "    var_large_3_small_3_results.append(result)\n",
    "\n",
    "MAE_var_large_6 = {5: [], 10: [], 15: []}\n",
    "for result in var_large_6_results:\n",
    "    for dim in dims:\n",
    "        MAE_var_large_6[dim].append(result[dim][\"MAE\"])\n",
    "\n",
    "MAE_var_small_6 = {5: [], 10: [], 15: []}\n",
    "for result in var_small_6_results:\n",
    "    for dim in dims:\n",
    "        MAE_var_small_6[dim].append(result[dim][\"MAE\"])\n",
    "\n",
    "MAE_var_large_3_small_3 = {5: [], 10: [], 15: []}\n",
    "for result in var_large_3_small_3_results:\n",
    "    for dim in dims:\n",
    "        MAE_var_large_3_small_3[dim].append(result[dim][\"MAE\"])"
   ]
  },
  {
   "cell_type": "code",
   "execution_count": null,
   "metadata": {},
   "outputs": [],
   "source": [
    "plt.rcParams[\"figure.figsize\"] = (6, 6)\n",
    "for index, dim in enumerate(dims):\n",
    "    plt.subplot(3, 1, index+1)\n",
    "    plt.hist(MAE_var_large_6[dim], label=\"分散大6\", alpha=0.5)\n",
    "    plt.hist(MAE_var_small_6[dim], label=\"分散小6\", alpha=0.5)\n",
    "    plt.hist(MAE_var_large_3_small_3[dim], label=\"分散大3小3\", alpha=0.5)\n",
    "    plt.title(f\"{dim}次元\")\n",
    "    plt.xlim(0, 7)\n",
    "    plt.legend()\n",
    "\n",
    "plt.tight_layout()"
   ]
  },
  {
   "cell_type": "code",
   "execution_count": null,
   "metadata": {},
   "outputs": [],
   "source": [
    "df_var_large_6 = pd.DataFrame({'5次元':MAE_var_large_6[5],'10次元':MAE_var_large_6[10],'15次元':MAE_var_large_6[15]})\n",
    "df_var_large_6.describe()"
   ]
  },
  {
   "cell_type": "code",
   "execution_count": null,
   "metadata": {},
   "outputs": [],
   "source": [
    "df_var_small_6 = pd.DataFrame({'5次元':MAE_var_small_6[5],'10次元':MAE_var_small_6[10],'15次元':MAE_var_small_6[15]})\n",
    "df_var_small_6.describe()"
   ]
  },
  {
   "cell_type": "code",
   "execution_count": null,
   "metadata": {},
   "outputs": [],
   "source": [
    "df_var_large_3_small_3 = pd.DataFrame({'5次元':MAE_var_large_3_small_3[5],'10次元':MAE_var_large_3_small_3[10],'15次元':MAE_var_large_3_small_3[15]})\n",
    "df_var_large_3_small_3.describe()"
   ]
  },
  {
   "cell_type": "code",
   "execution_count": null,
   "metadata": {},
   "outputs": [],
   "source": [
    "df_var_corr_max_6 = pd.DataFrame({'5次元':MAE_var_corr_max_6[5],'10次元':MAE_var_corr_max_6[10],'15次元':MAE_var_corr_max_6[15]})\n",
    "df_var_corr_max_6.describe()"
   ]
  },
  {
   "cell_type": "code",
   "execution_count": null,
   "metadata": {},
   "outputs": [],
   "source": [
    "df_var_corr_zero_6 = pd.DataFrame({'5次元':MAE_var_corr_zero_6[5],'10次元':MAE_var_corr_zero_6[10],'15次元':MAE_var_corr_zero_6[15]})\n",
    "df_var_corr_zero_6.describe()"
   ]
  },
  {
   "cell_type": "code",
   "execution_count": null,
   "metadata": {},
   "outputs": [],
   "source": [
    "# 訓練用データの平均\n",
    "means = df_train.mean().values"
   ]
  },
  {
   "cell_type": "code",
   "execution_count": null,
   "metadata": {},
   "outputs": [],
   "source": [
    "# 分散最大+相関弱\n",
    "var_corr_2 = []\n",
    "n_smallest = 1\n",
    "var_corr_2.append(sorted_columns[0])\n",
    "n_smallest_index = row[row == row.nsmallest(n_smallest).iloc[-1]].index[0]\n",
    "var_corr_2.append(n_smallest_index)\n",
    "var_corr_2_ids = sorted([find_index(col_name) for col_name in var_corr_2])\n",
    "\n",
    "filnal_result_list = []\n",
    "for index, row in tqdm(df_test.iterrows()):\n",
    "    result_first = calculate_score(row.name, var_corr_2_ids, dims)\n",
    "    result_final = {}\n",
    "    for dim in dims:\n",
    "        selected_ids = set(var_corr_2_ids)\n",
    "        diff_first = np.abs(means-result_first[dim][\"q\"])\n",
    "        sorted_indices = np.argsort(diff_first)\n",
    "        index = 1\n",
    "        while len(selected_ids) < 4:\n",
    "            if sorted_indices[index * -1] not in selected_ids:\n",
    "                selected_ids.add(sorted_indices[index * -1])\n",
    "            index += 1\n",
    "        result_second = calculate_score(row.name, list(selected_ids), [dim])\n",
    "        diff_second = np.abs(result_second[dim][\"q\"] - result_first[dim][\"q\"])\n",
    "        sorted_indices = np.argsort(diff_second)\n",
    "        index = 1\n",
    "        while len(selected_ids) < 6:\n",
    "            if sorted_indices[index * -1] not in selected_ids:\n",
    "                selected_ids.add(sorted_indices[index * -1])\n",
    "            index += 1\n",
    "        result_third = calculate_score(row.name, list(selected_ids), [dim])\n",
    "        result_final[dim] = result_third[dim]\n",
    "    filnal_result_list.append(result_final)\n",
    "\n",
    "MAE_diff_est = {5: [], 10: [], 15: []}\n",
    "for result in filnal_result_list:\n",
    "    for dim in dims:\n",
    "        MAE_diff_est[dim].append(result[dim][\"MAE\"])"
   ]
  },
  {
   "cell_type": "code",
   "execution_count": null,
   "metadata": {},
   "outputs": [],
   "source": [
    "plt.rcParams[\"figure.figsize\"] = (6, 6)\n",
    "for index, dim in enumerate(dims):\n",
    "    plt.subplot(3, 1, index+1)\n",
    "    plt.hist(MAE_diff_est[dim], alpha=0.5)\n",
    "    plt.title(f\"{dim}次元\")\n",
    "    plt.xlim(0, 7)\n",
    "\n",
    "plt.tight_layout()"
   ]
  },
  {
   "cell_type": "code",
   "execution_count": null,
   "metadata": {},
   "outputs": [],
   "source": [
    "df_diff_est = pd.DataFrame({'5次元':MAE_diff_est[5],'10次元':MAE_diff_est[10],'15次元':MAE_diff_est[15]})\n",
    "df_diff_est.describe()"
   ]
  },
  {
   "cell_type": "code",
   "execution_count": null,
   "metadata": {},
   "outputs": [],
   "source": []
  }
 ],
 "metadata": {
  "kernelspec": {
   "display_name": "Python 3",
   "language": "python",
   "name": "python3"
  },
  "language_info": {
   "codemirror_mode": {
    "name": "ipython",
    "version": 3
   },
   "file_extension": ".py",
   "mimetype": "text/x-python",
   "name": "python",
   "nbconvert_exporter": "python",
   "pygments_lexer": "ipython3",
   "version": "3.9.10"
  },
  "orig_nbformat": 4
 },
 "nbformat": 4,
 "nbformat_minor": 2
}
