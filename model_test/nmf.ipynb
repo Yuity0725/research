{
 "cells": [
  {
   "cell_type": "code",
   "execution_count": 30,
   "metadata": {},
   "outputs": [],
   "source": [
    "import numpy as np\n",
    "import pandas as pd"
   ]
  },
  {
   "cell_type": "code",
   "execution_count": 31,
   "metadata": {},
   "outputs": [],
   "source": [
    "male = pd.read_csv(\"male.csv\")\n",
    "female = pd.read_csv(\"female.csv\")"
   ]
  },
  {
   "cell_type": "code",
   "execution_count": 32,
   "metadata": {},
   "outputs": [
    {
     "name": "stdout",
     "output_type": "stream",
     "text": [
      "(647, 110)\n"
     ]
    }
   ],
   "source": [
    "all = pd.concat([male, female])\n",
    "print(all.shape)"
   ]
  },
  {
   "cell_type": "code",
   "execution_count": 33,
   "metadata": {},
   "outputs": [
    {
     "data": {
      "text/plain": [
       "<bound method NDFrame.head of                 タイムスタンプ ランサーズのユーザー名を入力してください あなたの性別は男性ですか？  年齢  \\\n",
       "0     9/13/2022 6:30:44               akkun1            はい  53   \n",
       "1     9/13/2022 6:31:24             o1571139            はい  36   \n",
       "2     9/13/2022 6:35:40               a45197            はい  37   \n",
       "3     9/13/2022 6:36:10           d87wtqejmb            はい  37   \n",
       "4     9/13/2022 6:36:40             mikib941            はい  57   \n",
       "..                  ...                  ...           ...  ..   \n",
       "316  9/13/2022 12:10:48           soon_crazy           NaN  50   \n",
       "317  9/13/2022 12:19:27           summer-sky           NaN  35   \n",
       "318  9/13/2022 13:42:22          hacchi-0318           NaN  36   \n",
       "319  9/13/2022 14:31:42          user_ayoshi           NaN  56   \n",
       "320  9/13/2022 14:46:49         kintarosan01           NaN  42   \n",
       "\n",
       "    上記の説明を読んだ上で、研究へのご協力にご承諾いただけますでしょうか？  No.1の画像があなたの好みであるかを0から10で評価してください．  \\\n",
       "0                                    はい                                   8   \n",
       "1                                    はい                                   8   \n",
       "2                                    はい                                   3   \n",
       "3                                    はい                                   7   \n",
       "4                                    はい                                   6   \n",
       "..                                  ...                                 ...   \n",
       "316                                  はい                                   0   \n",
       "317                                  はい                                   3   \n",
       "318                                  はい                                   3   \n",
       "319                                  はい                                   4   \n",
       "320                                  はい                                   3   \n",
       "\n",
       "     No.2の画像があなたの好みであるかを0から10で評価してください．  No.3の画像があなたの好みであるかを0から10で評価してください．  \\\n",
       "0                                     3                                   6   \n",
       "1                                     4                                   2   \n",
       "2                                     3                                   1   \n",
       "3                                     2                                   9   \n",
       "4                                     8                                   5   \n",
       "..                                  ...                                 ...   \n",
       "316                                   0                                   0   \n",
       "317                                   2                                   1   \n",
       "318                                   2                                   1   \n",
       "319                                   4                                   3   \n",
       "320                                   0                                   3   \n",
       "\n",
       "     No.4の画像があなたの好みであるかを0から10で評価してください．  No.5の画像があなたの好みであるかを0から10で評価してください．  \\\n",
       "0                                     7                                   8   \n",
       "1                                     8                                   4   \n",
       "2                                     2                                   7   \n",
       "3                                     4                                   5   \n",
       "4                                     6                                   5   \n",
       "..                                  ...                                 ...   \n",
       "316                                   2                                   0   \n",
       "317                                   3                                   7   \n",
       "318                                   1                                   4   \n",
       "319                                   5                                   5   \n",
       "320                                   0                                   5   \n",
       "\n",
       "     ...  No.96の画像があなたの好みであるかを0から10で評価してください．  \\\n",
       "0    ...                                    3   \n",
       "1    ...                                    7   \n",
       "2    ...                                    5   \n",
       "3    ...                                    3   \n",
       "4    ...                                    5   \n",
       "..   ...                                  ...   \n",
       "316  ...                                    0   \n",
       "317  ...                                    4   \n",
       "318  ...                                    2   \n",
       "319  ...                                    4   \n",
       "320  ...                                    1   \n",
       "\n",
       "     No.97の画像があなたの好みであるかを0から10で評価してください．  No.98の画像があなたの好みであるかを0から10で評価してください．  \\\n",
       "0                                      2                                    5   \n",
       "1                                      4                                    5   \n",
       "2                                      5                                    7   \n",
       "3                                      4                                    4   \n",
       "4                                      4                                    3   \n",
       "..                                   ...                                  ...   \n",
       "316                                    0                                    0   \n",
       "317                                    0                                   10   \n",
       "318                                    4                                    3   \n",
       "319                                    3                                    5   \n",
       "320                                    0                                    5   \n",
       "\n",
       "     No.99の画像があなたの好みであるかを0から10で評価してください．  \\\n",
       "0                                      0   \n",
       "1                                      1   \n",
       "2                                      0   \n",
       "3                                      0   \n",
       "4                                      3   \n",
       "..                                   ...   \n",
       "316                                    0   \n",
       "317                                    1   \n",
       "318                                    0   \n",
       "319                                    4   \n",
       "320                                    0   \n",
       "\n",
       "     No.100の画像があなたの好みであるかを0から10で評価してください．  普段周りにドレスを着ている人は多いですか？  \\\n",
       "0                                       5                ほどんどいない   \n",
       "1                                       6                ほどんどいない   \n",
       "2                                      10                ほどんどいない   \n",
       "3                                       3                ほどんどいない   \n",
       "4                                       4                ほどんどいない   \n",
       "..                                    ...                    ...   \n",
       "316                                     0                    NaN   \n",
       "317                                     5                    NaN   \n",
       "318                                     2                    NaN   \n",
       "319                                     4                    NaN   \n",
       "320                                     0                    NaN   \n",
       "\n",
       "     あなたは服にこだわりがありますか？  確認用コードをコピーし，ランサーズ側のアンケートに貼り付けましたか？  あなたの性別は女性ですか？  \\\n",
       "0           あまりこだわりがない                                  はい            NaN   \n",
       "1           あまりこだわりがない                                  はい            NaN   \n",
       "2           あまりこだわりがない                                  はい            NaN   \n",
       "3            全くこだわりがない                                  はい            NaN   \n",
       "4            どちらとも言えない                                  はい            NaN   \n",
       "..                 ...                                 ...            ...   \n",
       "316          どちらとも言えない                                  はい             はい   \n",
       "317          ややこだわりがある                                  はい             はい   \n",
       "318          ややこだわりがある                                  はい             はい   \n",
       "319          どちらとも言えない                                  はい             はい   \n",
       "320          ややこだわりがある                                  はい             はい   \n",
       "\n",
       "     普段あなたはドレスを着用しますか？  \n",
       "0                  NaN  \n",
       "1                  NaN  \n",
       "2                  NaN  \n",
       "3                  NaN  \n",
       "4                  NaN  \n",
       "..                 ...  \n",
       "316            全く着用しない  \n",
       "317             月に1~2回  \n",
       "318            全く着用しない  \n",
       "319            全く着用しない  \n",
       "320            全く着用しない  \n",
       "\n",
       "[647 rows x 110 columns]>"
      ]
     },
     "execution_count": 33,
     "metadata": {},
     "output_type": "execute_result"
    }
   ],
   "source": [
    "all.head"
   ]
  },
  {
   "cell_type": "code",
   "execution_count": 34,
   "metadata": {},
   "outputs": [],
   "source": [
    "df_data = all.iloc[:, 5:105]"
   ]
  },
  {
   "cell_type": "code",
   "execution_count": 35,
   "metadata": {},
   "outputs": [
    {
     "data": {
      "text/html": [
       "<div>\n",
       "<style scoped>\n",
       "    .dataframe tbody tr th:only-of-type {\n",
       "        vertical-align: middle;\n",
       "    }\n",
       "\n",
       "    .dataframe tbody tr th {\n",
       "        vertical-align: top;\n",
       "    }\n",
       "\n",
       "    .dataframe thead th {\n",
       "        text-align: right;\n",
       "    }\n",
       "</style>\n",
       "<table border=\"1\" class=\"dataframe\">\n",
       "  <thead>\n",
       "    <tr style=\"text-align: right;\">\n",
       "      <th></th>\n",
       "      <th>No.1の画像があなたの好みであるかを0から10で評価してください．</th>\n",
       "      <th>No.2の画像があなたの好みであるかを0から10で評価してください．</th>\n",
       "      <th>No.3の画像があなたの好みであるかを0から10で評価してください．</th>\n",
       "      <th>No.4の画像があなたの好みであるかを0から10で評価してください．</th>\n",
       "      <th>No.5の画像があなたの好みであるかを0から10で評価してください．</th>\n",
       "      <th>No.6の画像があなたの好みであるかを0から10で評価してください．</th>\n",
       "      <th>No.7の画像があなたの好みであるかを0から10で評価してください．</th>\n",
       "      <th>No.8の画像があなたの好みであるかを0から10で評価してください．</th>\n",
       "      <th>No.9の画像があなたの好みであるかを0から10で評価してください．</th>\n",
       "      <th>No.10の画像があなたの好みであるかを0から10で評価してください．</th>\n",
       "      <th>...</th>\n",
       "      <th>No.91の画像があなたの好みであるかを0から10で評価してください．</th>\n",
       "      <th>No.92の画像があなたの好みであるかを0から10で評価してください．</th>\n",
       "      <th>No.93の画像があなたの好みであるかを0から10で評価してください．</th>\n",
       "      <th>No.94の画像があなたの好みであるかを0から10で評価してください．</th>\n",
       "      <th>No.95の画像があなたの好みであるかを0から10で評価してください．</th>\n",
       "      <th>No.96の画像があなたの好みであるかを0から10で評価してください．</th>\n",
       "      <th>No.97の画像があなたの好みであるかを0から10で評価してください．</th>\n",
       "      <th>No.98の画像があなたの好みであるかを0から10で評価してください．</th>\n",
       "      <th>No.99の画像があなたの好みであるかを0から10で評価してください．</th>\n",
       "      <th>No.100の画像があなたの好みであるかを0から10で評価してください．</th>\n",
       "    </tr>\n",
       "  </thead>\n",
       "  <tbody>\n",
       "    <tr>\n",
       "      <th>0</th>\n",
       "      <td>8</td>\n",
       "      <td>3</td>\n",
       "      <td>6</td>\n",
       "      <td>7</td>\n",
       "      <td>8</td>\n",
       "      <td>2</td>\n",
       "      <td>7</td>\n",
       "      <td>6</td>\n",
       "      <td>7</td>\n",
       "      <td>6</td>\n",
       "      <td>...</td>\n",
       "      <td>3</td>\n",
       "      <td>5</td>\n",
       "      <td>4</td>\n",
       "      <td>5</td>\n",
       "      <td>3</td>\n",
       "      <td>3</td>\n",
       "      <td>2</td>\n",
       "      <td>5</td>\n",
       "      <td>0</td>\n",
       "      <td>5</td>\n",
       "    </tr>\n",
       "    <tr>\n",
       "      <th>1</th>\n",
       "      <td>8</td>\n",
       "      <td>4</td>\n",
       "      <td>2</td>\n",
       "      <td>8</td>\n",
       "      <td>4</td>\n",
       "      <td>10</td>\n",
       "      <td>4</td>\n",
       "      <td>1</td>\n",
       "      <td>6</td>\n",
       "      <td>9</td>\n",
       "      <td>...</td>\n",
       "      <td>4</td>\n",
       "      <td>6</td>\n",
       "      <td>7</td>\n",
       "      <td>7</td>\n",
       "      <td>4</td>\n",
       "      <td>7</td>\n",
       "      <td>4</td>\n",
       "      <td>5</td>\n",
       "      <td>1</td>\n",
       "      <td>6</td>\n",
       "    </tr>\n",
       "    <tr>\n",
       "      <th>2</th>\n",
       "      <td>3</td>\n",
       "      <td>3</td>\n",
       "      <td>1</td>\n",
       "      <td>2</td>\n",
       "      <td>7</td>\n",
       "      <td>3</td>\n",
       "      <td>2</td>\n",
       "      <td>1</td>\n",
       "      <td>5</td>\n",
       "      <td>2</td>\n",
       "      <td>...</td>\n",
       "      <td>4</td>\n",
       "      <td>5</td>\n",
       "      <td>7</td>\n",
       "      <td>8</td>\n",
       "      <td>5</td>\n",
       "      <td>5</td>\n",
       "      <td>5</td>\n",
       "      <td>7</td>\n",
       "      <td>0</td>\n",
       "      <td>10</td>\n",
       "    </tr>\n",
       "    <tr>\n",
       "      <th>3</th>\n",
       "      <td>7</td>\n",
       "      <td>2</td>\n",
       "      <td>9</td>\n",
       "      <td>4</td>\n",
       "      <td>5</td>\n",
       "      <td>8</td>\n",
       "      <td>6</td>\n",
       "      <td>4</td>\n",
       "      <td>6</td>\n",
       "      <td>6</td>\n",
       "      <td>...</td>\n",
       "      <td>7</td>\n",
       "      <td>8</td>\n",
       "      <td>7</td>\n",
       "      <td>4</td>\n",
       "      <td>3</td>\n",
       "      <td>3</td>\n",
       "      <td>4</td>\n",
       "      <td>4</td>\n",
       "      <td>0</td>\n",
       "      <td>3</td>\n",
       "    </tr>\n",
       "    <tr>\n",
       "      <th>4</th>\n",
       "      <td>6</td>\n",
       "      <td>8</td>\n",
       "      <td>5</td>\n",
       "      <td>6</td>\n",
       "      <td>5</td>\n",
       "      <td>7</td>\n",
       "      <td>7</td>\n",
       "      <td>8</td>\n",
       "      <td>8</td>\n",
       "      <td>7</td>\n",
       "      <td>...</td>\n",
       "      <td>4</td>\n",
       "      <td>6</td>\n",
       "      <td>7</td>\n",
       "      <td>5</td>\n",
       "      <td>5</td>\n",
       "      <td>5</td>\n",
       "      <td>4</td>\n",
       "      <td>3</td>\n",
       "      <td>3</td>\n",
       "      <td>4</td>\n",
       "    </tr>\n",
       "    <tr>\n",
       "      <th>...</th>\n",
       "      <td>...</td>\n",
       "      <td>...</td>\n",
       "      <td>...</td>\n",
       "      <td>...</td>\n",
       "      <td>...</td>\n",
       "      <td>...</td>\n",
       "      <td>...</td>\n",
       "      <td>...</td>\n",
       "      <td>...</td>\n",
       "      <td>...</td>\n",
       "      <td>...</td>\n",
       "      <td>...</td>\n",
       "      <td>...</td>\n",
       "      <td>...</td>\n",
       "      <td>...</td>\n",
       "      <td>...</td>\n",
       "      <td>...</td>\n",
       "      <td>...</td>\n",
       "      <td>...</td>\n",
       "      <td>...</td>\n",
       "      <td>...</td>\n",
       "    </tr>\n",
       "    <tr>\n",
       "      <th>316</th>\n",
       "      <td>0</td>\n",
       "      <td>0</td>\n",
       "      <td>0</td>\n",
       "      <td>2</td>\n",
       "      <td>0</td>\n",
       "      <td>0</td>\n",
       "      <td>0</td>\n",
       "      <td>0</td>\n",
       "      <td>0</td>\n",
       "      <td>0</td>\n",
       "      <td>...</td>\n",
       "      <td>0</td>\n",
       "      <td>0</td>\n",
       "      <td>0</td>\n",
       "      <td>0</td>\n",
       "      <td>0</td>\n",
       "      <td>0</td>\n",
       "      <td>0</td>\n",
       "      <td>0</td>\n",
       "      <td>0</td>\n",
       "      <td>0</td>\n",
       "    </tr>\n",
       "    <tr>\n",
       "      <th>317</th>\n",
       "      <td>3</td>\n",
       "      <td>2</td>\n",
       "      <td>1</td>\n",
       "      <td>3</td>\n",
       "      <td>7</td>\n",
       "      <td>0</td>\n",
       "      <td>1</td>\n",
       "      <td>4</td>\n",
       "      <td>3</td>\n",
       "      <td>2</td>\n",
       "      <td>...</td>\n",
       "      <td>3</td>\n",
       "      <td>4</td>\n",
       "      <td>5</td>\n",
       "      <td>6</td>\n",
       "      <td>1</td>\n",
       "      <td>4</td>\n",
       "      <td>0</td>\n",
       "      <td>10</td>\n",
       "      <td>1</td>\n",
       "      <td>5</td>\n",
       "    </tr>\n",
       "    <tr>\n",
       "      <th>318</th>\n",
       "      <td>3</td>\n",
       "      <td>2</td>\n",
       "      <td>1</td>\n",
       "      <td>1</td>\n",
       "      <td>4</td>\n",
       "      <td>2</td>\n",
       "      <td>0</td>\n",
       "      <td>1</td>\n",
       "      <td>4</td>\n",
       "      <td>4</td>\n",
       "      <td>...</td>\n",
       "      <td>4</td>\n",
       "      <td>3</td>\n",
       "      <td>5</td>\n",
       "      <td>4</td>\n",
       "      <td>3</td>\n",
       "      <td>2</td>\n",
       "      <td>4</td>\n",
       "      <td>3</td>\n",
       "      <td>0</td>\n",
       "      <td>2</td>\n",
       "    </tr>\n",
       "    <tr>\n",
       "      <th>319</th>\n",
       "      <td>4</td>\n",
       "      <td>4</td>\n",
       "      <td>3</td>\n",
       "      <td>5</td>\n",
       "      <td>5</td>\n",
       "      <td>3</td>\n",
       "      <td>2</td>\n",
       "      <td>4</td>\n",
       "      <td>4</td>\n",
       "      <td>3</td>\n",
       "      <td>...</td>\n",
       "      <td>2</td>\n",
       "      <td>3</td>\n",
       "      <td>2</td>\n",
       "      <td>4</td>\n",
       "      <td>4</td>\n",
       "      <td>4</td>\n",
       "      <td>3</td>\n",
       "      <td>5</td>\n",
       "      <td>4</td>\n",
       "      <td>4</td>\n",
       "    </tr>\n",
       "    <tr>\n",
       "      <th>320</th>\n",
       "      <td>3</td>\n",
       "      <td>0</td>\n",
       "      <td>3</td>\n",
       "      <td>0</td>\n",
       "      <td>5</td>\n",
       "      <td>6</td>\n",
       "      <td>0</td>\n",
       "      <td>3</td>\n",
       "      <td>0</td>\n",
       "      <td>0</td>\n",
       "      <td>...</td>\n",
       "      <td>0</td>\n",
       "      <td>0</td>\n",
       "      <td>4</td>\n",
       "      <td>0</td>\n",
       "      <td>0</td>\n",
       "      <td>1</td>\n",
       "      <td>0</td>\n",
       "      <td>5</td>\n",
       "      <td>0</td>\n",
       "      <td>0</td>\n",
       "    </tr>\n",
       "  </tbody>\n",
       "</table>\n",
       "<p>647 rows × 100 columns</p>\n",
       "</div>"
      ],
      "text/plain": [
       "     No.1の画像があなたの好みであるかを0から10で評価してください．  No.2の画像があなたの好みであるかを0から10で評価してください．  \\\n",
       "0                                     8                                   3   \n",
       "1                                     8                                   4   \n",
       "2                                     3                                   3   \n",
       "3                                     7                                   2   \n",
       "4                                     6                                   8   \n",
       "..                                  ...                                 ...   \n",
       "316                                   0                                   0   \n",
       "317                                   3                                   2   \n",
       "318                                   3                                   2   \n",
       "319                                   4                                   4   \n",
       "320                                   3                                   0   \n",
       "\n",
       "     No.3の画像があなたの好みであるかを0から10で評価してください．  No.4の画像があなたの好みであるかを0から10で評価してください．  \\\n",
       "0                                     6                                   7   \n",
       "1                                     2                                   8   \n",
       "2                                     1                                   2   \n",
       "3                                     9                                   4   \n",
       "4                                     5                                   6   \n",
       "..                                  ...                                 ...   \n",
       "316                                   0                                   2   \n",
       "317                                   1                                   3   \n",
       "318                                   1                                   1   \n",
       "319                                   3                                   5   \n",
       "320                                   3                                   0   \n",
       "\n",
       "     No.5の画像があなたの好みであるかを0から10で評価してください．  No.6の画像があなたの好みであるかを0から10で評価してください．  \\\n",
       "0                                     8                                   2   \n",
       "1                                     4                                  10   \n",
       "2                                     7                                   3   \n",
       "3                                     5                                   8   \n",
       "4                                     5                                   7   \n",
       "..                                  ...                                 ...   \n",
       "316                                   0                                   0   \n",
       "317                                   7                                   0   \n",
       "318                                   4                                   2   \n",
       "319                                   5                                   3   \n",
       "320                                   5                                   6   \n",
       "\n",
       "     No.7の画像があなたの好みであるかを0から10で評価してください．  No.8の画像があなたの好みであるかを0から10で評価してください．  \\\n",
       "0                                     7                                   6   \n",
       "1                                     4                                   1   \n",
       "2                                     2                                   1   \n",
       "3                                     6                                   4   \n",
       "4                                     7                                   8   \n",
       "..                                  ...                                 ...   \n",
       "316                                   0                                   0   \n",
       "317                                   1                                   4   \n",
       "318                                   0                                   1   \n",
       "319                                   2                                   4   \n",
       "320                                   0                                   3   \n",
       "\n",
       "     No.9の画像があなたの好みであるかを0から10で評価してください．  No.10の画像があなたの好みであるかを0から10で評価してください．  \\\n",
       "0                                     7                                    6   \n",
       "1                                     6                                    9   \n",
       "2                                     5                                    2   \n",
       "3                                     6                                    6   \n",
       "4                                     8                                    7   \n",
       "..                                  ...                                  ...   \n",
       "316                                   0                                    0   \n",
       "317                                   3                                    2   \n",
       "318                                   4                                    4   \n",
       "319                                   4                                    3   \n",
       "320                                   0                                    0   \n",
       "\n",
       "     ...  No.91の画像があなたの好みであるかを0から10で評価してください．  \\\n",
       "0    ...                                    3   \n",
       "1    ...                                    4   \n",
       "2    ...                                    4   \n",
       "3    ...                                    7   \n",
       "4    ...                                    4   \n",
       "..   ...                                  ...   \n",
       "316  ...                                    0   \n",
       "317  ...                                    3   \n",
       "318  ...                                    4   \n",
       "319  ...                                    2   \n",
       "320  ...                                    0   \n",
       "\n",
       "     No.92の画像があなたの好みであるかを0から10で評価してください．  No.93の画像があなたの好みであるかを0から10で評価してください．  \\\n",
       "0                                      5                                    4   \n",
       "1                                      6                                    7   \n",
       "2                                      5                                    7   \n",
       "3                                      8                                    7   \n",
       "4                                      6                                    7   \n",
       "..                                   ...                                  ...   \n",
       "316                                    0                                    0   \n",
       "317                                    4                                    5   \n",
       "318                                    3                                    5   \n",
       "319                                    3                                    2   \n",
       "320                                    0                                    4   \n",
       "\n",
       "     No.94の画像があなたの好みであるかを0から10で評価してください．  No.95の画像があなたの好みであるかを0から10で評価してください．  \\\n",
       "0                                      5                                    3   \n",
       "1                                      7                                    4   \n",
       "2                                      8                                    5   \n",
       "3                                      4                                    3   \n",
       "4                                      5                                    5   \n",
       "..                                   ...                                  ...   \n",
       "316                                    0                                    0   \n",
       "317                                    6                                    1   \n",
       "318                                    4                                    3   \n",
       "319                                    4                                    4   \n",
       "320                                    0                                    0   \n",
       "\n",
       "     No.96の画像があなたの好みであるかを0から10で評価してください．  No.97の画像があなたの好みであるかを0から10で評価してください．  \\\n",
       "0                                      3                                    2   \n",
       "1                                      7                                    4   \n",
       "2                                      5                                    5   \n",
       "3                                      3                                    4   \n",
       "4                                      5                                    4   \n",
       "..                                   ...                                  ...   \n",
       "316                                    0                                    0   \n",
       "317                                    4                                    0   \n",
       "318                                    2                                    4   \n",
       "319                                    4                                    3   \n",
       "320                                    1                                    0   \n",
       "\n",
       "     No.98の画像があなたの好みであるかを0から10で評価してください．  No.99の画像があなたの好みであるかを0から10で評価してください．  \\\n",
       "0                                      5                                    0   \n",
       "1                                      5                                    1   \n",
       "2                                      7                                    0   \n",
       "3                                      4                                    0   \n",
       "4                                      3                                    3   \n",
       "..                                   ...                                  ...   \n",
       "316                                    0                                    0   \n",
       "317                                   10                                    1   \n",
       "318                                    3                                    0   \n",
       "319                                    5                                    4   \n",
       "320                                    5                                    0   \n",
       "\n",
       "     No.100の画像があなたの好みであるかを0から10で評価してください．  \n",
       "0                                       5  \n",
       "1                                       6  \n",
       "2                                      10  \n",
       "3                                       3  \n",
       "4                                       4  \n",
       "..                                    ...  \n",
       "316                                     0  \n",
       "317                                     5  \n",
       "318                                     2  \n",
       "319                                     4  \n",
       "320                                     0  \n",
       "\n",
       "[647 rows x 100 columns]"
      ]
     },
     "execution_count": 35,
     "metadata": {},
     "output_type": "execute_result"
    }
   ],
   "source": [
    "df_data"
   ]
  },
  {
   "cell_type": "code",
   "execution_count": 36,
   "metadata": {},
   "outputs": [],
   "source": [
    "from sklearn.decomposition import PCA"
   ]
  },
  {
   "cell_type": "code",
   "execution_count": 37,
   "metadata": {},
   "outputs": [
    {
     "data": {
      "text/html": [
       "<style>#sk-container-id-5 {color: black;background-color: white;}#sk-container-id-5 pre{padding: 0;}#sk-container-id-5 div.sk-toggleable {background-color: white;}#sk-container-id-5 label.sk-toggleable__label {cursor: pointer;display: block;width: 100%;margin-bottom: 0;padding: 0.3em;box-sizing: border-box;text-align: center;}#sk-container-id-5 label.sk-toggleable__label-arrow:before {content: \"▸\";float: left;margin-right: 0.25em;color: #696969;}#sk-container-id-5 label.sk-toggleable__label-arrow:hover:before {color: black;}#sk-container-id-5 div.sk-estimator:hover label.sk-toggleable__label-arrow:before {color: black;}#sk-container-id-5 div.sk-toggleable__content {max-height: 0;max-width: 0;overflow: hidden;text-align: left;background-color: #f0f8ff;}#sk-container-id-5 div.sk-toggleable__content pre {margin: 0.2em;color: black;border-radius: 0.25em;background-color: #f0f8ff;}#sk-container-id-5 input.sk-toggleable__control:checked~div.sk-toggleable__content {max-height: 200px;max-width: 100%;overflow: auto;}#sk-container-id-5 input.sk-toggleable__control:checked~label.sk-toggleable__label-arrow:before {content: \"▾\";}#sk-container-id-5 div.sk-estimator input.sk-toggleable__control:checked~label.sk-toggleable__label {background-color: #d4ebff;}#sk-container-id-5 div.sk-label input.sk-toggleable__control:checked~label.sk-toggleable__label {background-color: #d4ebff;}#sk-container-id-5 input.sk-hidden--visually {border: 0;clip: rect(1px 1px 1px 1px);clip: rect(1px, 1px, 1px, 1px);height: 1px;margin: -1px;overflow: hidden;padding: 0;position: absolute;width: 1px;}#sk-container-id-5 div.sk-estimator {font-family: monospace;background-color: #f0f8ff;border: 1px dotted black;border-radius: 0.25em;box-sizing: border-box;margin-bottom: 0.5em;}#sk-container-id-5 div.sk-estimator:hover {background-color: #d4ebff;}#sk-container-id-5 div.sk-parallel-item::after {content: \"\";width: 100%;border-bottom: 1px solid gray;flex-grow: 1;}#sk-container-id-5 div.sk-label:hover label.sk-toggleable__label {background-color: #d4ebff;}#sk-container-id-5 div.sk-serial::before {content: \"\";position: absolute;border-left: 1px solid gray;box-sizing: border-box;top: 0;bottom: 0;left: 50%;z-index: 0;}#sk-container-id-5 div.sk-serial {display: flex;flex-direction: column;align-items: center;background-color: white;padding-right: 0.2em;padding-left: 0.2em;position: relative;}#sk-container-id-5 div.sk-item {position: relative;z-index: 1;}#sk-container-id-5 div.sk-parallel {display: flex;align-items: stretch;justify-content: center;background-color: white;position: relative;}#sk-container-id-5 div.sk-item::before, #sk-container-id-5 div.sk-parallel-item::before {content: \"\";position: absolute;border-left: 1px solid gray;box-sizing: border-box;top: 0;bottom: 0;left: 50%;z-index: -1;}#sk-container-id-5 div.sk-parallel-item {display: flex;flex-direction: column;z-index: 1;position: relative;background-color: white;}#sk-container-id-5 div.sk-parallel-item:first-child::after {align-self: flex-end;width: 50%;}#sk-container-id-5 div.sk-parallel-item:last-child::after {align-self: flex-start;width: 50%;}#sk-container-id-5 div.sk-parallel-item:only-child::after {width: 0;}#sk-container-id-5 div.sk-dashed-wrapped {border: 1px dashed gray;margin: 0 0.4em 0.5em 0.4em;box-sizing: border-box;padding-bottom: 0.4em;background-color: white;}#sk-container-id-5 div.sk-label label {font-family: monospace;font-weight: bold;display: inline-block;line-height: 1.2em;}#sk-container-id-5 div.sk-label-container {text-align: center;}#sk-container-id-5 div.sk-container {/* jupyter's `normalize.less` sets `[hidden] { display: none; }` but bootstrap.min.css set `[hidden] { display: none !important; }` so we also need the `!important` here to be able to override the default hidden behavior on the sphinx rendered scikit-learn.org. See: https://github.com/scikit-learn/scikit-learn/issues/21755 */display: inline-block !important;position: relative;}#sk-container-id-5 div.sk-text-repr-fallback {display: none;}</style><div id=\"sk-container-id-5\" class=\"sk-top-container\"><div class=\"sk-text-repr-fallback\"><pre>PCA(n_components=15)</pre><b>In a Jupyter environment, please rerun this cell to show the HTML representation or trust the notebook. <br />On GitHub, the HTML representation is unable to render, please try loading this page with nbviewer.org.</b></div><div class=\"sk-container\" hidden><div class=\"sk-item\"><div class=\"sk-estimator sk-toggleable\"><input class=\"sk-toggleable__control sk-hidden--visually\" id=\"sk-estimator-id-5\" type=\"checkbox\" checked><label for=\"sk-estimator-id-5\" class=\"sk-toggleable__label sk-toggleable__label-arrow\">PCA</label><div class=\"sk-toggleable__content\"><pre>PCA(n_components=15)</pre></div></div></div></div></div>"
      ],
      "text/plain": [
       "PCA(n_components=15)"
      ]
     },
     "execution_count": 37,
     "metadata": {},
     "output_type": "execute_result"
    }
   ],
   "source": [
    "pca = PCA(n_components=15)\n",
    "pca.fit(df_data)"
   ]
  },
  {
   "cell_type": "code",
   "execution_count": 38,
   "metadata": {},
   "outputs": [
    {
     "name": "stdout",
     "output_type": "stream",
     "text": [
      "主成分: \n",
      "[[ 0.07464914  0.07486257  0.09261701 ...  0.07352452  0.03905475\n",
      "   0.10959158]\n",
      " [-0.05656631  0.06163656  0.0622826  ... -0.07353819  0.0344126\n",
      "  -0.01602951]\n",
      " [ 0.06447014 -0.09589259  0.14631352 ... -0.1094986  -0.04181962\n",
      "  -0.08461796]\n",
      " ...\n",
      " [-0.27437122 -0.06892393 -0.06407158 ...  0.19238165 -0.09491497\n",
      "   0.06932141]\n",
      " [ 0.03188098 -0.01385873 -0.06803564 ... -0.10557552 -0.03721938\n",
      "   0.1660789 ]\n",
      " [ 0.17525751  0.0411593  -0.04930877 ...  0.36607189  0.03647187\n",
      "  -0.05708484]]\n",
      "分散: \n",
      "[210.21438003  38.39193494  26.20640357  20.11412122  15.38136367\n",
      "  14.61760927  10.68822881   9.42549006   8.55942406   7.62648007\n",
      "   7.2072062    6.77141378   6.65790666   6.20046432   5.78901197]\n",
      "寄与率: \n",
      "[0.37106634 0.0677687  0.04625903 0.03550506 0.02715088 0.02580272\n",
      " 0.01886665 0.01663769 0.01510893 0.01346211 0.01272202 0.01195277\n",
      " 0.01175241 0.01094494 0.01021865]\n"
     ]
    }
   ],
   "source": [
    "print(f\"主成分: \\n{pca.components_}\")\n",
    "print(f\"分散: \\n{pca.explained_variance_}\")\n",
    "print(f\"寄与率: \\n{pca.explained_variance_ratio_}\")"
   ]
  },
  {
   "cell_type": "code",
   "execution_count": 39,
   "metadata": {},
   "outputs": [],
   "source": [
    "from sklearn.decomposition import NMF"
   ]
  },
  {
   "cell_type": "code",
   "execution_count": 40,
   "metadata": {},
   "outputs": [
    {
     "data": {
      "text/html": [
       "<style>#sk-container-id-6 {color: black;background-color: white;}#sk-container-id-6 pre{padding: 0;}#sk-container-id-6 div.sk-toggleable {background-color: white;}#sk-container-id-6 label.sk-toggleable__label {cursor: pointer;display: block;width: 100%;margin-bottom: 0;padding: 0.3em;box-sizing: border-box;text-align: center;}#sk-container-id-6 label.sk-toggleable__label-arrow:before {content: \"▸\";float: left;margin-right: 0.25em;color: #696969;}#sk-container-id-6 label.sk-toggleable__label-arrow:hover:before {color: black;}#sk-container-id-6 div.sk-estimator:hover label.sk-toggleable__label-arrow:before {color: black;}#sk-container-id-6 div.sk-toggleable__content {max-height: 0;max-width: 0;overflow: hidden;text-align: left;background-color: #f0f8ff;}#sk-container-id-6 div.sk-toggleable__content pre {margin: 0.2em;color: black;border-radius: 0.25em;background-color: #f0f8ff;}#sk-container-id-6 input.sk-toggleable__control:checked~div.sk-toggleable__content {max-height: 200px;max-width: 100%;overflow: auto;}#sk-container-id-6 input.sk-toggleable__control:checked~label.sk-toggleable__label-arrow:before {content: \"▾\";}#sk-container-id-6 div.sk-estimator input.sk-toggleable__control:checked~label.sk-toggleable__label {background-color: #d4ebff;}#sk-container-id-6 div.sk-label input.sk-toggleable__control:checked~label.sk-toggleable__label {background-color: #d4ebff;}#sk-container-id-6 input.sk-hidden--visually {border: 0;clip: rect(1px 1px 1px 1px);clip: rect(1px, 1px, 1px, 1px);height: 1px;margin: -1px;overflow: hidden;padding: 0;position: absolute;width: 1px;}#sk-container-id-6 div.sk-estimator {font-family: monospace;background-color: #f0f8ff;border: 1px dotted black;border-radius: 0.25em;box-sizing: border-box;margin-bottom: 0.5em;}#sk-container-id-6 div.sk-estimator:hover {background-color: #d4ebff;}#sk-container-id-6 div.sk-parallel-item::after {content: \"\";width: 100%;border-bottom: 1px solid gray;flex-grow: 1;}#sk-container-id-6 div.sk-label:hover label.sk-toggleable__label {background-color: #d4ebff;}#sk-container-id-6 div.sk-serial::before {content: \"\";position: absolute;border-left: 1px solid gray;box-sizing: border-box;top: 0;bottom: 0;left: 50%;z-index: 0;}#sk-container-id-6 div.sk-serial {display: flex;flex-direction: column;align-items: center;background-color: white;padding-right: 0.2em;padding-left: 0.2em;position: relative;}#sk-container-id-6 div.sk-item {position: relative;z-index: 1;}#sk-container-id-6 div.sk-parallel {display: flex;align-items: stretch;justify-content: center;background-color: white;position: relative;}#sk-container-id-6 div.sk-item::before, #sk-container-id-6 div.sk-parallel-item::before {content: \"\";position: absolute;border-left: 1px solid gray;box-sizing: border-box;top: 0;bottom: 0;left: 50%;z-index: -1;}#sk-container-id-6 div.sk-parallel-item {display: flex;flex-direction: column;z-index: 1;position: relative;background-color: white;}#sk-container-id-6 div.sk-parallel-item:first-child::after {align-self: flex-end;width: 50%;}#sk-container-id-6 div.sk-parallel-item:last-child::after {align-self: flex-start;width: 50%;}#sk-container-id-6 div.sk-parallel-item:only-child::after {width: 0;}#sk-container-id-6 div.sk-dashed-wrapped {border: 1px dashed gray;margin: 0 0.4em 0.5em 0.4em;box-sizing: border-box;padding-bottom: 0.4em;background-color: white;}#sk-container-id-6 div.sk-label label {font-family: monospace;font-weight: bold;display: inline-block;line-height: 1.2em;}#sk-container-id-6 div.sk-label-container {text-align: center;}#sk-container-id-6 div.sk-container {/* jupyter's `normalize.less` sets `[hidden] { display: none; }` but bootstrap.min.css set `[hidden] { display: none !important; }` so we also need the `!important` here to be able to override the default hidden behavior on the sphinx rendered scikit-learn.org. See: https://github.com/scikit-learn/scikit-learn/issues/21755 */display: inline-block !important;position: relative;}#sk-container-id-6 div.sk-text-repr-fallback {display: none;}</style><div id=\"sk-container-id-6\" class=\"sk-top-container\"><div class=\"sk-text-repr-fallback\"><pre>NMF(max_iter=1000, n_components=15, random_state=0)</pre><b>In a Jupyter environment, please rerun this cell to show the HTML representation or trust the notebook. <br />On GitHub, the HTML representation is unable to render, please try loading this page with nbviewer.org.</b></div><div class=\"sk-container\" hidden><div class=\"sk-item\"><div class=\"sk-estimator sk-toggleable\"><input class=\"sk-toggleable__control sk-hidden--visually\" id=\"sk-estimator-id-6\" type=\"checkbox\" checked><label for=\"sk-estimator-id-6\" class=\"sk-toggleable__label sk-toggleable__label-arrow\">NMF</label><div class=\"sk-toggleable__content\"><pre>NMF(max_iter=1000, n_components=15, random_state=0)</pre></div></div></div></div></div>"
      ],
      "text/plain": [
       "NMF(max_iter=1000, n_components=15, random_state=0)"
      ]
     },
     "execution_count": 40,
     "metadata": {},
     "output_type": "execute_result"
    }
   ],
   "source": [
    "nmf = NMF(n_components=15, random_state=0, max_iter=1000)\n",
    "nmf.fit(df_data)"
   ]
  },
  {
   "cell_type": "code",
   "execution_count": 41,
   "metadata": {},
   "outputs": [
    {
     "name": "stdout",
     "output_type": "stream",
     "text": [
      "主成分: \n",
      "[[ 5.61677869  0.50071552  0.         ... 11.32418055  0.\n",
      "   3.89110575]\n",
      " [ 0.          0.          0.         ...  0.          0.\n",
      "   5.97895663]\n",
      " [ 7.86103124  0.          0.         ...  0.          0.\n",
      "   0.        ]\n",
      " ...\n",
      " [ 0.          0.          0.         ...  0.          0.\n",
      "   0.9771408 ]\n",
      " [ 2.30657928  0.27354288  0.         ...  0.          0.\n",
      "   2.20073404]\n",
      " [ 0.          0.          0.         ...  0.          0.\n",
      "   4.88500223]]\n"
     ]
    }
   ],
   "source": [
    "print(f\"主成分: \\n{nmf.components_}\")"
   ]
  },
  {
   "cell_type": "code",
   "execution_count": 42,
   "metadata": {},
   "outputs": [],
   "source": [
    "all['No'] = range(647)"
   ]
  },
  {
   "cell_type": "code",
   "execution_count": 43,
   "metadata": {},
   "outputs": [],
   "source": [
    "df_target = all[\"No\"]"
   ]
  },
  {
   "cell_type": "code",
   "execution_count": 44,
   "metadata": {},
   "outputs": [
    {
     "data": {
      "text/plain": [
       "0        0\n",
       "1        1\n",
       "2        2\n",
       "3        3\n",
       "4        4\n",
       "      ... \n",
       "316    642\n",
       "317    643\n",
       "318    644\n",
       "319    645\n",
       "320    646\n",
       "Name: No, Length: 647, dtype: int64"
      ]
     },
     "execution_count": 44,
     "metadata": {},
     "output_type": "execute_result"
    }
   ],
   "source": [
    "df_target"
   ]
  },
  {
   "cell_type": "code",
   "execution_count": 45,
   "metadata": {},
   "outputs": [],
   "source": [
    "from sklearn.model_selection import train_test_split"
   ]
  },
  {
   "cell_type": "code",
   "execution_count": 47,
   "metadata": {},
   "outputs": [],
   "source": [
    "train, test = train_test_split(df_data, test_size=0.3)"
   ]
  },
  {
   "cell_type": "code",
   "execution_count": 60,
   "metadata": {},
   "outputs": [],
   "source": [
    "model_15 = NMF(n_components=15, random_state=0, max_iter=1000)\n",
    "W = model_15.fit_transform(train)\n",
    "H = model_15.components_"
   ]
  },
  {
   "cell_type": "code",
   "execution_count": 61,
   "metadata": {},
   "outputs": [
    {
     "name": "stdout",
     "output_type": "stream",
     "text": [
      "(452, 15) (15, 100)\n"
     ]
    }
   ],
   "source": [
    "print(W.shape, H.shape)"
   ]
  },
  {
   "cell_type": "code",
   "execution_count": 53,
   "metadata": {},
   "outputs": [
    {
     "data": {
      "text/plain": [
       "(452, 100)"
      ]
     },
     "execution_count": 53,
     "metadata": {},
     "output_type": "execute_result"
    }
   ],
   "source": [
    "np.dot(W, H).shape"
   ]
  },
  {
   "cell_type": "code",
   "execution_count": 54,
   "metadata": {},
   "outputs": [
    {
     "data": {
      "text/plain": [
       "(452, 100)"
      ]
     },
     "execution_count": 54,
     "metadata": {},
     "output_type": "execute_result"
    }
   ],
   "source": [
    "train.shape"
   ]
  },
  {
   "cell_type": "code",
   "execution_count": 59,
   "metadata": {},
   "outputs": [
    {
     "data": {
      "text/plain": [
       "1.8653675012659972"
      ]
     },
     "execution_count": 59,
     "metadata": {},
     "output_type": "execute_result"
    }
   ],
   "source": [
    "np.sum((train.values-np.dot(W, H))**2/(452*100))"
   ]
  },
  {
   "cell_type": "code",
   "execution_count": null,
   "metadata": {},
   "outputs": [],
   "source": [
    "model_15.transform()"
   ]
  }
 ],
 "metadata": {
  "kernelspec": {
   "display_name": "Python 3.9.10 64-bit ('3.9.10')",
   "language": "python",
   "name": "python3"
  },
  "language_info": {
   "codemirror_mode": {
    "name": "ipython",
    "version": 3
   },
   "file_extension": ".py",
   "mimetype": "text/x-python",
   "name": "python",
   "nbconvert_exporter": "python",
   "pygments_lexer": "ipython3",
   "version": "3.9.10"
  },
  "orig_nbformat": 4,
  "vscode": {
   "interpreter": {
    "hash": "2b1c635185487be68638d8850dd103d54f9138846c75fd774b40de886c2b5265"
   }
  }
 },
 "nbformat": 4,
 "nbformat_minor": 2
}
