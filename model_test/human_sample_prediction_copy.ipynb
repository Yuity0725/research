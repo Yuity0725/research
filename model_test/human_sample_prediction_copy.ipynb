{
 "cells": [
  {
   "cell_type": "code",
   "execution_count": 1,
   "metadata": {},
   "outputs": [],
   "source": [
    "import japanize_matplotlib\n",
    "import statistics\n",
    "\n",
    "import numpy as np\n",
    "import pandas as pd\n",
    "import seaborn as sns\n",
    "import matplotlib.pyplot as plt\n",
    "\n",
    "from pprint import pprint\n",
    "from sklearn.metrics import mean_absolute_error\n",
    "from tqdm.auto import tqdm"
   ]
  },
  {
   "cell_type": "code",
   "execution_count": 2,
   "metadata": {},
   "outputs": [],
   "source": [
    "plt.rcParams[\"font.family\"] = \"IPAexGothic\""
   ]
  },
  {
   "cell_type": "code",
   "execution_count": 3,
   "metadata": {},
   "outputs": [],
   "source": [
    "def W_n(n):\n",
    "    random_state = 0\n",
    "    W = np.load(f\"nmf_w/nmf_w_r{str(random_state)}/nmf_w_{n}.npy\")\n",
    "    return W"
   ]
  },
  {
   "cell_type": "code",
   "execution_count": 4,
   "metadata": {},
   "outputs": [],
   "source": [
    "df_result = pd.read_csv(\"human0821.csv\")\n",
    "df_gt = pd.read_csv(\"all_data.csv\", index_col=0)"
   ]
  },
  {
   "cell_type": "code",
   "execution_count": 5,
   "metadata": {},
   "outputs": [
    {
     "data": {
      "application/vnd.jupyter.widget-view+json": {
       "model_id": "eae3a992259742559d9ffbd31373e26d",
       "version_major": 2,
       "version_minor": 0
      },
      "text/plain": [
       "  0%|          | 0/25 [00:00<?, ?it/s]"
      ]
     },
     "metadata": {},
     "output_type": "display_data"
    }
   ],
   "source": [
    "matrix_dict = {}\n",
    "\n",
    "for dim in tqdm(range(5, 30)):\n",
    "    matrix_dict[dim] = [\n",
    "        np.load(f\"nmf_w/drop_selected/nmf_w_r{i}/nmf_w_{dim}_r{i}.npy\") for i in range(1000)\n",
    "    ]"
   ]
  },
  {
   "cell_type": "code",
   "execution_count": 6,
   "metadata": {},
   "outputs": [
    {
     "data": {
      "text/plain": [
       "(100, 5)"
      ]
     },
     "execution_count": 6,
     "metadata": {},
     "output_type": "execute_result"
    }
   ],
   "source": [
    "np.load(\"nmf_w/drop_selected/nmf_w_r0/nmf_w_5_r0.npy\").shape"
   ]
  },
  {
   "cell_type": "code",
   "execution_count": 8,
   "metadata": {},
   "outputs": [
    {
     "data": {
      "application/vnd.jupyter.widget-view+json": {
       "model_id": "79ec8581ed82489ab2b538bfa6c30822",
       "version_major": 2,
       "version_minor": 0
      },
      "text/plain": [
       "0it [00:00, ?it/s]"
      ]
     },
     "metadata": {},
     "output_type": "display_data"
    },
    {
     "data": {
      "application/vnd.jupyter.widget-view+json": {
       "model_id": "51249c14ae2e4c65b4a74791fdf5ea2a",
       "version_major": 2,
       "version_minor": 0
      },
      "text/plain": [
       "  0%|          | 0/25 [00:00<?, ?it/s]"
      ]
     },
     "metadata": {},
     "output_type": "display_data"
    },
    {
     "data": {
      "application/vnd.jupyter.widget-view+json": {
       "model_id": "81ab45a1127d4457b5ea7482f7f4cee1",
       "version_major": 2,
       "version_minor": 0
      },
      "text/plain": [
       "  0%|          | 0/1000 [00:00<?, ?it/s]"
      ]
     },
     "metadata": {},
     "output_type": "display_data"
    },
    {
     "data": {
      "application/vnd.jupyter.widget-view+json": {
       "model_id": "c0914801584444d4ba369abd5c0bb2ef",
       "version_major": 2,
       "version_minor": 0
      },
      "text/plain": [
       "  0%|          | 0/1000 [00:00<?, ?it/s]"
      ]
     },
     "metadata": {},
     "output_type": "display_data"
    },
    {
     "data": {
      "application/vnd.jupyter.widget-view+json": {
       "model_id": "7e4c7c0efdc4434db9dd0aca492c09a2",
       "version_major": 2,
       "version_minor": 0
      },
      "text/plain": [
       "  0%|          | 0/1000 [00:00<?, ?it/s]"
      ]
     },
     "metadata": {},
     "output_type": "display_data"
    },
    {
     "data": {
      "application/vnd.jupyter.widget-view+json": {
       "model_id": "89bc2622d609454c81b33ccf8bc425e7",
       "version_major": 2,
       "version_minor": 0
      },
      "text/plain": [
       "  0%|          | 0/1000 [00:00<?, ?it/s]"
      ]
     },
     "metadata": {},
     "output_type": "display_data"
    },
    {
     "data": {
      "application/vnd.jupyter.widget-view+json": {
       "model_id": "73734251d6564163b274f7def26fdecb",
       "version_major": 2,
       "version_minor": 0
      },
      "text/plain": [
       "  0%|          | 0/1000 [00:00<?, ?it/s]"
      ]
     },
     "metadata": {},
     "output_type": "display_data"
    },
    {
     "data": {
      "application/vnd.jupyter.widget-view+json": {
       "model_id": "f354b79dda62418ea1d9f7b1259bbce2",
       "version_major": 2,
       "version_minor": 0
      },
      "text/plain": [
       "  0%|          | 0/1000 [00:00<?, ?it/s]"
      ]
     },
     "metadata": {},
     "output_type": "display_data"
    },
    {
     "data": {
      "application/vnd.jupyter.widget-view+json": {
       "model_id": "98fa198c127b4b08b62959be41ae2e71",
       "version_major": 2,
       "version_minor": 0
      },
      "text/plain": [
       "  0%|          | 0/1000 [00:00<?, ?it/s]"
      ]
     },
     "metadata": {},
     "output_type": "display_data"
    },
    {
     "data": {
      "application/vnd.jupyter.widget-view+json": {
       "model_id": "7f3cb9a5c8b8496fa25f56868a925e99",
       "version_major": 2,
       "version_minor": 0
      },
      "text/plain": [
       "  0%|          | 0/1000 [00:00<?, ?it/s]"
      ]
     },
     "metadata": {},
     "output_type": "display_data"
    },
    {
     "data": {
      "application/vnd.jupyter.widget-view+json": {
       "model_id": "adbb5349bc764d189aa345e444e3bd3d",
       "version_major": 2,
       "version_minor": 0
      },
      "text/plain": [
       "  0%|          | 0/1000 [00:00<?, ?it/s]"
      ]
     },
     "metadata": {},
     "output_type": "display_data"
    },
    {
     "data": {
      "application/vnd.jupyter.widget-view+json": {
       "model_id": "ded6fb8221e444cfb86a11fb354f8226",
       "version_major": 2,
       "version_minor": 0
      },
      "text/plain": [
       "  0%|          | 0/1000 [00:00<?, ?it/s]"
      ]
     },
     "metadata": {},
     "output_type": "display_data"
    },
    {
     "data": {
      "application/vnd.jupyter.widget-view+json": {
       "model_id": "53186f5a2e29407c9097f02a3a44e486",
       "version_major": 2,
       "version_minor": 0
      },
      "text/plain": [
       "  0%|          | 0/1000 [00:00<?, ?it/s]"
      ]
     },
     "metadata": {},
     "output_type": "display_data"
    },
    {
     "data": {
      "application/vnd.jupyter.widget-view+json": {
       "model_id": "10f0b787c9cd4258b864a5993de97793",
       "version_major": 2,
       "version_minor": 0
      },
      "text/plain": [
       "  0%|          | 0/1000 [00:00<?, ?it/s]"
      ]
     },
     "metadata": {},
     "output_type": "display_data"
    },
    {
     "data": {
      "application/vnd.jupyter.widget-view+json": {
       "model_id": "1ba0e12e6a8a4c99b70c70fe0335b436",
       "version_major": 2,
       "version_minor": 0
      },
      "text/plain": [
       "  0%|          | 0/1000 [00:00<?, ?it/s]"
      ]
     },
     "metadata": {},
     "output_type": "display_data"
    },
    {
     "data": {
      "application/vnd.jupyter.widget-view+json": {
       "model_id": "56d81d9b7a0345a894ea40a230892034",
       "version_major": 2,
       "version_minor": 0
      },
      "text/plain": [
       "  0%|          | 0/1000 [00:00<?, ?it/s]"
      ]
     },
     "metadata": {},
     "output_type": "display_data"
    },
    {
     "data": {
      "application/vnd.jupyter.widget-view+json": {
       "model_id": "b55a68f2dcae4b5ba78c51e583ba5b25",
       "version_major": 2,
       "version_minor": 0
      },
      "text/plain": [
       "  0%|          | 0/1000 [00:00<?, ?it/s]"
      ]
     },
     "metadata": {},
     "output_type": "display_data"
    },
    {
     "data": {
      "application/vnd.jupyter.widget-view+json": {
       "model_id": "ce4c1fa66e5e42d3a1d8e0e30643c3c8",
       "version_major": 2,
       "version_minor": 0
      },
      "text/plain": [
       "  0%|          | 0/1000 [00:00<?, ?it/s]"
      ]
     },
     "metadata": {},
     "output_type": "display_data"
    },
    {
     "data": {
      "application/vnd.jupyter.widget-view+json": {
       "model_id": "95d3ec0182c641a39f10c3bfebae15db",
       "version_major": 2,
       "version_minor": 0
      },
      "text/plain": [
       "  0%|          | 0/1000 [00:00<?, ?it/s]"
      ]
     },
     "metadata": {},
     "output_type": "display_data"
    },
    {
     "data": {
      "application/vnd.jupyter.widget-view+json": {
       "model_id": "486540a7f0f04108bcba69bde92512c6",
       "version_major": 2,
       "version_minor": 0
      },
      "text/plain": [
       "  0%|          | 0/1000 [00:00<?, ?it/s]"
      ]
     },
     "metadata": {},
     "output_type": "display_data"
    },
    {
     "data": {
      "application/vnd.jupyter.widget-view+json": {
       "model_id": "ba02839d05c34c848c3d8b763f781af7",
       "version_major": 2,
       "version_minor": 0
      },
      "text/plain": [
       "  0%|          | 0/1000 [00:00<?, ?it/s]"
      ]
     },
     "metadata": {},
     "output_type": "display_data"
    },
    {
     "data": {
      "application/vnd.jupyter.widget-view+json": {
       "model_id": "596cf535cadd4c2ebb7ef7bc64948b2b",
       "version_major": 2,
       "version_minor": 0
      },
      "text/plain": [
       "  0%|          | 0/1000 [00:00<?, ?it/s]"
      ]
     },
     "metadata": {},
     "output_type": "display_data"
    },
    {
     "data": {
      "application/vnd.jupyter.widget-view+json": {
       "model_id": "aca70ab98d22449dbfafcd52614e941b",
       "version_major": 2,
       "version_minor": 0
      },
      "text/plain": [
       "  0%|          | 0/1000 [00:00<?, ?it/s]"
      ]
     },
     "metadata": {},
     "output_type": "display_data"
    },
    {
     "data": {
      "application/vnd.jupyter.widget-view+json": {
       "model_id": "30651a33bec946a78f83689efc5e2762",
       "version_major": 2,
       "version_minor": 0
      },
      "text/plain": [
       "  0%|          | 0/1000 [00:00<?, ?it/s]"
      ]
     },
     "metadata": {},
     "output_type": "display_data"
    },
    {
     "data": {
      "application/vnd.jupyter.widget-view+json": {
       "model_id": "80d3850cc08d4926b4c52cd066eeffcc",
       "version_major": 2,
       "version_minor": 0
      },
      "text/plain": [
       "  0%|          | 0/1000 [00:00<?, ?it/s]"
      ]
     },
     "metadata": {},
     "output_type": "display_data"
    },
    {
     "data": {
      "application/vnd.jupyter.widget-view+json": {
       "model_id": "5f0b784d423048db8bc90a8451b322f6",
       "version_major": 2,
       "version_minor": 0
      },
      "text/plain": [
       "  0%|          | 0/1000 [00:00<?, ?it/s]"
      ]
     },
     "metadata": {},
     "output_type": "display_data"
    },
    {
     "data": {
      "application/vnd.jupyter.widget-view+json": {
       "model_id": "c7de51df549f4390a596b8afca437192",
       "version_major": 2,
       "version_minor": 0
      },
      "text/plain": [
       "  0%|          | 0/1000 [00:00<?, ?it/s]"
      ]
     },
     "metadata": {},
     "output_type": "display_data"
    },
    {
     "data": {
      "application/vnd.jupyter.widget-view+json": {
       "model_id": "e829f9275329420c8ab8ffcc3aaa0366",
       "version_major": 2,
       "version_minor": 0
      },
      "text/plain": [
       "  0%|          | 0/25 [00:00<?, ?it/s]"
      ]
     },
     "metadata": {},
     "output_type": "display_data"
    },
    {
     "data": {
      "application/vnd.jupyter.widget-view+json": {
       "model_id": "bbb2b9af65d3412483010a686c450cc2",
       "version_major": 2,
       "version_minor": 0
      },
      "text/plain": [
       "  0%|          | 0/1000 [00:00<?, ?it/s]"
      ]
     },
     "metadata": {},
     "output_type": "display_data"
    },
    {
     "data": {
      "application/vnd.jupyter.widget-view+json": {
       "model_id": "f30808150c7f4203838f3bf8f1b7adf5",
       "version_major": 2,
       "version_minor": 0
      },
      "text/plain": [
       "  0%|          | 0/1000 [00:00<?, ?it/s]"
      ]
     },
     "metadata": {},
     "output_type": "display_data"
    },
    {
     "data": {
      "application/vnd.jupyter.widget-view+json": {
       "model_id": "e89af2df068f49daac6465737bbacaaf",
       "version_major": 2,
       "version_minor": 0
      },
      "text/plain": [
       "  0%|          | 0/1000 [00:00<?, ?it/s]"
      ]
     },
     "metadata": {},
     "output_type": "display_data"
    },
    {
     "data": {
      "application/vnd.jupyter.widget-view+json": {
       "model_id": "bbf8a3abf3f04ee18b3a42b8ac3d757a",
       "version_major": 2,
       "version_minor": 0
      },
      "text/plain": [
       "  0%|          | 0/1000 [00:00<?, ?it/s]"
      ]
     },
     "metadata": {},
     "output_type": "display_data"
    },
    {
     "data": {
      "application/vnd.jupyter.widget-view+json": {
       "model_id": "b6d658febee6489084849bf215c32b7c",
       "version_major": 2,
       "version_minor": 0
      },
      "text/plain": [
       "  0%|          | 0/1000 [00:00<?, ?it/s]"
      ]
     },
     "metadata": {},
     "output_type": "display_data"
    },
    {
     "data": {
      "application/vnd.jupyter.widget-view+json": {
       "model_id": "3ae6ccd9187149af98ae3f60239bc586",
       "version_major": 2,
       "version_minor": 0
      },
      "text/plain": [
       "  0%|          | 0/1000 [00:00<?, ?it/s]"
      ]
     },
     "metadata": {},
     "output_type": "display_data"
    },
    {
     "data": {
      "application/vnd.jupyter.widget-view+json": {
       "model_id": "30048d22e8a240d482996fdd257a3282",
       "version_major": 2,
       "version_minor": 0
      },
      "text/plain": [
       "  0%|          | 0/1000 [00:00<?, ?it/s]"
      ]
     },
     "metadata": {},
     "output_type": "display_data"
    },
    {
     "data": {
      "application/vnd.jupyter.widget-view+json": {
       "model_id": "2a35528652754d24aeb017796f1e9559",
       "version_major": 2,
       "version_minor": 0
      },
      "text/plain": [
       "  0%|          | 0/1000 [00:00<?, ?it/s]"
      ]
     },
     "metadata": {},
     "output_type": "display_data"
    },
    {
     "data": {
      "application/vnd.jupyter.widget-view+json": {
       "model_id": "55c69783fd7b472590a5f2cec9394b2c",
       "version_major": 2,
       "version_minor": 0
      },
      "text/plain": [
       "  0%|          | 0/1000 [00:00<?, ?it/s]"
      ]
     },
     "metadata": {},
     "output_type": "display_data"
    },
    {
     "data": {
      "application/vnd.jupyter.widget-view+json": {
       "model_id": "cfc36ce039144d33b73adbf49d54ef61",
       "version_major": 2,
       "version_minor": 0
      },
      "text/plain": [
       "  0%|          | 0/1000 [00:00<?, ?it/s]"
      ]
     },
     "metadata": {},
     "output_type": "display_data"
    },
    {
     "data": {
      "application/vnd.jupyter.widget-view+json": {
       "model_id": "bffc9bbd557043ebac6be6d85cd205d7",
       "version_major": 2,
       "version_minor": 0
      },
      "text/plain": [
       "  0%|          | 0/1000 [00:00<?, ?it/s]"
      ]
     },
     "metadata": {},
     "output_type": "display_data"
    },
    {
     "data": {
      "application/vnd.jupyter.widget-view+json": {
       "model_id": "6f4ee707230d4449bc8bde3b35dfce8a",
       "version_major": 2,
       "version_minor": 0
      },
      "text/plain": [
       "  0%|          | 0/1000 [00:00<?, ?it/s]"
      ]
     },
     "metadata": {},
     "output_type": "display_data"
    },
    {
     "data": {
      "application/vnd.jupyter.widget-view+json": {
       "model_id": "093e5d4ba47447dcb80e62c3d13f7c54",
       "version_major": 2,
       "version_minor": 0
      },
      "text/plain": [
       "  0%|          | 0/1000 [00:00<?, ?it/s]"
      ]
     },
     "metadata": {},
     "output_type": "display_data"
    },
    {
     "data": {
      "application/vnd.jupyter.widget-view+json": {
       "model_id": "6627f10058684b739c03137ff918e058",
       "version_major": 2,
       "version_minor": 0
      },
      "text/plain": [
       "  0%|          | 0/1000 [00:00<?, ?it/s]"
      ]
     },
     "metadata": {},
     "output_type": "display_data"
    },
    {
     "data": {
      "application/vnd.jupyter.widget-view+json": {
       "model_id": "c9c157d508e643f99e8cfaf6321287f3",
       "version_major": 2,
       "version_minor": 0
      },
      "text/plain": [
       "  0%|          | 0/1000 [00:00<?, ?it/s]"
      ]
     },
     "metadata": {},
     "output_type": "display_data"
    },
    {
     "data": {
      "application/vnd.jupyter.widget-view+json": {
       "model_id": "1662e230d99a44ef975aa7e73ff3517a",
       "version_major": 2,
       "version_minor": 0
      },
      "text/plain": [
       "  0%|          | 0/1000 [00:00<?, ?it/s]"
      ]
     },
     "metadata": {},
     "output_type": "display_data"
    },
    {
     "data": {
      "application/vnd.jupyter.widget-view+json": {
       "model_id": "18cbdee92a4e4ecba63f163bf5bb8b1d",
       "version_major": 2,
       "version_minor": 0
      },
      "text/plain": [
       "  0%|          | 0/1000 [00:00<?, ?it/s]"
      ]
     },
     "metadata": {},
     "output_type": "display_data"
    },
    {
     "data": {
      "application/vnd.jupyter.widget-view+json": {
       "model_id": "a8edd66e203149cc85421e1aeacdd360",
       "version_major": 2,
       "version_minor": 0
      },
      "text/plain": [
       "  0%|          | 0/1000 [00:00<?, ?it/s]"
      ]
     },
     "metadata": {},
     "output_type": "display_data"
    },
    {
     "data": {
      "application/vnd.jupyter.widget-view+json": {
       "model_id": "b270cc3e5d464416ac5923f854311f65",
       "version_major": 2,
       "version_minor": 0
      },
      "text/plain": [
       "  0%|          | 0/1000 [00:00<?, ?it/s]"
      ]
     },
     "metadata": {},
     "output_type": "display_data"
    },
    {
     "data": {
      "application/vnd.jupyter.widget-view+json": {
       "model_id": "15bce2f348cb432eacedb020f0474af6",
       "version_major": 2,
       "version_minor": 0
      },
      "text/plain": [
       "  0%|          | 0/1000 [00:00<?, ?it/s]"
      ]
     },
     "metadata": {},
     "output_type": "display_data"
    },
    {
     "data": {
      "application/vnd.jupyter.widget-view+json": {
       "model_id": "8b6e2041e70444bc8faaf8ad07f701af",
       "version_major": 2,
       "version_minor": 0
      },
      "text/plain": [
       "  0%|          | 0/1000 [00:00<?, ?it/s]"
      ]
     },
     "metadata": {},
     "output_type": "display_data"
    },
    {
     "data": {
      "application/vnd.jupyter.widget-view+json": {
       "model_id": "245bd02032bc436cad8a5303c5700f73",
       "version_major": 2,
       "version_minor": 0
      },
      "text/plain": [
       "  0%|          | 0/1000 [00:00<?, ?it/s]"
      ]
     },
     "metadata": {},
     "output_type": "display_data"
    },
    {
     "data": {
      "application/vnd.jupyter.widget-view+json": {
       "model_id": "d3df6d6fa6984d1fad932b1a05b608cc",
       "version_major": 2,
       "version_minor": 0
      },
      "text/plain": [
       "  0%|          | 0/1000 [00:00<?, ?it/s]"
      ]
     },
     "metadata": {},
     "output_type": "display_data"
    },
    {
     "data": {
      "application/vnd.jupyter.widget-view+json": {
       "model_id": "41a679e57fe64a91a739f313b1f0cdc8",
       "version_major": 2,
       "version_minor": 0
      },
      "text/plain": [
       "  0%|          | 0/1000 [00:00<?, ?it/s]"
      ]
     },
     "metadata": {},
     "output_type": "display_data"
    },
    {
     "data": {
      "application/vnd.jupyter.widget-view+json": {
       "model_id": "2493ad8e408f4298b6f26651855e2fb4",
       "version_major": 2,
       "version_minor": 0
      },
      "text/plain": [
       "  0%|          | 0/1000 [00:00<?, ?it/s]"
      ]
     },
     "metadata": {},
     "output_type": "display_data"
    },
    {
     "data": {
      "application/vnd.jupyter.widget-view+json": {
       "model_id": "bf1f72b13db544929093536fb4fa751c",
       "version_major": 2,
       "version_minor": 0
      },
      "text/plain": [
       "  0%|          | 0/25 [00:00<?, ?it/s]"
      ]
     },
     "metadata": {},
     "output_type": "display_data"
    },
    {
     "data": {
      "application/vnd.jupyter.widget-view+json": {
       "model_id": "a4facfbcdc2246478f46e320ef0a96fc",
       "version_major": 2,
       "version_minor": 0
      },
      "text/plain": [
       "  0%|          | 0/1000 [00:00<?, ?it/s]"
      ]
     },
     "metadata": {},
     "output_type": "display_data"
    },
    {
     "data": {
      "application/vnd.jupyter.widget-view+json": {
       "model_id": "acdeb9212b2a445fbf36938f939c281a",
       "version_major": 2,
       "version_minor": 0
      },
      "text/plain": [
       "  0%|          | 0/1000 [00:00<?, ?it/s]"
      ]
     },
     "metadata": {},
     "output_type": "display_data"
    },
    {
     "data": {
      "application/vnd.jupyter.widget-view+json": {
       "model_id": "cd70d8214fc841a18ded0e7298cd3496",
       "version_major": 2,
       "version_minor": 0
      },
      "text/plain": [
       "  0%|          | 0/1000 [00:00<?, ?it/s]"
      ]
     },
     "metadata": {},
     "output_type": "display_data"
    },
    {
     "data": {
      "application/vnd.jupyter.widget-view+json": {
       "model_id": "49b26fab50fe4d1b8a9d860e7b7a6e77",
       "version_major": 2,
       "version_minor": 0
      },
      "text/plain": [
       "  0%|          | 0/1000 [00:00<?, ?it/s]"
      ]
     },
     "metadata": {},
     "output_type": "display_data"
    },
    {
     "data": {
      "application/vnd.jupyter.widget-view+json": {
       "model_id": "ecc74de7cd1141bea434619cd00e3968",
       "version_major": 2,
       "version_minor": 0
      },
      "text/plain": [
       "  0%|          | 0/1000 [00:00<?, ?it/s]"
      ]
     },
     "metadata": {},
     "output_type": "display_data"
    },
    {
     "data": {
      "application/vnd.jupyter.widget-view+json": {
       "model_id": "7526cf0727e44be78fbdce18e51a9142",
       "version_major": 2,
       "version_minor": 0
      },
      "text/plain": [
       "  0%|          | 0/1000 [00:00<?, ?it/s]"
      ]
     },
     "metadata": {},
     "output_type": "display_data"
    },
    {
     "data": {
      "application/vnd.jupyter.widget-view+json": {
       "model_id": "88711a69d015467e951394224cd58807",
       "version_major": 2,
       "version_minor": 0
      },
      "text/plain": [
       "  0%|          | 0/1000 [00:00<?, ?it/s]"
      ]
     },
     "metadata": {},
     "output_type": "display_data"
    },
    {
     "data": {
      "application/vnd.jupyter.widget-view+json": {
       "model_id": "0126ee19136349949df88d6fb6df9708",
       "version_major": 2,
       "version_minor": 0
      },
      "text/plain": [
       "  0%|          | 0/1000 [00:00<?, ?it/s]"
      ]
     },
     "metadata": {},
     "output_type": "display_data"
    },
    {
     "data": {
      "application/vnd.jupyter.widget-view+json": {
       "model_id": "7fef2078d3124558ae4333cd4b0681e3",
       "version_major": 2,
       "version_minor": 0
      },
      "text/plain": [
       "  0%|          | 0/1000 [00:00<?, ?it/s]"
      ]
     },
     "metadata": {},
     "output_type": "display_data"
    },
    {
     "data": {
      "application/vnd.jupyter.widget-view+json": {
       "model_id": "da919bcfcf5a4281af8540237a8e12d3",
       "version_major": 2,
       "version_minor": 0
      },
      "text/plain": [
       "  0%|          | 0/1000 [00:00<?, ?it/s]"
      ]
     },
     "metadata": {},
     "output_type": "display_data"
    },
    {
     "data": {
      "application/vnd.jupyter.widget-view+json": {
       "model_id": "130b0b516d6f4a4b96964b7f783e27f5",
       "version_major": 2,
       "version_minor": 0
      },
      "text/plain": [
       "  0%|          | 0/1000 [00:00<?, ?it/s]"
      ]
     },
     "metadata": {},
     "output_type": "display_data"
    },
    {
     "data": {
      "application/vnd.jupyter.widget-view+json": {
       "model_id": "287af7f54cfa483f8497ee0669c6b9b6",
       "version_major": 2,
       "version_minor": 0
      },
      "text/plain": [
       "  0%|          | 0/1000 [00:00<?, ?it/s]"
      ]
     },
     "metadata": {},
     "output_type": "display_data"
    },
    {
     "data": {
      "application/vnd.jupyter.widget-view+json": {
       "model_id": "db0ea93870d04e43872e03eb453e95ac",
       "version_major": 2,
       "version_minor": 0
      },
      "text/plain": [
       "  0%|          | 0/1000 [00:00<?, ?it/s]"
      ]
     },
     "metadata": {},
     "output_type": "display_data"
    },
    {
     "data": {
      "application/vnd.jupyter.widget-view+json": {
       "model_id": "684669913e7c4b0bad17c253cb139e3c",
       "version_major": 2,
       "version_minor": 0
      },
      "text/plain": [
       "  0%|          | 0/1000 [00:00<?, ?it/s]"
      ]
     },
     "metadata": {},
     "output_type": "display_data"
    },
    {
     "data": {
      "application/vnd.jupyter.widget-view+json": {
       "model_id": "a8e6ddefc7a24ac99477065e95dc1d78",
       "version_major": 2,
       "version_minor": 0
      },
      "text/plain": [
       "  0%|          | 0/1000 [00:00<?, ?it/s]"
      ]
     },
     "metadata": {},
     "output_type": "display_data"
    },
    {
     "data": {
      "application/vnd.jupyter.widget-view+json": {
       "model_id": "2c4939f808034f6794b7c13ed19ca34b",
       "version_major": 2,
       "version_minor": 0
      },
      "text/plain": [
       "  0%|          | 0/1000 [00:00<?, ?it/s]"
      ]
     },
     "metadata": {},
     "output_type": "display_data"
    },
    {
     "data": {
      "application/vnd.jupyter.widget-view+json": {
       "model_id": "cef7a719fcdb450980dfe8fd6ff96fd5",
       "version_major": 2,
       "version_minor": 0
      },
      "text/plain": [
       "  0%|          | 0/1000 [00:00<?, ?it/s]"
      ]
     },
     "metadata": {},
     "output_type": "display_data"
    },
    {
     "data": {
      "application/vnd.jupyter.widget-view+json": {
       "model_id": "a88c0d9af3b34226a9406fe905b1a79c",
       "version_major": 2,
       "version_minor": 0
      },
      "text/plain": [
       "  0%|          | 0/1000 [00:00<?, ?it/s]"
      ]
     },
     "metadata": {},
     "output_type": "display_data"
    },
    {
     "data": {
      "application/vnd.jupyter.widget-view+json": {
       "model_id": "987b816f134a4ee3aa66d47ed0c3806d",
       "version_major": 2,
       "version_minor": 0
      },
      "text/plain": [
       "  0%|          | 0/1000 [00:00<?, ?it/s]"
      ]
     },
     "metadata": {},
     "output_type": "display_data"
    },
    {
     "data": {
      "application/vnd.jupyter.widget-view+json": {
       "model_id": "e208e3fb442d4b20ae95ef5de2ad574a",
       "version_major": 2,
       "version_minor": 0
      },
      "text/plain": [
       "  0%|          | 0/1000 [00:00<?, ?it/s]"
      ]
     },
     "metadata": {},
     "output_type": "display_data"
    },
    {
     "data": {
      "application/vnd.jupyter.widget-view+json": {
       "model_id": "d2d2a7ba084b4371b1b0722b684f4ec3",
       "version_major": 2,
       "version_minor": 0
      },
      "text/plain": [
       "  0%|          | 0/1000 [00:00<?, ?it/s]"
      ]
     },
     "metadata": {},
     "output_type": "display_data"
    },
    {
     "data": {
      "application/vnd.jupyter.widget-view+json": {
       "model_id": "7b9e0e07bc8f4c779e3dd09d1278b0ef",
       "version_major": 2,
       "version_minor": 0
      },
      "text/plain": [
       "  0%|          | 0/1000 [00:00<?, ?it/s]"
      ]
     },
     "metadata": {},
     "output_type": "display_data"
    },
    {
     "data": {
      "application/vnd.jupyter.widget-view+json": {
       "model_id": "b6e4dd5393b74a02954f73c7703bc7a8",
       "version_major": 2,
       "version_minor": 0
      },
      "text/plain": [
       "  0%|          | 0/1000 [00:00<?, ?it/s]"
      ]
     },
     "metadata": {},
     "output_type": "display_data"
    },
    {
     "ename": "KeyboardInterrupt",
     "evalue": "",
     "output_type": "error",
     "traceback": [
      "\u001b[0;31m---------------------------------------------------------------------------\u001b[0m",
      "\u001b[0;31mKeyboardInterrupt\u001b[0m                         Traceback (most recent call last)",
      "Cell \u001b[0;32mIn[8], line 27\u001b[0m\n\u001b[1;32m     25\u001b[0m W \u001b[39m=\u001b[39m matrix_dict[n][random_state]\n\u001b[1;32m     26\u001b[0m W1 \u001b[39m=\u001b[39m W[data[\u001b[39m\"\u001b[39m\u001b[39mclicked_images\u001b[39m\u001b[39m\"\u001b[39m]]\n\u001b[0;32m---> 27\u001b[0m W1_inv \u001b[39m=\u001b[39m np\u001b[39m.\u001b[39;49mlinalg\u001b[39m.\u001b[39;49mpinv(W1)\n\u001b[1;32m     28\u001b[0m h_est \u001b[39m=\u001b[39m np\u001b[39m.\u001b[39mdot(W1_inv, x)\n\u001b[1;32m     29\u001b[0m q \u001b[39m=\u001b[39m np\u001b[39m.\u001b[39mdot(W, h_est)\n",
      "File \u001b[0;32m<__array_function__ internals>:180\u001b[0m, in \u001b[0;36mpinv\u001b[0;34m(*args, **kwargs)\u001b[0m\n",
      "File \u001b[0;32m~/.pyenv/versions/3.9.10/lib/python3.9/site-packages/numpy/linalg/linalg.py:1998\u001b[0m, in \u001b[0;36mpinv\u001b[0;34m(a, rcond, hermitian)\u001b[0m\n\u001b[1;32m   1996\u001b[0m     \u001b[39mreturn\u001b[39;00m wrap(res)\n\u001b[1;32m   1997\u001b[0m a \u001b[39m=\u001b[39m a\u001b[39m.\u001b[39mconjugate()\n\u001b[0;32m-> 1998\u001b[0m u, s, vt \u001b[39m=\u001b[39m svd(a, full_matrices\u001b[39m=\u001b[39;49m\u001b[39mFalse\u001b[39;49;00m, hermitian\u001b[39m=\u001b[39;49mhermitian)\n\u001b[1;32m   2000\u001b[0m \u001b[39m# discard small singular values\u001b[39;00m\n\u001b[1;32m   2001\u001b[0m cutoff \u001b[39m=\u001b[39m rcond[\u001b[39m.\u001b[39m\u001b[39m.\u001b[39m\u001b[39m.\u001b[39m, newaxis] \u001b[39m*\u001b[39m amax(s, axis\u001b[39m=\u001b[39m\u001b[39m-\u001b[39m\u001b[39m1\u001b[39m, keepdims\u001b[39m=\u001b[39m\u001b[39mTrue\u001b[39;00m)\n",
      "File \u001b[0;32m<__array_function__ internals>:180\u001b[0m, in \u001b[0;36msvd\u001b[0;34m(*args, **kwargs)\u001b[0m\n",
      "File \u001b[0;32m~/.pyenv/versions/3.9.10/lib/python3.9/site-packages/numpy/linalg/linalg.py:1657\u001b[0m, in \u001b[0;36msvd\u001b[0;34m(a, full_matrices, compute_uv, hermitian)\u001b[0m\n\u001b[1;32m   1654\u001b[0m         gufunc \u001b[39m=\u001b[39m _umath_linalg\u001b[39m.\u001b[39msvd_n_s\n\u001b[1;32m   1656\u001b[0m signature \u001b[39m=\u001b[39m \u001b[39m'\u001b[39m\u001b[39mD->DdD\u001b[39m\u001b[39m'\u001b[39m \u001b[39mif\u001b[39;00m isComplexType(t) \u001b[39melse\u001b[39;00m \u001b[39m'\u001b[39m\u001b[39md->ddd\u001b[39m\u001b[39m'\u001b[39m\n\u001b[0;32m-> 1657\u001b[0m u, s, vh \u001b[39m=\u001b[39m gufunc(a, signature\u001b[39m=\u001b[39;49msignature, extobj\u001b[39m=\u001b[39;49mextobj)\n\u001b[1;32m   1658\u001b[0m u \u001b[39m=\u001b[39m u\u001b[39m.\u001b[39mastype(result_t, copy\u001b[39m=\u001b[39m\u001b[39mFalse\u001b[39;00m)\n\u001b[1;32m   1659\u001b[0m s \u001b[39m=\u001b[39m s\u001b[39m.\u001b[39mastype(_realType(result_t), copy\u001b[39m=\u001b[39m\u001b[39mFalse\u001b[39;00m)\n",
      "\u001b[0;31mKeyboardInterrupt\u001b[0m: "
     ]
    }
   ],
   "source": [
    "\n",
    "samples = []\n",
    "\n",
    "for index, row in tqdm(df_result.iterrows()):\n",
    "    data = {}\n",
    "    data[\"name\"] = row[\"name\"]\n",
    "    data[\"target_id\"] = row[\"target_ID\"]\n",
    "    data[\"clicked_count\"] = row[\"clicked_count\"]\n",
    "    data[\"clicked_images\"] = sorted([int(x) for x in row[\"clicked_images\"].split(\",\")])\n",
    "    q_gt = df_gt.iloc[data[\"target_id\"]].to_numpy()\n",
    "    x = df_gt.iloc[data[\"target_id\"], data[\"clicked_images\"]].to_numpy()\n",
    "\n",
    "\n",
    "    target_row = df_gt[df_gt.index==data[\"target_id\"]]\n",
    "    correct_answers = []\n",
    "\n",
    "    MAE = {}\n",
    "    qs = {}\n",
    "    Answers = {}\n",
    "    q_Answers = {}\n",
    "    MAE_10_pred = {}\n",
    "\n",
    "    for n in range(5, 30):\n",
    "        q_array = []\n",
    "        for random_state in range(1000):\n",
    "            W = matrix_dict[n][random_state]\n",
    "            W1 = W[data[\"clicked_images\"]]\n",
    "            W1_inv = np.linalg.pinv(W1)\n",
    "            h_est = np.dot(W1_inv, x)\n",
    "            q = np.dot(W, h_est)\n",
    "            q_array.append(q)\n",
    "        q = sum(q_array) / len(q_array)\n",
    "        MAE[n] = mean_absolute_error(q_gt, q)\n",
    "        qs[n] = q\n",
    "\n",
    "        answers = []\n",
    "        q_answers = []\n",
    "        target_row = df_gt[df_gt.index==data[\"target_id\"]]\n",
    "        correct_answers = []\n",
    "        for i in range(10):\n",
    "            image_id = row[f\"ID_of_image{i}\"]\n",
    "            answer = row[f\"score_of_image{i}\"]\n",
    "            answers.append(answer)\n",
    "            q_answers.append(q[image_id])\n",
    "            correct = target_row[f\"No.{image_id+1}の画像があなたの好みであるかを0から10で評価してください．\"]\n",
    "            correct_answers.append(correct)\n",
    "        Answers[n] = answers\n",
    "        q_Answers[n] = q_answers\n",
    "        MAE_10_pred[n] = mean_absolute_error(q_answers, correct_answers)\n",
    "\n",
    "    data[\"MAE\"] = MAE\n",
    "    data[\"q\"] = qs\n",
    "    data[\"answers\"] = Answers\n",
    "    data[\"q_answers\"] = q_Answers\n",
    "    data[\"MAE_10_human\"] = mean_absolute_error(answers, correct_answers)\n",
    "    data[\"MAE_10_pred\"] = MAE_10_pred\n",
    "    samples.append(data)"
   ]
  },
  {
   "cell_type": "code",
   "execution_count": null,
   "metadata": {},
   "outputs": [],
   "source": [
    "clicked_counts = []\n",
    "MAE5, MAE15, MAE25 = [], [], []\n",
    "for data in samples:\n",
    "    clicked_counts.append(data[\"clicked_count\"])\n",
    "    MAE5.append(data[\"MAE\"][5])\n",
    "    MAE15.append(data[\"MAE\"][15])\n",
    "    MAE25.append(data[\"MAE\"][25])"
   ]
  },
  {
   "cell_type": "code",
   "execution_count": null,
   "metadata": {},
   "outputs": [],
   "source": [
    "plt.scatter(clicked_counts, MAE5, label=\"5次元\")\n",
    "plt.scatter(clicked_counts, MAE15, label=\"15次元\")\n",
    "plt.scatter(clicked_counts, MAE25, label=\"25次元\")\n",
    "plt.title(\"モデルの予測\")\n",
    "plt.xlabel(\"クリック回数\")\n",
    "plt.ylabel(\"MAE\")\n",
    "plt.legend()"
   ]
  },
  {
   "cell_type": "code",
   "execution_count": null,
   "metadata": {},
   "outputs": [],
   "source": [
    "MAE_10_human, MAE_10_pred_5, MAE_10_pred_15, MAE_10_pred_25 = [], [], [], []\n",
    "\n",
    "for i, sample in enumerate(samples):\n",
    "    MAE_10_human.append(sample[\"MAE_10_human\"])\n",
    "    MAE_10_pred_5.append(sample[\"MAE_10_pred\"][5])\n",
    "    MAE_10_pred_15.append(sample[\"MAE_10_pred\"][15])\n",
    "    MAE_10_pred_25.append(sample[\"MAE_10_pred\"][25])"
   ]
  },
  {
   "cell_type": "code",
   "execution_count": null,
   "metadata": {},
   "outputs": [],
   "source": [
    "x = list(range(len(samples)))\n",
    "\n",
    "# グラフを描画するためのAxesオブジェクトを作成\n",
    "plt.figure(figsize=(8, 4))  # グラフのサイズを指定\n",
    "ax = plt.gca()\n",
    "\n",
    "sns.lineplot(x=x, y=MAE_10_human, ax=ax, label='人間')\n",
    "sns.lineplot(x=x, y=MAE_10_pred_5, ax=ax, label='5次元')\n",
    "sns.lineplot(x=x, y=MAE_10_pred_15, ax=ax, label='15次元')\n",
    "sns.lineplot(x=x, y=MAE_10_pred_25, ax=ax, label='25次元')\n",
    "\n",
    "# グラフにタイトルと軸ラベルを追加\n",
    "plt.title('人間の予測vs人間のサンプルによるモデルの予測')\n",
    "plt.xlabel('サンプル')\n",
    "plt.ylabel('MAE')\n",
    "\n",
    "# 凡例を表示\n",
    "plt.legend()\n",
    "\n",
    "# グラフを表示\n",
    "plt.show()"
   ]
  },
  {
   "cell_type": "code",
   "execution_count": null,
   "metadata": {},
   "outputs": [],
   "source": [
    "x = np.array(range(len(samples)))\n",
    "\n",
    "# グラフを描画するためのAxesオブジェクトを作成\n",
    "plt.figure(figsize=(8, 4))  # グラフのサイズを指定\n",
    "ax = plt.gca()\n",
    "\n",
    "plt.bar(x=x, height=MAE_10_human, width=0.2, label='人間')\n",
    "plt.bar(x=x+0.2, height=MAE_10_pred_5, width=0.2, label='5次元')\n",
    "plt.bar(x=x+0.4, height=MAE_10_pred_15, width=0.2, label='15次元')\n",
    "plt.bar(x=x+0.6, height=MAE_10_pred_25, width=0.2, label='25次元')\n",
    "\n",
    "# グラフにタイトルと軸ラベルを追加\n",
    "plt.title('人間の予測vs人間のサンプルによるモデルの予測')\n",
    "plt.xlabel('サンプル')\n",
    "plt.ylabel('MAE')\n",
    "\n",
    "# 凡例を表示\n",
    "plt.legend()\n",
    "\n",
    "# グラフを表示\n",
    "plt.show()\n"
   ]
  },
  {
   "cell_type": "code",
   "execution_count": null,
   "metadata": {},
   "outputs": [],
   "source": [
    "MAE_pred_all = [[] for _ in range(5, 30)]\n",
    "\n",
    "for sample in samples:\n",
    "    for i in range(5, 30):\n",
    "        MAE_pred_all[i-5].append(sample[\"MAE_10_pred\"][i])"
   ]
  },
  {
   "cell_type": "code",
   "execution_count": null,
   "metadata": {},
   "outputs": [],
   "source": [
    "MAE_all = [[] for _ in range(5, 30)]\n",
    "\n",
    "for sample in samples:\n",
    "    for i in range(5, 30):\n",
    "        MAE_all[i-5].append(sample[\"MAE\"][i])\n",
    "\n",
    "x = list(range(5, 30))\n",
    "MAE_mean_all = [statistics.mean(mae) for mae in MAE_all]\n",
    "\n",
    "# グラフを描画するためのAxesオブジェクトを作成\n",
    "plt.figure(figsize=(8, 4))  # グラフのサイズを指定\n",
    "\n",
    "sns.lineplot(x=x, y=MAE_mean_all)\n",
    "\n",
    "plt.hlines(statistics.mean(MAE_10_human), 5, 29, color=\"red\")\n",
    "\n",
    "# グラフにタイトルと軸ラベルを追加\n",
    "plt.title('モデルの予測の圧縮後の次元数毎の比較')\n",
    "plt.xlabel('次元数')\n",
    "plt.ylabel('MAE')\n",
    "\n",
    "\n",
    "# グラフを表示\n",
    "plt.show()"
   ]
  },
  {
   "cell_type": "code",
   "execution_count": null,
   "metadata": {},
   "outputs": [],
   "source": [
    "dim_MAE = []\n",
    "\n",
    "for sample in samples:\n",
    "    for i in range(5, 30):\n",
    "        dim_MAE.append([i, sample[\"MAE_10_pred\"][i]])\n",
    "\n",
    "df_dim_MAE = pd.DataFrame(dim_MAE, columns=[\"dim\", \"MAE\"])\n"
   ]
  },
  {
   "cell_type": "code",
   "execution_count": null,
   "metadata": {},
   "outputs": [],
   "source": [
    "x = list(range(5, 30))\n",
    "MAE_pred_mean_all = [statistics.mean(mae) for mae in MAE_pred_all]\n",
    "\n",
    "# グラフを描画するためのAxesオブジェクトを作成\n",
    "plt.figure(figsize=(8, 4))  # グラフのサイズを指定\n",
    "\n",
    "sns.relplot(data=df_dim_MAE, x=\"dim\", y=\"MAE\", kind='line')\n",
    "\n",
    "plt.hlines(statistics.mean(MAE_10_human), 5, 29, color=\"red\")\n",
    "\n",
    "# グラフにタイトルと軸ラベルを追加\n",
    "plt.title('人間のサンプルを用いたモデルの予測の圧縮後の次元数毎の比較')\n",
    "plt.xlabel('次元数')\n",
    "plt.ylabel('MAE')\n",
    "\n",
    "\n",
    "# グラフを表示\n",
    "plt.show()"
   ]
  },
  {
   "cell_type": "code",
   "execution_count": null,
   "metadata": {},
   "outputs": [],
   "source": [
    "x = list(range(5, 30))\n",
    "\n",
    "plt.rcParams[\"figure.figsize\"] = (32, 24)\n",
    "for index, sample in enumerate(samples):\n",
    "    plt.subplot(5, 6, index+1)\n",
    "    plt.hlines(sample[\"MAE_10_human\"], 5, 29, color=\"red\")\n",
    "    sns.lineplot(x=x, y=list(sample[\"MAE_10_pred\"].values()))\n",
    "    plt.title(f\"サンプル{index}\")"
   ]
  },
  {
   "cell_type": "code",
   "execution_count": null,
   "metadata": {},
   "outputs": [],
   "source": [
    "\n",
    "score = []\n",
    "\n",
    "for index, row in df_result.iterrows():\n",
    "    name = row[\"name\"]\n",
    "    clicked_count = row[\"clicked_count\"]\n",
    "    clicked_images = sorted([int(x) for x in row[\"clicked_images\"].split(\",\")])\n",
    "\n",
    "    MAE_10_pred = {}\n",
    "\n",
    "    target_images_id = [row[f\"ID_of_image{i}\"] for i in range(10)]\n",
    "    target_cols = [f\"No.{id+1}の画像があなたの好みであるかを0から10で評価してください．\"  for id in target_images_id]\n",
    "    print(target_cols)\n",
    "    correct_answers = df_gt.loc[:, target_cols].to_numpy().T\n",
    "    print(\"correct_answers\", correct_answers.shape)\n",
    "    for n in (5, 15, 25):\n",
    "        W = W_n(n)\n",
    "        W1 = W[clicked_images]\n",
    "        W1_inv = np.linalg.pinv(W1)\n",
    "\n",
    "        X = df_gt.iloc[:, clicked_images].to_numpy().T\n",
    "        H_est = np.dot(W1_inv, X)\n",
    "        Q = np.dot(W, H_est)\n",
    "\n",
    "        MAE_10_pred[n] = np.mean(np.abs(correct_answers - Q[target_images_id]), axis=0)\n",
    "\n",
    "    score.append(MAE_10_pred)"
   ]
  },
  {
   "cell_type": "code",
   "execution_count": null,
   "metadata": {},
   "outputs": [],
   "source": [
    "score"
   ]
  },
  {
   "cell_type": "code",
   "execution_count": null,
   "metadata": {},
   "outputs": [],
   "source": [
    "plt.rcParams[\"figure.figsize\"] = (48, 24)\n",
    "for index, result in enumerate(score):\n",
    "    plt.subplot(8, 4, index+1)\n",
    "    plt.boxplot(result.values(), labels=[f\"n={i}\\n\" + \"{:.2f}\".format(samples[index][\"MAE\"][i])  for i in (5, 15, 25)], sym=\"\", vert=False)\n",
    "    plt.scatter([samples[index][\"MAE\"][i] for i in (5, 15, 25)], range(1, 4), marker='o', color='red', label='特定の値')\n",
    "    plt.title(f\"サンプル{index}\")"
   ]
  },
  {
   "cell_type": "code",
   "execution_count": null,
   "metadata": {},
   "outputs": [],
   "source": [
    "progress_result = []\n",
    "\n",
    "for index, row in df_result.iterrows():\n",
    "    name = row[\"name\"]\n",
    "    target_id= row[\"target_ID\"]\n",
    "    clicked_count = row[\"clicked_count\"]\n",
    "    clicked_images = [int(x) for x in row[\"clicked_images\"].split(\",\")]\n",
    "    q_gt = df_gt.iloc[data[\"target_id\"]].to_numpy()\n",
    "\n",
    "    target_images_id = [row[f\"ID_of_image{i}\"] for i in range(10)]\n",
    "    target_cols = [f\"No.{id+1}の画像があなたの好みであるかを0から10で評価してください．\"  for id in target_images_id]\n",
    "    correct_answers = df_gt.loc[target_id, target_cols].to_numpy().T\n",
    "\n",
    "    MAE = {}\n",
    "    MAE_selected = {}\n",
    "    for n in (5, 15, 25):\n",
    "        W = W_n(n)\n",
    "        W1 = W[data[\"clicked_images\"]]\n",
    "        W1_inv = np.linalg.pinv(W1)\n",
    "        image_set = set(range(100))\n",
    "        MAE[n] = {}\n",
    "        MAE_selected[n] = {}\n",
    "        for end in range(len(clicked_images)):\n",
    "            MAE[n][end] = {}\n",
    "            for id in image_set:\n",
    "                images_add = clicked_images[:end]\n",
    "                images_add.append(id)\n",
    "                x1 = df_gt.iloc[target_id, sorted(images_add)].to_numpy()\n",
    "                W1 = W[images_add]\n",
    "                W1_inv = np.linalg.pinv(W1)\n",
    "                h_est = np.dot(W1_inv, x1)\n",
    "                q = np.dot(W, h_est)\n",
    "                mae = np.mean(np.abs(correct_answers - q[target_images_id]))\n",
    "                MAE[n][end][id] = mae\n",
    "                if id == clicked_images[end]:\n",
    "                    MAE_selected[n][end] = mae\n",
    "            image_set.remove(clicked_images[end])\n",
    "\n",
    "    result = {}\n",
    "    result[\"MAE\"] = MAE\n",
    "    result[\"MAE_selected\"] = MAE_selected\n",
    "    result[\"clicked_images\"] = clicked_images\n",
    "    progress_result.append(result)"
   ]
  },
  {
   "cell_type": "code",
   "execution_count": null,
   "metadata": {},
   "outputs": [],
   "source": [
    "max(list(progress_result[0][\"MAE\"][25][4].values()))"
   ]
  },
  {
   "cell_type": "code",
   "execution_count": null,
   "metadata": {},
   "outputs": [],
   "source": [
    "progress_result[0][\"MAE_selected\"]"
   ]
  },
  {
   "cell_type": "code",
   "execution_count": null,
   "metadata": {},
   "outputs": [],
   "source": [
    "plt.rcParams[\"figure.figsize\"] = (32, 12)\n",
    "for index, result in enumerate(progress_result):\n",
    "    MAE = result[\"MAE\"]\n",
    "    for i, dim in enumerate((5, 15, 25)):\n",
    "        plt.subplot(1, 3, i+1)\n",
    "        values = [list(MAE[dim][key].values()) for key in MAE[dim]]\n",
    "        plt.boxplot(values, sym=\"\")\n",
    "        plt.scatter(range(1, len(result[\"MAE_selected\"][dim])+1), result[\"MAE_selected\"][dim].values(),  marker='o', color='red', label='特定の値')\n",
    "    plt.title(f\"サンプル{index}\")\n",
    "    plt.show()"
   ]
  },
  {
   "cell_type": "code",
   "execution_count": null,
   "metadata": {},
   "outputs": [],
   "source": []
  }
 ],
 "metadata": {
  "kernelspec": {
   "display_name": "Python 3",
   "language": "python",
   "name": "python3"
  },
  "language_info": {
   "codemirror_mode": {
    "name": "ipython",
    "version": 3
   },
   "file_extension": ".py",
   "mimetype": "text/x-python",
   "name": "python",
   "nbconvert_exporter": "python",
   "pygments_lexer": "ipython3",
   "version": "3.9.10"
  },
  "orig_nbformat": 4
 },
 "nbformat": 4,
 "nbformat_minor": 2
}
