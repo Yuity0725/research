{
 "cells": [
  {
   "cell_type": "code",
   "execution_count": 197,
   "metadata": {},
   "outputs": [],
   "source": [
    "# ライブラリの読み込み\n",
    "import json\n",
    "import pickle\n",
    "import random\n",
    "import re\n",
    "import statistics\n",
    "\n",
    "import japanize_matplotlib\n",
    "\n",
    "import numpy as np\n",
    "import pandas as pd\n",
    "import seaborn as sns\n",
    "import matplotlib.pyplot as plt\n",
    "\n",
    "from pprint import pprint\n",
    "from sklearn.metrics import mean_absolute_error\n",
    "from tqdm.auto import tqdm"
   ]
  },
  {
   "cell_type": "code",
   "execution_count": 2,
   "metadata": {},
   "outputs": [],
   "source": [
    "# 設定\n",
    "plt.rcParams[\"font.family\"] = \"IPAexGothic\"\n",
    "\n",
    "pd.options.display.max_columns = 200\n",
    "pd.options.display.max_rows = 100"
   ]
  },
  {
   "cell_type": "code",
   "execution_count": 6,
   "metadata": {},
   "outputs": [],
   "source": [
    "# データの読み込み\n",
    "df_result = pd.read_csv(\"human0821.csv\")\n",
    "df_gt = pd.read_csv(\"all_data.csv\", index_col=0)\n",
    "df_t = df_gt.T\n",
    "selected_ids = list(set(df_result[\"target_ID\"]))\n",
    "df_drop = df_gt.drop(selected_ids, axis=0)\n",
    "df_train = pd.read_csv(\"train.csv\", index_col=0).T\n",
    "df_test = pd.read_csv(\"test.csv\", index_col=0)"
   ]
  },
  {
   "cell_type": "code",
   "execution_count": 4,
   "metadata": {},
   "outputs": [
    {
     "data": {
      "application/vnd.jupyter.widget-view+json": {
       "model_id": "38a005ffc11c40e2bba71376ef47990b",
       "version_major": 2,
       "version_minor": 0
      },
      "text/plain": [
       "  0%|          | 0/25 [00:00<?, ?it/s]"
      ]
     },
     "metadata": {},
     "output_type": "display_data"
    }
   ],
   "source": [
    "# 重みの読み込み\n",
    "matrix_dict = {}\n",
    "\n",
    "for dim in tqdm(range(5, 30)):\n",
    "    matrix_dict[dim] = [\n",
    "        np.load(f\"nmf_w/train/nmf_w_r{i}/nmf_50000_w_{dim}_r{i}.npy\") for i in range(1000)\n",
    "    ]"
   ]
  },
  {
   "cell_type": "code",
   "execution_count": 77,
   "metadata": {},
   "outputs": [],
   "source": [
    "# 推論\n",
    "def calculate_score(target_id: int, selected_images: list, dims: tuple):\n",
    "    result = {}\n",
    "    q_gt = df_gt.iloc[target_id].to_numpy()\n",
    "    x = df_gt.iloc[target_id, selected_images].to_numpy()\n",
    "\n",
    "    for dim in dims:\n",
    "        q_array = []\n",
    "        result[dim] = {}\n",
    "        for random_state in range(1000):\n",
    "            W = matrix_dict[dim][random_state]\n",
    "            W1 = W[selected_images]\n",
    "            W1_inv = np.linalg.pinv(W1)\n",
    "            h_est = np.dot(W1_inv, x)\n",
    "            q = np.dot(W, h_est)\n",
    "            q[q<0] = 0\n",
    "            q[q>10] = 10\n",
    "            q_array.append(q)\n",
    "        q = sum(q_array) / len(q_array)\n",
    "        result[dim][\"q\"] = q\n",
    "        result[dim][\"MAE\"] = mean_absolute_error(q, q_gt)\n",
    "    return result"
   ]
  },
  {
   "cell_type": "code",
   "execution_count": 25,
   "metadata": {},
   "outputs": [],
   "source": [
    "# 次元\n",
    "dims = (5, 10, 15)"
   ]
  },
  {
   "cell_type": "code",
   "execution_count": 17,
   "metadata": {},
   "outputs": [],
   "source": [
    "# 訓練用データの分散\n",
    "variances = df_train.var()\n",
    "# 分散が大きい順に列をソート\n",
    "sorted_columns = variances.sort_values(ascending=False).index.to_list()"
   ]
  },
  {
   "cell_type": "code",
   "execution_count": 31,
   "metadata": {},
   "outputs": [],
   "source": [
    "# 列名をimage_idに変換\n",
    "def find_index(col_name):\n",
    "    pattern = r\"No\\.(\\d+)\"\n",
    "    match = re.search(pattern, col_name)\n",
    "\n",
    "    if match:\n",
    "        return int(match.group(1))-1\n",
    "    else:\n",
    "        return -1"
   ]
  },
  {
   "cell_type": "code",
   "execution_count": 41,
   "metadata": {},
   "outputs": [
    {
     "data": {
      "text/plain": [
       "(array([ 2.,  0.,  3.,  7., 15., 23., 26., 13.,  9.,  2.]),\n",
       " array([2.4382169 , 2.99259293, 3.54696895, 4.10134497, 4.65572099,\n",
       "        5.21009701, 5.76447303, 6.31884905, 6.87322508, 7.4276011 ,\n",
       "        7.98197712]),\n",
       " <BarContainer object of 10 artists>)"
      ]
     },
     "execution_count": 41,
     "metadata": {},
     "output_type": "execute_result"
    },
    {
     "data": {
      "image/png": "[encoded data removed]",
      "text/plain": [
       "<Figure size 640x480 with 1 Axes>"
      ]
     },
     "metadata": {},
     "output_type": "display_data"
    }
   ],
   "source": [
    "plt.hist(variances, width=0.5)"
   ]
  },
  {
   "cell_type": "code",
   "execution_count": 78,
   "metadata": {},
   "outputs": [
    {
     "name": "stdout",
     "output_type": "stream",
     "text": [
      "[2, 3, 6, 12, 29, 32, 53, 63, 64, 97]\n"
     ]
    },
    {
     "data": {
      "application/vnd.jupyter.widget-view+json": {
       "model_id": "b8462e3c35b44f5dab20f62af5d8143b",
       "version_major": 2,
       "version_minor": 0
      },
      "text/plain": [
       "0it [00:00, ?it/s]"
      ]
     },
     "metadata": {},
     "output_type": "display_data"
    }
   ],
   "source": [
    "# 分散が大きい順に10枚聞く\n",
    "var_large_10 = sorted([find_index(col_name) for col_name in sorted_columns[:10]])\n",
    "print(var_large_10)\n",
    "var_large_10_results = []\n",
    "for index, row in tqdm(df_test.iterrows()):\n",
    "    result = calculate_score(row.name, var_large_10, dims)\n",
    "    var_large_10_results.append(result)\n",
    "\n",
    "# 分散が小さい順に10枚聞く\n",
    "var_small_10 = sorted([find_index(col_name) for col_name in sorted_columns[-10:]])\n",
    "print(var_small_10)\n",
    "var_small_10_results = []\n",
    "for index, row in tqdm(df_test.iterrows()):\n",
    "    result = calculate_score(row.name, var_small_10, dims)\n",
    "    var_small_10_results.append(result)\n",
    "\n",
    "# 分散が大きい順に5枚、小さい順に5枚聞く\n",
    "var_large_5_small_5 = sorted([find_index(col_name) for col_name in sorted_columns[-5:]] + [find_index(col_name) for col_name in sorted_columns[:5]])\n",
    "var_large_5_small_5_results = []\n",
    "print(var_large_5_small_5)\n",
    "for index, row in tqdm(df_test.iterrows()):\n",
    "    result = calculate_score(row.name, var_large_5_small_5, dims)\n",
    "    var_large_5_small_5_results.append(result)\n",
    "\n",
    "MAE_var_large_10 = {5: [], 10: [], 15: []}\n",
    "for result in var_large_10_results:\n",
    "    for dim in dims:\n",
    "        MAE_var_large_10[dim].append(result[dim][\"MAE\"])\n",
    "\n",
    "MAE_var_small_10 = {5: [], 10: [], 15: []}\n",
    "for result in var_small_10_results:\n",
    "    for dim in dims:\n",
    "        MAE_var_small_10[dim].append(result[dim][\"MAE\"])\n",
    "\n",
    "MAE_var_large_5_small_5 = {5: [], 10: [], 15: []}\n",
    "for result in var_large_5_small_5_results:\n",
    "    for dim in dims:\n",
    "        MAE_var_large_5_small_5[dim].append(result[dim][\"MAE\"])"
   ]
  },
  {
   "cell_type": "code",
   "execution_count": 89,
   "metadata": {},
   "outputs": [
    {
     "data": {
      "image/png": "[encoded data removed]",
      "text/plain": [
       "<Figure size 600x600 with 3 Axes>"
      ]
     },
     "metadata": {},
     "output_type": "display_data"
    }
   ],
   "source": [
    "plt.rcParams[\"figure.figsize\"] = (6, 6)\n",
    "for index, dim in enumerate(dims):\n",
    "    plt.subplot(3, 1, index+1)\n",
    "    plt.hist(MAE_var_large_10[dim], label=\"大10\", alpha=0.5)\n",
    "    plt.hist(MAE_var_small_10[dim], label=\"小10\", alpha=0.5)\n",
    "    plt.hist(MAE_var_large_5_small_5[dim], label=\"大5小5\", alpha=0.5)\n",
    "    plt.title(f\"{dim}次元\")\n",
    "    plt.legend()\n",
    "\n",
    "plt.tight_layout()"
   ]
  },
  {
   "cell_type": "code",
   "execution_count": 87,
   "metadata": {},
   "outputs": [
    {
     "data": {
      "image/png": "[encoded data removed]",
      "text/plain": [
       "<Figure size 600x600 with 3 Axes>"
      ]
     },
     "metadata": {},
     "output_type": "display_data"
    }
   ],
   "source": [
    "plt.rcParams[\"figure.figsize\"] = (6, 6)\n",
    "plt.subplot(3, 1, 1)\n",
    "for index, dim in enumerate(dims):\n",
    "    plt.hist(MAE_var_large_10[dim], label=f\"{dim}次元\", alpha=0.5)\n",
    "    plt.title(\"分散が大きい画像10枚\")\n",
    "    plt.xticks(list(range(7)))\n",
    "    plt.legend()\n",
    "\n",
    "plt.subplot(3, 1, 2)\n",
    "for index, dim in enumerate(dims):\n",
    "    plt.hist(MAE_var_small_10[dim], label=f\"{dim}次元\", alpha=0.5)\n",
    "    plt.title(\"分散が小さい画像10枚\")\n",
    "    plt.xticks(list(range(7)))\n",
    "    plt.legend()\n",
    "\n",
    "plt.subplot(3, 1, 3)\n",
    "for index, dim in enumerate(dims):\n",
    "    plt.hist(MAE_var_large_5_small_5[dim], label=f\"{dim}次元\", alpha=0.5)\n",
    "    plt.title(\"分散が大きい画像5枚と小さい画像5枚\")\n",
    "    plt.xticks(list(range(7)))\n",
    "    plt.legend()\n",
    "plt.tight_layout()"
   ]
  },
  {
   "cell_type": "code",
   "execution_count": 189,
   "metadata": {},
   "outputs": [
    {
     "data": {
      "text/html": [
       "<div>\n",
       "<style scoped>\n",
       "    .dataframe tbody tr th:only-of-type {\n",
       "        vertical-align: middle;\n",
       "    }\n",
       "\n",
       "    .dataframe tbody tr th {\n",
       "        vertical-align: top;\n",
       "    }\n",
       "\n",
       "    .dataframe thead th {\n",
       "        text-align: right;\n",
       "    }\n",
       "</style>\n",
       "<table border=\"1\" class=\"dataframe\">\n",
       "  <thead>\n",
       "    <tr style=\"text-align: right;\">\n",
       "      <th></th>\n",
       "      <th>5次元</th>\n",
       "      <th>10次元</th>\n",
       "      <th>15次元</th>\n",
       "    </tr>\n",
       "  </thead>\n",
       "  <tbody>\n",
       "    <tr>\n",
       "      <th>count</th>\n",
       "      <td>130.000000</td>\n",
       "      <td>130.000000</td>\n",
       "      <td>130.000000</td>\n",
       "    </tr>\n",
       "    <tr>\n",
       "      <th>mean</th>\n",
       "      <td>1.933468</td>\n",
       "      <td>2.074104</td>\n",
       "      <td>1.888936</td>\n",
       "    </tr>\n",
       "    <tr>\n",
       "      <th>std</th>\n",
       "      <td>0.740325</td>\n",
       "      <td>0.727399</td>\n",
       "      <td>0.714834</td>\n",
       "    </tr>\n",
       "    <tr>\n",
       "      <th>min</th>\n",
       "      <td>0.090000</td>\n",
       "      <td>0.090000</td>\n",
       "      <td>0.090000</td>\n",
       "    </tr>\n",
       "    <tr>\n",
       "      <th>25%</th>\n",
       "      <td>1.494254</td>\n",
       "      <td>1.567586</td>\n",
       "      <td>1.423096</td>\n",
       "    </tr>\n",
       "    <tr>\n",
       "      <th>50%</th>\n",
       "      <td>1.898306</td>\n",
       "      <td>1.974107</td>\n",
       "      <td>1.810688</td>\n",
       "    </tr>\n",
       "    <tr>\n",
       "      <th>75%</th>\n",
       "      <td>2.241910</td>\n",
       "      <td>2.465617</td>\n",
       "      <td>2.226946</td>\n",
       "    </tr>\n",
       "    <tr>\n",
       "      <th>max</th>\n",
       "      <td>5.829612</td>\n",
       "      <td>4.521380</td>\n",
       "      <td>5.312137</td>\n",
       "    </tr>\n",
       "  </tbody>\n",
       "</table>\n",
       "</div>"
      ],
      "text/plain": [
       "              5次元        10次元        15次元\n",
       "count  130.000000  130.000000  130.000000\n",
       "mean     1.933468    2.074104    1.888936\n",
       "std      0.740325    0.727399    0.714834\n",
       "min      0.090000    0.090000    0.090000\n",
       "25%      1.494254    1.567586    1.423096\n",
       "50%      1.898306    1.974107    1.810688\n",
       "75%      2.241910    2.465617    2.226946\n",
       "max      5.829612    4.521380    5.312137"
      ]
     },
     "execution_count": 189,
     "metadata": {},
     "output_type": "execute_result"
    }
   ],
   "source": [
    "df_MAE_var_large_10 = pd.DataFrame({'5次元':MAE_var_large_10[5],'10次元':MAE_var_large_10[10],'15次元':MAE_var_large_10[15]})\n",
    "df_MAE_var_large_10.describe()"
   ]
  },
  {
   "cell_type": "code",
   "execution_count": 192,
   "metadata": {},
   "outputs": [
    {
     "data": {
      "text/html": [
       "<div>\n",
       "<style scoped>\n",
       "    .dataframe tbody tr th:only-of-type {\n",
       "        vertical-align: middle;\n",
       "    }\n",
       "\n",
       "    .dataframe tbody tr th {\n",
       "        vertical-align: top;\n",
       "    }\n",
       "\n",
       "    .dataframe thead th {\n",
       "        text-align: right;\n",
       "    }\n",
       "</style>\n",
       "<table border=\"1\" class=\"dataframe\">\n",
       "  <thead>\n",
       "    <tr style=\"text-align: right;\">\n",
       "      <th></th>\n",
       "      <th>5次元</th>\n",
       "      <th>10次元</th>\n",
       "      <th>15次元</th>\n",
       "    </tr>\n",
       "  </thead>\n",
       "  <tbody>\n",
       "    <tr>\n",
       "      <th>count</th>\n",
       "      <td>130.000000</td>\n",
       "      <td>130.000000</td>\n",
       "      <td>130.000000</td>\n",
       "    </tr>\n",
       "    <tr>\n",
       "      <th>mean</th>\n",
       "      <td>2.568446</td>\n",
       "      <td>1.930631</td>\n",
       "      <td>2.371232</td>\n",
       "    </tr>\n",
       "    <tr>\n",
       "      <th>std</th>\n",
       "      <td>0.945780</td>\n",
       "      <td>0.603226</td>\n",
       "      <td>0.735406</td>\n",
       "    </tr>\n",
       "    <tr>\n",
       "      <th>min</th>\n",
       "      <td>0.090000</td>\n",
       "      <td>0.090000</td>\n",
       "      <td>0.090000</td>\n",
       "    </tr>\n",
       "    <tr>\n",
       "      <th>25%</th>\n",
       "      <td>1.991436</td>\n",
       "      <td>1.570062</td>\n",
       "      <td>2.014630</td>\n",
       "    </tr>\n",
       "    <tr>\n",
       "      <th>50%</th>\n",
       "      <td>2.624029</td>\n",
       "      <td>1.938512</td>\n",
       "      <td>2.409793</td>\n",
       "    </tr>\n",
       "    <tr>\n",
       "      <th>75%</th>\n",
       "      <td>3.196585</td>\n",
       "      <td>2.233780</td>\n",
       "      <td>2.712782</td>\n",
       "    </tr>\n",
       "    <tr>\n",
       "      <th>max</th>\n",
       "      <td>4.935494</td>\n",
       "      <td>3.720000</td>\n",
       "      <td>4.324099</td>\n",
       "    </tr>\n",
       "  </tbody>\n",
       "</table>\n",
       "</div>"
      ],
      "text/plain": [
       "              5次元        10次元        15次元\n",
       "count  130.000000  130.000000  130.000000\n",
       "mean     2.568446    1.930631    2.371232\n",
       "std      0.945780    0.603226    0.735406\n",
       "min      0.090000    0.090000    0.090000\n",
       "25%      1.991436    1.570062    2.014630\n",
       "50%      2.624029    1.938512    2.409793\n",
       "75%      3.196585    2.233780    2.712782\n",
       "max      4.935494    3.720000    4.324099"
      ]
     },
     "execution_count": 192,
     "metadata": {},
     "output_type": "execute_result"
    }
   ],
   "source": [
    "df_MAE_var_small_10 = pd.DataFrame({'5次元':MAE_var_small_10[5],'10次元':MAE_var_small_10[10],'15次元':MAE_var_small_10[15]})\n",
    "df_MAE_var_small_10.describe()"
   ]
  },
  {
   "cell_type": "code",
   "execution_count": 191,
   "metadata": {},
   "outputs": [
    {
     "data": {
      "text/html": [
       "<div>\n",
       "<style scoped>\n",
       "    .dataframe tbody tr th:only-of-type {\n",
       "        vertical-align: middle;\n",
       "    }\n",
       "\n",
       "    .dataframe tbody tr th {\n",
       "        vertical-align: top;\n",
       "    }\n",
       "\n",
       "    .dataframe thead th {\n",
       "        text-align: right;\n",
       "    }\n",
       "</style>\n",
       "<table border=\"1\" class=\"dataframe\">\n",
       "  <thead>\n",
       "    <tr style=\"text-align: right;\">\n",
       "      <th></th>\n",
       "      <th>5次元</th>\n",
       "      <th>10次元</th>\n",
       "      <th>15次元</th>\n",
       "    </tr>\n",
       "  </thead>\n",
       "  <tbody>\n",
       "    <tr>\n",
       "      <th>count</th>\n",
       "      <td>130.000000</td>\n",
       "      <td>130.000000</td>\n",
       "      <td>130.000000</td>\n",
       "    </tr>\n",
       "    <tr>\n",
       "      <th>mean</th>\n",
       "      <td>1.886614</td>\n",
       "      <td>1.661007</td>\n",
       "      <td>2.007800</td>\n",
       "    </tr>\n",
       "    <tr>\n",
       "      <th>std</th>\n",
       "      <td>0.722917</td>\n",
       "      <td>0.469135</td>\n",
       "      <td>0.495332</td>\n",
       "    </tr>\n",
       "    <tr>\n",
       "      <th>min</th>\n",
       "      <td>0.090000</td>\n",
       "      <td>0.090000</td>\n",
       "      <td>0.090000</td>\n",
       "    </tr>\n",
       "    <tr>\n",
       "      <th>25%</th>\n",
       "      <td>1.396747</td>\n",
       "      <td>1.390516</td>\n",
       "      <td>1.752011</td>\n",
       "    </tr>\n",
       "    <tr>\n",
       "      <th>50%</th>\n",
       "      <td>1.829376</td>\n",
       "      <td>1.656175</td>\n",
       "      <td>2.019443</td>\n",
       "    </tr>\n",
       "    <tr>\n",
       "      <th>75%</th>\n",
       "      <td>2.371965</td>\n",
       "      <td>1.915255</td>\n",
       "      <td>2.318713</td>\n",
       "    </tr>\n",
       "    <tr>\n",
       "      <th>max</th>\n",
       "      <td>3.542538</td>\n",
       "      <td>3.010666</td>\n",
       "      <td>3.263769</td>\n",
       "    </tr>\n",
       "  </tbody>\n",
       "</table>\n",
       "</div>"
      ],
      "text/plain": [
       "              5次元        10次元        15次元\n",
       "count  130.000000  130.000000  130.000000\n",
       "mean     1.886614    1.661007    2.007800\n",
       "std      0.722917    0.469135    0.495332\n",
       "min      0.090000    0.090000    0.090000\n",
       "25%      1.396747    1.390516    1.752011\n",
       "50%      1.829376    1.656175    2.019443\n",
       "75%      2.371965    1.915255    2.318713\n",
       "max      3.542538    3.010666    3.263769"
      ]
     },
     "execution_count": 191,
     "metadata": {},
     "output_type": "execute_result"
    }
   ],
   "source": [
    "df_MAE_var_large_5_small_5 = pd.DataFrame({'5次元':MAE_var_large_5_small_5[5],'10次元':MAE_var_large_5_small_5[10],'15次元':MAE_var_large_5_small_5[15]})\n",
    "df_MAE_var_large_5_small_5.describe()"
   ]
  },
  {
   "cell_type": "code",
   "execution_count": 141,
   "metadata": {},
   "outputs": [],
   "source": [
    "df_train_corr = df_train.corr()"
   ]
  },
  {
   "cell_type": "code",
   "execution_count": 142,
   "metadata": {},
   "outputs": [
    {
     "name": "stdout",
     "output_type": "stream",
     "text": [
      "No.65の画像があなたの好みであるかを0から10で評価してください．\n"
     ]
    },
    {
     "data": {
      "text/plain": [
       "'No.66の画像があなたの好みであるかを0から10で評価してください．'"
      ]
     },
     "execution_count": 142,
     "metadata": {},
     "output_type": "execute_result"
    }
   ],
   "source": [
    "print(sorted_columns[0])\n",
    "var_max_col = df_train_corr[sorted_columns[0]]\n",
    "var_max_col.nlargest(2).iloc[-1]\n",
    "var_max_col[var_max_col == var_max_col.nlargest(2).iloc[-1]].index[0]"
   ]
  },
  {
   "cell_type": "code",
   "execution_count": 175,
   "metadata": {},
   "outputs": [
    {
     "data": {
      "application/vnd.jupyter.widget-view+json": {
       "model_id": "2033a73b79b449f8a2e24cc9ac28427d",
       "version_major": 2,
       "version_minor": 0
      },
      "text/plain": [
       "0it [00:00, ?it/s]"
      ]
     },
     "metadata": {},
     "output_type": "display_data"
    }
   ],
   "source": [
    "# 分散が大きいものとそれと相関が強いもの\n",
    "\n",
    "var_corr_max = []\n",
    "current_index = 0\n",
    "n_largest = 2\n",
    "while len(var_corr_max) < 10:\n",
    "    if len(var_corr_max) % 2 == 0:\n",
    "        col_name = sorted_columns[current_index]\n",
    "        if col_name not in var_corr_max:\n",
    "            var_corr_max.append(col_name)\n",
    "        current_index += 1\n",
    "    else:\n",
    "        raw = df_train_corr[var_corr_max[-1]]\n",
    "        n_largest_index = raw[raw == raw.nlargest(n_largest).iloc[-1]].index[0]\n",
    "        if n_largest_index not in var_corr_max:\n",
    "            var_corr_max.append(n_largest_index)\n",
    "            n_largest = 2\n",
    "        else:\n",
    "            n_largest += 1\n",
    "\n",
    "var_corr_max_ids = sorted([find_index(col_name) for col_name in var_corr_max])\n",
    "\n",
    "var_corr_max_results = []\n",
    "\n",
    "for index, row in tqdm(df_test.iterrows()):\n",
    "    result = calculate_score(row.name, var_corr_max_ids, dims)\n",
    "    var_corr_max_results.append(result)"
   ]
  },
  {
   "cell_type": "code",
   "execution_count": 176,
   "metadata": {},
   "outputs": [
    {
     "data": {
      "application/vnd.jupyter.widget-view+json": {
       "model_id": "f53abee948814c66aa90827f8fdd54b1",
       "version_major": 2,
       "version_minor": 0
      },
      "text/plain": [
       "0it [00:00, ?it/s]"
      ]
     },
     "metadata": {},
     "output_type": "display_data"
    }
   ],
   "source": [
    "# 分散が大きいものとそれと相関が弱いもの\n",
    "\n",
    "var_corr_zero = []\n",
    "current_index = 0\n",
    "n_smallest = 1\n",
    "while len(var_corr_zero) < 10:\n",
    "    if len(var_corr_zero)%2==0:\n",
    "        col_name = sorted_columns[current_index]\n",
    "        if col_name not in var_corr_zero:\n",
    "            var_corr_zero.append(col_name)\n",
    "            current_index += 1\n",
    "    else:\n",
    "        raw = df_train_corr[var_corr_zero[-1]]\n",
    "        n_smallest_index = raw[raw == raw.nsmallest(n_smallest).iloc[-1]].index[0]\n",
    "        if n_smallest_index not in var_corr_zero:\n",
    "            var_corr_zero.append(n_smallest_index)\n",
    "            n_smallest = 1\n",
    "        else:\n",
    "            n_smallest += 1\n",
    "\n",
    "var_corr_zero_ids = sorted([find_index(col_name) for col_name in var_corr_zero])\n",
    "var_corr_zero_results = []\n",
    "\n",
    "for index, row in tqdm(df_test.iterrows()):\n",
    "    result = calculate_score(row.name, var_corr_zero_ids, dims)\n",
    "    var_corr_zero_results.append(result)"
   ]
  },
  {
   "cell_type": "code",
   "execution_count": 179,
   "metadata": {},
   "outputs": [],
   "source": [
    "MAE_var_corr_max = {5: [], 10: [], 15: []}\n",
    "for result in var_corr_max_results:\n",
    "    for dim in dims:\n",
    "        MAE_var_corr_max[dim].append(result[dim][\"MAE\"])\n",
    "\n",
    "MAE_var_corr_zero = {5: [], 10: [], 15: []}\n",
    "for result in var_corr_zero_results:\n",
    "    for dim in dims:\n",
    "        MAE_var_corr_zero[dim].append(result[dim][\"MAE\"])"
   ]
  },
  {
   "cell_type": "code",
   "execution_count": 193,
   "metadata": {},
   "outputs": [
    {
     "data": {
      "text/html": [
       "<div>\n",
       "<style scoped>\n",
       "    .dataframe tbody tr th:only-of-type {\n",
       "        vertical-align: middle;\n",
       "    }\n",
       "\n",
       "    .dataframe tbody tr th {\n",
       "        vertical-align: top;\n",
       "    }\n",
       "\n",
       "    .dataframe thead th {\n",
       "        text-align: right;\n",
       "    }\n",
       "</style>\n",
       "<table border=\"1\" class=\"dataframe\">\n",
       "  <thead>\n",
       "    <tr style=\"text-align: right;\">\n",
       "      <th></th>\n",
       "      <th>5次元</th>\n",
       "      <th>10次元</th>\n",
       "      <th>15次元</th>\n",
       "    </tr>\n",
       "  </thead>\n",
       "  <tbody>\n",
       "    <tr>\n",
       "      <th>count</th>\n",
       "      <td>130.000000</td>\n",
       "      <td>130.000000</td>\n",
       "      <td>130.000000</td>\n",
       "    </tr>\n",
       "    <tr>\n",
       "      <th>mean</th>\n",
       "      <td>2.046837</td>\n",
       "      <td>2.134556</td>\n",
       "      <td>2.148789</td>\n",
       "    </tr>\n",
       "    <tr>\n",
       "      <th>std</th>\n",
       "      <td>0.844407</td>\n",
       "      <td>0.818809</td>\n",
       "      <td>0.790569</td>\n",
       "    </tr>\n",
       "    <tr>\n",
       "      <th>min</th>\n",
       "      <td>0.090000</td>\n",
       "      <td>0.090000</td>\n",
       "      <td>0.090000</td>\n",
       "    </tr>\n",
       "    <tr>\n",
       "      <th>25%</th>\n",
       "      <td>1.479418</td>\n",
       "      <td>1.605749</td>\n",
       "      <td>1.663467</td>\n",
       "    </tr>\n",
       "    <tr>\n",
       "      <th>50%</th>\n",
       "      <td>1.884296</td>\n",
       "      <td>1.956719</td>\n",
       "      <td>2.034898</td>\n",
       "    </tr>\n",
       "    <tr>\n",
       "      <th>75%</th>\n",
       "      <td>2.590626</td>\n",
       "      <td>2.514268</td>\n",
       "      <td>2.627991</td>\n",
       "    </tr>\n",
       "    <tr>\n",
       "      <th>max</th>\n",
       "      <td>4.590810</td>\n",
       "      <td>5.134932</td>\n",
       "      <td>5.237612</td>\n",
       "    </tr>\n",
       "  </tbody>\n",
       "</table>\n",
       "</div>"
      ],
      "text/plain": [
       "              5次元        10次元        15次元\n",
       "count  130.000000  130.000000  130.000000\n",
       "mean     2.046837    2.134556    2.148789\n",
       "std      0.844407    0.818809    0.790569\n",
       "min      0.090000    0.090000    0.090000\n",
       "25%      1.479418    1.605749    1.663467\n",
       "50%      1.884296    1.956719    2.034898\n",
       "75%      2.590626    2.514268    2.627991\n",
       "max      4.590810    5.134932    5.237612"
      ]
     },
     "execution_count": 193,
     "metadata": {},
     "output_type": "execute_result"
    }
   ],
   "source": [
    "df_MAE_var_corr_max = pd.DataFrame({'5次元':MAE_var_corr_max[5],'10次元':MAE_var_corr_max[10],'15次元':MAE_var_corr_max[15]})\n",
    "df_MAE_var_corr_max.describe()"
   ]
  },
  {
   "cell_type": "code",
   "execution_count": 194,
   "metadata": {},
   "outputs": [
    {
     "data": {
      "text/html": [
       "<div>\n",
       "<style scoped>\n",
       "    .dataframe tbody tr th:only-of-type {\n",
       "        vertical-align: middle;\n",
       "    }\n",
       "\n",
       "    .dataframe tbody tr th {\n",
       "        vertical-align: top;\n",
       "    }\n",
       "\n",
       "    .dataframe thead th {\n",
       "        text-align: right;\n",
       "    }\n",
       "</style>\n",
       "<table border=\"1\" class=\"dataframe\">\n",
       "  <thead>\n",
       "    <tr style=\"text-align: right;\">\n",
       "      <th></th>\n",
       "      <th>5次元</th>\n",
       "      <th>10次元</th>\n",
       "      <th>15次元</th>\n",
       "    </tr>\n",
       "  </thead>\n",
       "  <tbody>\n",
       "    <tr>\n",
       "      <th>count</th>\n",
       "      <td>130.000000</td>\n",
       "      <td>130.000000</td>\n",
       "      <td>130.000000</td>\n",
       "    </tr>\n",
       "    <tr>\n",
       "      <th>mean</th>\n",
       "      <td>1.853596</td>\n",
       "      <td>2.239882</td>\n",
       "      <td>2.050929</td>\n",
       "    </tr>\n",
       "    <tr>\n",
       "      <th>std</th>\n",
       "      <td>0.645549</td>\n",
       "      <td>0.908939</td>\n",
       "      <td>0.715502</td>\n",
       "    </tr>\n",
       "    <tr>\n",
       "      <th>min</th>\n",
       "      <td>0.335001</td>\n",
       "      <td>0.908616</td>\n",
       "      <td>0.523554</td>\n",
       "    </tr>\n",
       "    <tr>\n",
       "      <th>25%</th>\n",
       "      <td>1.391104</td>\n",
       "      <td>1.556276</td>\n",
       "      <td>1.523548</td>\n",
       "    </tr>\n",
       "    <tr>\n",
       "      <th>50%</th>\n",
       "      <td>1.859707</td>\n",
       "      <td>2.007308</td>\n",
       "      <td>1.952726</td>\n",
       "    </tr>\n",
       "    <tr>\n",
       "      <th>75%</th>\n",
       "      <td>2.241435</td>\n",
       "      <td>2.812282</td>\n",
       "      <td>2.441179</td>\n",
       "    </tr>\n",
       "    <tr>\n",
       "      <th>max</th>\n",
       "      <td>4.619769</td>\n",
       "      <td>4.530729</td>\n",
       "      <td>4.849464</td>\n",
       "    </tr>\n",
       "  </tbody>\n",
       "</table>\n",
       "</div>"
      ],
      "text/plain": [
       "              5次元        10次元        15次元\n",
       "count  130.000000  130.000000  130.000000\n",
       "mean     1.853596    2.239882    2.050929\n",
       "std      0.645549    0.908939    0.715502\n",
       "min      0.335001    0.908616    0.523554\n",
       "25%      1.391104    1.556276    1.523548\n",
       "50%      1.859707    2.007308    1.952726\n",
       "75%      2.241435    2.812282    2.441179\n",
       "max      4.619769    4.530729    4.849464"
      ]
     },
     "execution_count": 194,
     "metadata": {},
     "output_type": "execute_result"
    }
   ],
   "source": [
    "df_MAE_var_corr_zero = pd.DataFrame({'5次元':MAE_var_corr_zero[5],'10次元':MAE_var_corr_zero[10],'15次元':MAE_var_corr_zero[15]})\n",
    "df_MAE_var_corr_zero.describe()"
   ]
  },
  {
   "cell_type": "code",
   "execution_count": 211,
   "metadata": {},
   "outputs": [
    {
     "data": {
      "image/png": "[encoded data removed]",
      "text/plain": [
       "<Figure size 600x600 with 3 Axes>"
      ]
     },
     "metadata": {},
     "output_type": "display_data"
    }
   ],
   "source": [
    "plt.rcParams[\"figure.figsize\"] = (6, 6)\n",
    "for index, dim in enumerate(dims):\n",
    "    plt.subplot(3, 1, index+1)\n",
    "    plt.hist(MAE_var_corr_max[dim], label=\"相関強\", alpha=0.5)\n",
    "    plt.hist(MAE_var_corr_zero[dim], label=\"相関弱\", alpha=0.5)\n",
    "    plt.title(f\"{dim}次元\")\n",
    "    plt.legend()\n",
    "\n",
    "plt.tight_layout()"
   ]
  },
  {
   "cell_type": "code",
   "execution_count": 183,
   "metadata": {},
   "outputs": [
    {
     "data": {
      "image/png": "[encoded data removed]",
      "text/plain": [
       "<Figure size 600x400 with 2 Axes>"
      ]
     },
     "metadata": {},
     "output_type": "display_data"
    }
   ],
   "source": [
    "plt.rcParams[\"figure.figsize\"] = (6, 4)\n",
    "plt.subplot(2, 1, 1)\n",
    "for index, dim in enumerate(dims):\n",
    "    plt.hist(MAE_var_corr_max[dim], label=f\"{dim}次元\", alpha=0.5)\n",
    "    plt.title(\"分散が大きい画像5枚と相関が強い画像\")\n",
    "    plt.xticks(list(range(7)))\n",
    "    plt.legend()\n",
    "\n",
    "plt.subplot(2, 1, 2)\n",
    "for index, dim in enumerate(dims):\n",
    "    plt.hist(MAE_var_corr_zero[dim], label=f\"{dim}次元\", alpha=0.5)\n",
    "    plt.title(\"分散が大きい画像5枚と相関が弱い画像\")\n",
    "    plt.xticks(list(range(7)))\n",
    "    plt.legend()\n",
    "\n",
    "plt.tight_layout()"
   ]
  },
  {
   "cell_type": "code",
   "execution_count": 186,
   "metadata": {},
   "outputs": [],
   "source": [
    "#オブジェクトの呼び出し(sample_object を保存する)\n",
    "with open('random_samples.pkl', mode='rb') as f:\n",
    "    random_samples = pickle.load(f)"
   ]
  },
  {
   "cell_type": "code",
   "execution_count": 187,
   "metadata": {},
   "outputs": [
    {
     "data": {
      "application/vnd.jupyter.widget-view+json": {
       "model_id": "aeea840bb5334f3cbde0961b74a106ee",
       "version_major": 2,
       "version_minor": 0
      },
      "text/plain": [
       "0it [00:00, ?it/s]"
      ]
     },
     "metadata": {},
     "output_type": "display_data"
    },
    {
     "name": "stdout",
     "output_type": "stream",
     "text": [
      "0\n",
      "1\n",
      "2\n",
      "3\n",
      "5\n",
      "7\n",
      "16\n",
      "19\n",
      "21\n",
      "22\n",
      "30\n",
      "31\n",
      "34\n",
      "41\n",
      "47\n",
      "49\n",
      "52\n",
      "55\n",
      "62\n",
      "77\n",
      "78\n",
      "80\n",
      "84\n",
      "85\n",
      "87\n",
      "89\n",
      "94\n",
      "95\n",
      "100\n",
      "103\n",
      "108\n",
      "111\n",
      "117\n",
      "119\n",
      "121\n",
      "122\n",
      "123\n",
      "124\n",
      "133\n",
      "135\n",
      "136\n",
      "146\n",
      "148\n",
      "153\n",
      "160\n",
      "172\n",
      "180\n",
      "185\n",
      "187\n",
      "197\n",
      "208\n",
      "210\n",
      "220\n",
      "227\n",
      "232\n",
      "254\n",
      "258\n",
      "260\n",
      "267\n",
      "268\n",
      "275\n",
      "278\n",
      "284\n",
      "290\n",
      "292\n",
      "295\n",
      "298\n",
      "312\n",
      "324\n",
      "333\n",
      "342\n",
      "343\n",
      "350\n",
      "363\n",
      "372\n",
      "378\n",
      "381\n",
      "383\n",
      "390\n",
      "394\n",
      "396\n",
      "397\n",
      "406\n",
      "415\n",
      "416\n",
      "419\n",
      "431\n",
      "434\n",
      "440\n",
      "441\n",
      "444\n",
      "445\n",
      "446\n",
      "448\n",
      "457\n",
      "461\n",
      "486\n",
      "488\n",
      "489\n",
      "490\n",
      "492\n",
      "493\n",
      "498\n",
      "504\n",
      "507\n",
      "510\n",
      "524\n",
      "527\n",
      "543\n",
      "546\n",
      "559\n",
      "565\n",
      "576\n",
      "583\n",
      "595\n",
      "597\n",
      "598\n",
      "600\n",
      "608\n"
     ]
    },
    {
     "ename": "KeyboardInterrupt",
     "evalue": "",
     "output_type": "error",
     "traceback": [
      "\u001b[0;31m---------------------------------------------------------------------------\u001b[0m",
      "\u001b[0;31mKeyboardInterrupt\u001b[0m                         Traceback (most recent call last)",
      "Cell \u001b[0;32mIn[187], line 7\u001b[0m\n\u001b[1;32m      5\u001b[0m     \u001b[39mprint\u001b[39m(row\u001b[39m.\u001b[39mname)\n\u001b[1;32m      6\u001b[0m     \u001b[39mfor\u001b[39;00m random_sample \u001b[39min\u001b[39;00m random_samples:\n\u001b[0;32m----> 7\u001b[0m         result \u001b[39m=\u001b[39m calculate_score(row\u001b[39m.\u001b[39;49mname, random_sample, dims)\n\u001b[1;32m      9\u001b[0m \u001b[39mwith\u001b[39;00m \u001b[39mopen\u001b[39m(\u001b[39mf\u001b[39m\u001b[39m\"\u001b[39m\u001b[39mrandom_results_0_10.pkl\u001b[39m\u001b[39m\"\u001b[39m, \u001b[39m\"\u001b[39m\u001b[39mwb\u001b[39m\u001b[39m\"\u001b[39m) \u001b[39mas\u001b[39;00m file:\n\u001b[1;32m     10\u001b[0m     pickle\u001b[39m.\u001b[39mdump(random_results, file)\n",
      "Cell \u001b[0;32mIn[77], line 15\u001b[0m, in \u001b[0;36mcalculate_score\u001b[0;34m(target_id, selected_images, dims)\u001b[0m\n\u001b[1;32m     13\u001b[0m W1_inv \u001b[39m=\u001b[39m np\u001b[39m.\u001b[39mlinalg\u001b[39m.\u001b[39mpinv(W1)\n\u001b[1;32m     14\u001b[0m h_est \u001b[39m=\u001b[39m np\u001b[39m.\u001b[39mdot(W1_inv, x)\n\u001b[0;32m---> 15\u001b[0m q \u001b[39m=\u001b[39m np\u001b[39m.\u001b[39;49mdot(W, h_est)\n\u001b[1;32m     16\u001b[0m q[q\u001b[39m<\u001b[39m\u001b[39m0\u001b[39m] \u001b[39m=\u001b[39m \u001b[39m0\u001b[39m\n\u001b[1;32m     17\u001b[0m q[q\u001b[39m>\u001b[39m\u001b[39m10\u001b[39m] \u001b[39m=\u001b[39m \u001b[39m10\u001b[39m\n",
      "File \u001b[0;32m<__array_function__ internals>:179\u001b[0m, in \u001b[0;36mdot\u001b[0;34m(*args, **kwargs)\u001b[0m\n",
      "\u001b[0;31mKeyboardInterrupt\u001b[0m: "
     ]
    }
   ],
   "source": [
    "# ランダム\n",
    "random_results_0_10 = []\n",
    "\n",
    "for index, row in tqdm(df_test.iterrows()):\n",
    "    print(row.name)\n",
    "    for random_sample in random_samples:\n",
    "        result = calculate_score(row.name, random_sample, dims)\n",
    "        random_results_0_10.append(result)\n",
    "\n",
    "with open(f\"random_results_0_10.pkl\", \"wb\") as file:\n",
    "    pickle.dump(random_results, file)"
   ]
  },
  {
   "cell_type": "code",
   "execution_count": 263,
   "metadata": {},
   "outputs": [
    {
     "data": {
      "application/vnd.jupyter.widget-view+json": {
       "model_id": "f08d3e80f34a4825b3f7d78789650019",
       "version_major": 2,
       "version_minor": 0
      },
      "text/plain": [
       "0it [00:00, ?it/s]"
      ]
     },
     "metadata": {},
     "output_type": "display_data"
    },
    {
     "data": {
      "application/vnd.jupyter.widget-view+json": {
       "model_id": "6e4aa21156b647858cdf57df95b1e184",
       "version_major": 2,
       "version_minor": 0
      },
      "text/plain": [
       "0it [00:00, ?it/s]"
      ]
     },
     "metadata": {},
     "output_type": "display_data"
    }
   ],
   "source": [
    "# 分散が大きいものとそれと相関が強いもの\n",
    "\n",
    "var_corr_max_6 = []\n",
    "current_index = 0\n",
    "n_largest = 2\n",
    "while len(var_corr_max) < 10:\n",
    "    if len(var_corr_max) % 2 == 0:\n",
    "        col_name = sorted_columns[current_index]\n",
    "        if col_name not in var_corr_max_6:\n",
    "            var_corr_max.append(col_name)\n",
    "        current_index += 1\n",
    "    else:\n",
    "        raw = df_train_corr[var_corr_max_6[-1]]\n",
    "        n_largest_index = raw[raw == raw.nlargest(n_largest).iloc[-1]].index[0]\n",
    "        if n_largest_index not in var_corr_max_6:\n",
    "            var_corr_max_6.append(n_largest_index)\n",
    "            n_largest = 2\n",
    "        else:\n",
    "            n_largest += 1\n",
    "\n",
    "var_corr_max_6_ids = sorted([find_index(col_name) for col_name in var_corr_max_6])\n",
    "\n",
    "var_corr_max_6_results = []\n",
    "\n",
    "\n",
    "for index, row in tqdm(df_test.iterrows()):\n",
    "    result = calculate_score(row.name, var_corr_max_6_ids, dims)\n",
    "    var_corr_max_6_results.append(result)\n",
    "\n",
    "# 分散が大きいものとそれと相関が弱いもの\n",
    "var_corr_zero_6 = []\n",
    "current_index = 0\n",
    "n_smallest = 1\n",
    "while len(var_corr_zero_6) < 6:\n",
    "    if len(var_corr_zero_6)%2==0:\n",
    "        col_name = sorted_columns[current_index]\n",
    "        if col_name not in var_corr_zero_6:\n",
    "            var_corr_zero_6.append(col_name)\n",
    "            current_index += 1\n",
    "    else:\n",
    "        row = df_train_corr[var_corr_zero_6[-1]]\n",
    "        n_smallest_index = row[row == row.nsmallest(n_smallest).iloc[-1]].index[0]\n",
    "        if n_smallest_index not in var_corr_zero_6:\n",
    "            var_corr_zero_6.append(n_smallest_index)\n",
    "            n_smallest = 1\n",
    "        else:\n",
    "            n_smallest += 1\n",
    "\n",
    "var_corr_zero_6_ids = sorted([find_index(col_name) for col_name in var_corr_zero_6])\n",
    "var_corr_zero_6_results = []\n",
    "\n",
    "for index, row in tqdm(df_test.iterrows()):\n",
    "    result = calculate_score(row.name, var_corr_zero_6_ids, dims)\n",
    "    var_corr_zero_6_results.append(result)\n",
    "\n",
    "\n",
    "MAE_var_corr_max_6 = {5: [], 10: [], 15: []}\n",
    "for result in var_corr_max_6_results:\n",
    "    for dim in dims:\n",
    "        MAE_var_corr_max_6[dim].append(result[dim][\"MAE\"])\n",
    "\n",
    "MAE_var_corr_zero_6 = {5: [], 10: [], 15: []}\n",
    "for result in var_corr_zero_6_results:\n",
    "    for dim in dims:\n",
    "        MAE_var_corr_zero_6[dim].append(result[dim][\"MAE\"])"
   ]
  },
  {
   "cell_type": "code",
   "execution_count": 264,
   "metadata": {},
   "outputs": [
    {
     "data": {
      "image/png": "[encoded data removed]",
      "text/plain": [
       "<Figure size 600x600 with 3 Axes>"
      ]
     },
     "metadata": {},
     "output_type": "display_data"
    }
   ],
   "source": [
    "plt.rcParams[\"figure.figsize\"] = (6, 6)\n",
    "for index, dim in enumerate(dims):\n",
    "    plt.subplot(3, 1, index+1)\n",
    "    plt.hist(MAE_var_corr_max_6[dim], label=\"相関強\", alpha=0.5)\n",
    "    plt.hist(MAE_var_corr_zero_6[dim], label=\"相関弱\", alpha=0.5)\n",
    "    plt.title(f\"{dim}次元\")\n",
    "    plt.legend()\n",
    "    plt.xlim(0, 7)\n",
    "\n",
    "plt.tight_layout()"
   ]
  },
  {
   "cell_type": "code",
   "execution_count": 206,
   "metadata": {},
   "outputs": [],
   "source": [
    "var_corr_zero_6_index = [find_index(col_name) for col_name in sorted_columns[:6]]\n",
    "\n",
    "with open(\"filename_list.json\", \"r\") as file:\n",
    "    data = json.load(file)\n",
    "    var_corr_zero_6_file_name = [data[index] for index in var_corr_zero_6_index]"
   ]
  },
  {
   "cell_type": "code",
   "execution_count": 209,
   "metadata": {},
   "outputs": [],
   "source": [
    "with open(\"sample_var_corr_zero_6.json\", \"w\") as file:\n",
    "    json.dump(var_corr_zero_6_file_name, file)"
   ]
  },
  {
   "cell_type": "code",
   "execution_count": 212,
   "metadata": {},
   "outputs": [
    {
     "name": "stdout",
     "output_type": "stream",
     "text": [
      "[2, 3, 6, 32, 53, 64]\n"
     ]
    },
    {
     "data": {
      "application/vnd.jupyter.widget-view+json": {
       "model_id": "23aee0689c20435fb44a15574c76b372",
       "version_major": 2,
       "version_minor": 0
      },
      "text/plain": [
       "0it [00:00, ?it/s]"
      ]
     },
     "metadata": {},
     "output_type": "display_data"
    },
    {
     "name": "stdout",
     "output_type": "stream",
     "text": [
      "[40, 41, 54, 73, 83, 98]\n"
     ]
    },
    {
     "data": {
      "application/vnd.jupyter.widget-view+json": {
       "model_id": "27a21ff2a7404dd482e6ee19986a0b0a",
       "version_major": 2,
       "version_minor": 0
      },
      "text/plain": [
       "0it [00:00, ?it/s]"
      ]
     },
     "metadata": {},
     "output_type": "display_data"
    },
    {
     "name": "stdout",
     "output_type": "stream",
     "text": [
      "[2, 6, 40, 64, 73, 98]\n"
     ]
    },
    {
     "data": {
      "application/vnd.jupyter.widget-view+json": {
       "model_id": "0037592de1fc449c8c92a2346a8dcb80",
       "version_major": 2,
       "version_minor": 0
      },
      "text/plain": [
       "0it [00:00, ?it/s]"
      ]
     },
     "metadata": {},
     "output_type": "display_data"
    }
   ],
   "source": [
    "# 分散が大きい順に6枚聞く\n",
    "var_large_6 = sorted([find_index(col_name) for col_name in sorted_columns[:6]])\n",
    "print(var_large_6)\n",
    "var_large_6_results = []\n",
    "for index, row in tqdm(df_test.iterrows()):\n",
    "    result = calculate_score(row.name, var_large_6, dims)\n",
    "    var_large_6_results.append(result)\n",
    "\n",
    "# 分散が小さい順に6枚聞く\n",
    "var_small_6 = sorted([find_index(col_name) for col_name in sorted_columns[-6:]])\n",
    "print(var_small_6)\n",
    "var_small_6_results = []\n",
    "for index, row in tqdm(df_test.iterrows()):\n",
    "    result = calculate_score(row.name, var_small_6, dims)\n",
    "    var_small_6_results.append(result)\n",
    "\n",
    "# 分散が大きい順に3枚、小さい順に3枚聞く\n",
    "var_large_3_small_3 = sorted([find_index(col_name) for col_name in sorted_columns[-3:]] + [find_index(col_name) for col_name in sorted_columns[:3]])\n",
    "var_large_3_small_3_results = []\n",
    "print(var_large_3_small_3)\n",
    "for index, row in tqdm(df_test.iterrows()):\n",
    "    result = calculate_score(row.name, var_large_3_small_3, dims)\n",
    "    var_large_3_small_3_results.append(result)\n",
    "\n",
    "MAE_var_large_6 = {5: [], 10: [], 15: []}\n",
    "for result in var_large_6_results:\n",
    "    for dim in dims:\n",
    "        MAE_var_large_6[dim].append(result[dim][\"MAE\"])\n",
    "\n",
    "MAE_var_small_6 = {5: [], 10: [], 15: []}\n",
    "for result in var_small_6_results:\n",
    "    for dim in dims:\n",
    "        MAE_var_small_6[dim].append(result[dim][\"MAE\"])\n",
    "\n",
    "MAE_var_large_3_small_3 = {5: [], 10: [], 15: []}\n",
    "for result in var_large_3_small_3_results:\n",
    "    for dim in dims:\n",
    "        MAE_var_large_3_small_3[dim].append(result[dim][\"MAE\"])"
   ]
  },
  {
   "cell_type": "code",
   "execution_count": 221,
   "metadata": {},
   "outputs": [
    {
     "data": {
      "image/png": "[encoded data removed]",
      "text/plain": [
       "<Figure size 600x600 with 3 Axes>"
      ]
     },
     "metadata": {},
     "output_type": "display_data"
    }
   ],
   "source": [
    "plt.rcParams[\"figure.figsize\"] = (6, 6)\n",
    "for index, dim in enumerate(dims):\n",
    "    plt.subplot(3, 1, index+1)\n",
    "    plt.hist(MAE_var_large_6[dim], label=\"分散大6\", alpha=0.5)\n",
    "    plt.hist(MAE_var_small_6[dim], label=\"分散小6\", alpha=0.5)\n",
    "    plt.hist(MAE_var_large_3_small_3[dim], label=\"分散大3小3\", alpha=0.5)\n",
    "    plt.title(f\"{dim}次元\")\n",
    "    plt.xlim(0, 7)\n",
    "    plt.legend()\n",
    "\n",
    "plt.tight_layout()"
   ]
  },
  {
   "cell_type": "code",
   "execution_count": 259,
   "metadata": {},
   "outputs": [
    {
     "data": {
      "text/html": [
       "<div>\n",
       "<style scoped>\n",
       "    .dataframe tbody tr th:only-of-type {\n",
       "        vertical-align: middle;\n",
       "    }\n",
       "\n",
       "    .dataframe tbody tr th {\n",
       "        vertical-align: top;\n",
       "    }\n",
       "\n",
       "    .dataframe thead th {\n",
       "        text-align: right;\n",
       "    }\n",
       "</style>\n",
       "<table border=\"1\" class=\"dataframe\">\n",
       "  <thead>\n",
       "    <tr style=\"text-align: right;\">\n",
       "      <th></th>\n",
       "      <th>5次元</th>\n",
       "      <th>10次元</th>\n",
       "      <th>15次元</th>\n",
       "    </tr>\n",
       "  </thead>\n",
       "  <tbody>\n",
       "    <tr>\n",
       "      <th>count</th>\n",
       "      <td>130.000000</td>\n",
       "      <td>130.000000</td>\n",
       "      <td>130.000000</td>\n",
       "    </tr>\n",
       "    <tr>\n",
       "      <th>mean</th>\n",
       "      <td>2.337013</td>\n",
       "      <td>1.711770</td>\n",
       "      <td>2.169776</td>\n",
       "    </tr>\n",
       "    <tr>\n",
       "      <th>std</th>\n",
       "      <td>1.038470</td>\n",
       "      <td>0.541312</td>\n",
       "      <td>0.764682</td>\n",
       "    </tr>\n",
       "    <tr>\n",
       "      <th>min</th>\n",
       "      <td>0.090000</td>\n",
       "      <td>0.090000</td>\n",
       "      <td>0.090000</td>\n",
       "    </tr>\n",
       "    <tr>\n",
       "      <th>25%</th>\n",
       "      <td>1.632197</td>\n",
       "      <td>1.406131</td>\n",
       "      <td>1.704973</td>\n",
       "    </tr>\n",
       "    <tr>\n",
       "      <th>50%</th>\n",
       "      <td>2.122242</td>\n",
       "      <td>1.674630</td>\n",
       "      <td>2.213737</td>\n",
       "    </tr>\n",
       "    <tr>\n",
       "      <th>75%</th>\n",
       "      <td>2.913844</td>\n",
       "      <td>2.019226</td>\n",
       "      <td>2.584988</td>\n",
       "    </tr>\n",
       "    <tr>\n",
       "      <th>max</th>\n",
       "      <td>5.558814</td>\n",
       "      <td>3.435423</td>\n",
       "      <td>5.205698</td>\n",
       "    </tr>\n",
       "  </tbody>\n",
       "</table>\n",
       "</div>"
      ],
      "text/plain": [
       "              5次元        10次元        15次元\n",
       "count  130.000000  130.000000  130.000000\n",
       "mean     2.337013    1.711770    2.169776\n",
       "std      1.038470    0.541312    0.764682\n",
       "min      0.090000    0.090000    0.090000\n",
       "25%      1.632197    1.406131    1.704973\n",
       "50%      2.122242    1.674630    2.213737\n",
       "75%      2.913844    2.019226    2.584988\n",
       "max      5.558814    3.435423    5.205698"
      ]
     },
     "execution_count": 259,
     "metadata": {},
     "output_type": "execute_result"
    }
   ],
   "source": [
    "df_var_large_6 = pd.DataFrame({'5次元':MAE_var_large_6[5],'10次元':MAE_var_large_6[10],'15次元':MAE_var_large_6[15]})\n",
    "df_var_large_6.describe()"
   ]
  },
  {
   "cell_type": "code",
   "execution_count": 260,
   "metadata": {},
   "outputs": [
    {
     "data": {
      "text/html": [
       "<div>\n",
       "<style scoped>\n",
       "    .dataframe tbody tr th:only-of-type {\n",
       "        vertical-align: middle;\n",
       "    }\n",
       "\n",
       "    .dataframe tbody tr th {\n",
       "        vertical-align: top;\n",
       "    }\n",
       "\n",
       "    .dataframe thead th {\n",
       "        text-align: right;\n",
       "    }\n",
       "</style>\n",
       "<table border=\"1\" class=\"dataframe\">\n",
       "  <thead>\n",
       "    <tr style=\"text-align: right;\">\n",
       "      <th></th>\n",
       "      <th>5次元</th>\n",
       "      <th>10次元</th>\n",
       "      <th>15次元</th>\n",
       "    </tr>\n",
       "  </thead>\n",
       "  <tbody>\n",
       "    <tr>\n",
       "      <th>count</th>\n",
       "      <td>130.000000</td>\n",
       "      <td>130.000000</td>\n",
       "      <td>130.000000</td>\n",
       "    </tr>\n",
       "    <tr>\n",
       "      <th>mean</th>\n",
       "      <td>3.814556</td>\n",
       "      <td>2.100465</td>\n",
       "      <td>2.319317</td>\n",
       "    </tr>\n",
       "    <tr>\n",
       "      <th>std</th>\n",
       "      <td>1.333294</td>\n",
       "      <td>0.679881</td>\n",
       "      <td>0.739280</td>\n",
       "    </tr>\n",
       "    <tr>\n",
       "      <th>min</th>\n",
       "      <td>0.090000</td>\n",
       "      <td>0.090000</td>\n",
       "      <td>0.090000</td>\n",
       "    </tr>\n",
       "    <tr>\n",
       "      <th>25%</th>\n",
       "      <td>3.227631</td>\n",
       "      <td>1.711038</td>\n",
       "      <td>1.989860</td>\n",
       "    </tr>\n",
       "    <tr>\n",
       "      <th>50%</th>\n",
       "      <td>4.059420</td>\n",
       "      <td>2.095741</td>\n",
       "      <td>2.336849</td>\n",
       "    </tr>\n",
       "    <tr>\n",
       "      <th>75%</th>\n",
       "      <td>4.582700</td>\n",
       "      <td>2.455711</td>\n",
       "      <td>2.775370</td>\n",
       "    </tr>\n",
       "    <tr>\n",
       "      <th>max</th>\n",
       "      <td>6.596817</td>\n",
       "      <td>3.720000</td>\n",
       "      <td>3.729142</td>\n",
       "    </tr>\n",
       "  </tbody>\n",
       "</table>\n",
       "</div>"
      ],
      "text/plain": [
       "              5次元        10次元        15次元\n",
       "count  130.000000  130.000000  130.000000\n",
       "mean     3.814556    2.100465    2.319317\n",
       "std      1.333294    0.679881    0.739280\n",
       "min      0.090000    0.090000    0.090000\n",
       "25%      3.227631    1.711038    1.989860\n",
       "50%      4.059420    2.095741    2.336849\n",
       "75%      4.582700    2.455711    2.775370\n",
       "max      6.596817    3.720000    3.729142"
      ]
     },
     "execution_count": 260,
     "metadata": {},
     "output_type": "execute_result"
    }
   ],
   "source": [
    "df_var_small_6 = pd.DataFrame({'5次元':MAE_var_small_6[5],'10次元':MAE_var_small_6[10],'15次元':MAE_var_small_6[15]})\n",
    "df_var_small_6.describe()"
   ]
  },
  {
   "cell_type": "code",
   "execution_count": 261,
   "metadata": {},
   "outputs": [
    {
     "data": {
      "text/html": [
       "<div>\n",
       "<style scoped>\n",
       "    .dataframe tbody tr th:only-of-type {\n",
       "        vertical-align: middle;\n",
       "    }\n",
       "\n",
       "    .dataframe tbody tr th {\n",
       "        vertical-align: top;\n",
       "    }\n",
       "\n",
       "    .dataframe thead th {\n",
       "        text-align: right;\n",
       "    }\n",
       "</style>\n",
       "<table border=\"1\" class=\"dataframe\">\n",
       "  <thead>\n",
       "    <tr style=\"text-align: right;\">\n",
       "      <th></th>\n",
       "      <th>5次元</th>\n",
       "      <th>10次元</th>\n",
       "      <th>15次元</th>\n",
       "    </tr>\n",
       "  </thead>\n",
       "  <tbody>\n",
       "    <tr>\n",
       "      <th>count</th>\n",
       "      <td>130.000000</td>\n",
       "      <td>130.000000</td>\n",
       "      <td>130.000000</td>\n",
       "    </tr>\n",
       "    <tr>\n",
       "      <th>mean</th>\n",
       "      <td>3.571540</td>\n",
       "      <td>1.922380</td>\n",
       "      <td>2.096176</td>\n",
       "    </tr>\n",
       "    <tr>\n",
       "      <th>std</th>\n",
       "      <td>1.313455</td>\n",
       "      <td>0.606340</td>\n",
       "      <td>0.661132</td>\n",
       "    </tr>\n",
       "    <tr>\n",
       "      <th>min</th>\n",
       "      <td>0.090000</td>\n",
       "      <td>0.090000</td>\n",
       "      <td>0.090000</td>\n",
       "    </tr>\n",
       "    <tr>\n",
       "      <th>25%</th>\n",
       "      <td>2.998927</td>\n",
       "      <td>1.619803</td>\n",
       "      <td>1.755658</td>\n",
       "    </tr>\n",
       "    <tr>\n",
       "      <th>50%</th>\n",
       "      <td>3.749476</td>\n",
       "      <td>1.936493</td>\n",
       "      <td>2.127094</td>\n",
       "    </tr>\n",
       "    <tr>\n",
       "      <th>75%</th>\n",
       "      <td>4.491301</td>\n",
       "      <td>2.323553</td>\n",
       "      <td>2.458185</td>\n",
       "    </tr>\n",
       "    <tr>\n",
       "      <th>max</th>\n",
       "      <td>6.854094</td>\n",
       "      <td>3.714789</td>\n",
       "      <td>4.161574</td>\n",
       "    </tr>\n",
       "  </tbody>\n",
       "</table>\n",
       "</div>"
      ],
      "text/plain": [
       "              5次元        10次元        15次元\n",
       "count  130.000000  130.000000  130.000000\n",
       "mean     3.571540    1.922380    2.096176\n",
       "std      1.313455    0.606340    0.661132\n",
       "min      0.090000    0.090000    0.090000\n",
       "25%      2.998927    1.619803    1.755658\n",
       "50%      3.749476    1.936493    2.127094\n",
       "75%      4.491301    2.323553    2.458185\n",
       "max      6.854094    3.714789    4.161574"
      ]
     },
     "execution_count": 261,
     "metadata": {},
     "output_type": "execute_result"
    }
   ],
   "source": [
    "df_var_large_3_small_3 = pd.DataFrame({'5次元':MAE_var_large_3_small_3[5],'10次元':MAE_var_large_3_small_3[10],'15次元':MAE_var_large_3_small_3[15]})\n",
    "df_var_large_3_small_3.describe()"
   ]
  },
  {
   "cell_type": "code",
   "execution_count": 262,
   "metadata": {},
   "outputs": [
    {
     "data": {
      "text/html": [
       "<div>\n",
       "<style scoped>\n",
       "    .dataframe tbody tr th:only-of-type {\n",
       "        vertical-align: middle;\n",
       "    }\n",
       "\n",
       "    .dataframe tbody tr th {\n",
       "        vertical-align: top;\n",
       "    }\n",
       "\n",
       "    .dataframe thead th {\n",
       "        text-align: right;\n",
       "    }\n",
       "</style>\n",
       "<table border=\"1\" class=\"dataframe\">\n",
       "  <thead>\n",
       "    <tr style=\"text-align: right;\">\n",
       "      <th></th>\n",
       "      <th>5次元</th>\n",
       "      <th>10次元</th>\n",
       "      <th>15次元</th>\n",
       "    </tr>\n",
       "  </thead>\n",
       "  <tbody>\n",
       "    <tr>\n",
       "      <th>count</th>\n",
       "      <td>130.000000</td>\n",
       "      <td>130.000000</td>\n",
       "      <td>130.000000</td>\n",
       "    </tr>\n",
       "    <tr>\n",
       "      <th>mean</th>\n",
       "      <td>3.736000</td>\n",
       "      <td>3.736000</td>\n",
       "      <td>3.736000</td>\n",
       "    </tr>\n",
       "    <tr>\n",
       "      <th>std</th>\n",
       "      <td>1.386919</td>\n",
       "      <td>1.386919</td>\n",
       "      <td>1.386919</td>\n",
       "    </tr>\n",
       "    <tr>\n",
       "      <th>min</th>\n",
       "      <td>0.090000</td>\n",
       "      <td>0.090000</td>\n",
       "      <td>0.090000</td>\n",
       "    </tr>\n",
       "    <tr>\n",
       "      <th>25%</th>\n",
       "      <td>3.010000</td>\n",
       "      <td>3.010000</td>\n",
       "      <td>3.010000</td>\n",
       "    </tr>\n",
       "    <tr>\n",
       "      <th>50%</th>\n",
       "      <td>3.940000</td>\n",
       "      <td>3.940000</td>\n",
       "      <td>3.940000</td>\n",
       "    </tr>\n",
       "    <tr>\n",
       "      <th>75%</th>\n",
       "      <td>4.707500</td>\n",
       "      <td>4.707500</td>\n",
       "      <td>4.707500</td>\n",
       "    </tr>\n",
       "    <tr>\n",
       "      <th>max</th>\n",
       "      <td>6.610000</td>\n",
       "      <td>6.610000</td>\n",
       "      <td>6.610000</td>\n",
       "    </tr>\n",
       "  </tbody>\n",
       "</table>\n",
       "</div>"
      ],
      "text/plain": [
       "              5次元        10次元        15次元\n",
       "count  130.000000  130.000000  130.000000\n",
       "mean     3.736000    3.736000    3.736000\n",
       "std      1.386919    1.386919    1.386919\n",
       "min      0.090000    0.090000    0.090000\n",
       "25%      3.010000    3.010000    3.010000\n",
       "50%      3.940000    3.940000    3.940000\n",
       "75%      4.707500    4.707500    4.707500\n",
       "max      6.610000    6.610000    6.610000"
      ]
     },
     "execution_count": 262,
     "metadata": {},
     "output_type": "execute_result"
    }
   ],
   "source": [
    "df_var_corr_max_6 = pd.DataFrame({'5次元':MAE_var_corr_max_6[5],'10次元':MAE_var_corr_max_6[10],'15次元':MAE_var_corr_max_6[15]})\n",
    "df_var_corr_max_6.describe()"
   ]
  },
  {
   "cell_type": "code",
   "execution_count": 267,
   "metadata": {},
   "outputs": [
    {
     "data": {
      "text/html": [
       "<div>\n",
       "<style scoped>\n",
       "    .dataframe tbody tr th:only-of-type {\n",
       "        vertical-align: middle;\n",
       "    }\n",
       "\n",
       "    .dataframe tbody tr th {\n",
       "        vertical-align: top;\n",
       "    }\n",
       "\n",
       "    .dataframe thead th {\n",
       "        text-align: right;\n",
       "    }\n",
       "</style>\n",
       "<table border=\"1\" class=\"dataframe\">\n",
       "  <thead>\n",
       "    <tr style=\"text-align: right;\">\n",
       "      <th></th>\n",
       "      <th>5次元</th>\n",
       "      <th>10次元</th>\n",
       "      <th>15次元</th>\n",
       "    </tr>\n",
       "  </thead>\n",
       "  <tbody>\n",
       "    <tr>\n",
       "      <th>count</th>\n",
       "      <td>130.000000</td>\n",
       "      <td>130.000000</td>\n",
       "      <td>130.000000</td>\n",
       "    </tr>\n",
       "    <tr>\n",
       "      <th>mean</th>\n",
       "      <td>3.042244</td>\n",
       "      <td>1.746748</td>\n",
       "      <td>1.844714</td>\n",
       "    </tr>\n",
       "    <tr>\n",
       "      <th>std</th>\n",
       "      <td>1.098294</td>\n",
       "      <td>0.520490</td>\n",
       "      <td>0.489461</td>\n",
       "    </tr>\n",
       "    <tr>\n",
       "      <th>min</th>\n",
       "      <td>0.897785</td>\n",
       "      <td>0.461801</td>\n",
       "      <td>0.425721</td>\n",
       "    </tr>\n",
       "    <tr>\n",
       "      <th>25%</th>\n",
       "      <td>2.125308</td>\n",
       "      <td>1.348042</td>\n",
       "      <td>1.516338</td>\n",
       "    </tr>\n",
       "    <tr>\n",
       "      <th>50%</th>\n",
       "      <td>2.998348</td>\n",
       "      <td>1.654002</td>\n",
       "      <td>1.765518</td>\n",
       "    </tr>\n",
       "    <tr>\n",
       "      <th>75%</th>\n",
       "      <td>3.869095</td>\n",
       "      <td>2.029155</td>\n",
       "      <td>2.164044</td>\n",
       "    </tr>\n",
       "    <tr>\n",
       "      <th>max</th>\n",
       "      <td>5.901027</td>\n",
       "      <td>3.290302</td>\n",
       "      <td>3.273508</td>\n",
       "    </tr>\n",
       "  </tbody>\n",
       "</table>\n",
       "</div>"
      ],
      "text/plain": [
       "              5次元        10次元        15次元\n",
       "count  130.000000  130.000000  130.000000\n",
       "mean     3.042244    1.746748    1.844714\n",
       "std      1.098294    0.520490    0.489461\n",
       "min      0.897785    0.461801    0.425721\n",
       "25%      2.125308    1.348042    1.516338\n",
       "50%      2.998348    1.654002    1.765518\n",
       "75%      3.869095    2.029155    2.164044\n",
       "max      5.901027    3.290302    3.273508"
      ]
     },
     "execution_count": 267,
     "metadata": {},
     "output_type": "execute_result"
    }
   ],
   "source": [
    "df_var_corr_zero_6 = pd.DataFrame({'5次元':MAE_var_corr_zero_6[5],'10次元':MAE_var_corr_zero_6[10],'15次元':MAE_var_corr_zero_6[15]})\n",
    "df_var_corr_zero_6.describe()"
   ]
  },
  {
   "cell_type": "code",
   "execution_count": 233,
   "metadata": {},
   "outputs": [],
   "source": [
    "# 訓練用データの平均\n",
    "means = df_train.mean().values"
   ]
  },
  {
   "cell_type": "code",
   "execution_count": 254,
   "metadata": {},
   "outputs": [
    {
     "data": {
      "application/vnd.jupyter.widget-view+json": {
       "model_id": "1349ff90ddc842bba08c3430a55ace2c",
       "version_major": 2,
       "version_minor": 0
      },
      "text/plain": [
       "0it [00:00, ?it/s]"
      ]
     },
     "metadata": {},
     "output_type": "display_data"
    }
   ],
   "source": [
    "# 分散最大+相関弱\n",
    "var_corr_2 = []\n",
    "n_smallest = 1\n",
    "var_corr_2.append(sorted_columns[0])\n",
    "n_smallest_index = row[row == row.nsmallest(n_smallest).iloc[-1]].index[0]\n",
    "var_corr_2.append(n_smallest_index)\n",
    "var_corr_2_ids = sorted([find_index(col_name) for col_name in var_corr_2])\n",
    "\n",
    "filnal_result_list = []\n",
    "for index, row in tqdm(df_test.iterrows()):\n",
    "    result_first = calculate_score(row.name, var_corr_2_ids, dims)\n",
    "    result_final = {}\n",
    "    for dim in dims:\n",
    "        selected_ids = set(var_corr_2_ids)\n",
    "        diff_first = np.abs(means-result_first[dim][\"q\"])\n",
    "        sorted_indices = np.argsort(diff_first)\n",
    "        index = 1\n",
    "        while len(selected_ids) < 4:\n",
    "            if sorted_indices[index * -1] not in selected_ids:\n",
    "                selected_ids.add(sorted_indices[index * -1])\n",
    "            index += 1\n",
    "        result_second = calculate_score(row.name, list(selected_ids), [dim])\n",
    "        diff_second = np.abs(result_second[dim][\"q\"] - result_first[dim][\"q\"])\n",
    "        sorted_indices = np.argsort(diff_second)\n",
    "        index = 1\n",
    "        while len(selected_ids) < 6:\n",
    "            if sorted_indices[index * -1] not in selected_ids:\n",
    "                selected_ids.add(sorted_indices[index * -1])\n",
    "            index += 1\n",
    "        result_third = calculate_score(row.name, list(selected_ids), [dim])\n",
    "        result_final[dim] = result_third[dim]\n",
    "    filnal_result_list.append(result_final)\n",
    "\n",
    "MAE_diff_est = {5: [], 10: [], 15: []}\n",
    "for result in filnal_result_list:\n",
    "    for dim in dims:\n",
    "        MAE_diff_est[dim].append(result[dim][\"MAE\"])"
   ]
  },
  {
   "cell_type": "code",
   "execution_count": 257,
   "metadata": {},
   "outputs": [
    {
     "data": {
      "image/png": "[encoded data removed]",
      "text/plain": [
       "<Figure size 600x600 with 3 Axes>"
      ]
     },
     "metadata": {},
     "output_type": "display_data"
    }
   ],
   "source": [
    "plt.rcParams[\"figure.figsize\"] = (6, 6)\n",
    "for index, dim in enumerate(dims):\n",
    "    plt.subplot(3, 1, index+1)\n",
    "    plt.hist(MAE_diff_est[dim], alpha=0.5)\n",
    "    plt.title(f\"{dim}次元\")\n",
    "    plt.xlim(0, 7)\n",
    "\n",
    "plt.tight_layout()"
   ]
  },
  {
   "cell_type": "code",
   "execution_count": 258,
   "metadata": {},
   "outputs": [
    {
     "data": {
      "text/html": [
       "<div>\n",
       "<style scoped>\n",
       "    .dataframe tbody tr th:only-of-type {\n",
       "        vertical-align: middle;\n",
       "    }\n",
       "\n",
       "    .dataframe tbody tr th {\n",
       "        vertical-align: top;\n",
       "    }\n",
       "\n",
       "    .dataframe thead th {\n",
       "        text-align: right;\n",
       "    }\n",
       "</style>\n",
       "<table border=\"1\" class=\"dataframe\">\n",
       "  <thead>\n",
       "    <tr style=\"text-align: right;\">\n",
       "      <th></th>\n",
       "      <th>5次元</th>\n",
       "      <th>10次元</th>\n",
       "      <th>15次元</th>\n",
       "    </tr>\n",
       "  </thead>\n",
       "  <tbody>\n",
       "    <tr>\n",
       "      <th>count</th>\n",
       "      <td>130.000000</td>\n",
       "      <td>130.000000</td>\n",
       "      <td>130.000000</td>\n",
       "    </tr>\n",
       "    <tr>\n",
       "      <th>mean</th>\n",
       "      <td>2.443167</td>\n",
       "      <td>1.872101</td>\n",
       "      <td>1.798778</td>\n",
       "    </tr>\n",
       "    <tr>\n",
       "      <th>std</th>\n",
       "      <td>0.975856</td>\n",
       "      <td>0.527607</td>\n",
       "      <td>0.505622</td>\n",
       "    </tr>\n",
       "    <tr>\n",
       "      <th>min</th>\n",
       "      <td>0.336302</td>\n",
       "      <td>0.496055</td>\n",
       "      <td>0.207518</td>\n",
       "    </tr>\n",
       "    <tr>\n",
       "      <th>25%</th>\n",
       "      <td>1.692352</td>\n",
       "      <td>1.524850</td>\n",
       "      <td>1.523881</td>\n",
       "    </tr>\n",
       "    <tr>\n",
       "      <th>50%</th>\n",
       "      <td>2.313859</td>\n",
       "      <td>1.890585</td>\n",
       "      <td>1.793863</td>\n",
       "    </tr>\n",
       "    <tr>\n",
       "      <th>75%</th>\n",
       "      <td>3.106045</td>\n",
       "      <td>2.162781</td>\n",
       "      <td>2.094984</td>\n",
       "    </tr>\n",
       "    <tr>\n",
       "      <th>max</th>\n",
       "      <td>4.846033</td>\n",
       "      <td>3.116847</td>\n",
       "      <td>3.132842</td>\n",
       "    </tr>\n",
       "  </tbody>\n",
       "</table>\n",
       "</div>"
      ],
      "text/plain": [
       "              5次元        10次元        15次元\n",
       "count  130.000000  130.000000  130.000000\n",
       "mean     2.443167    1.872101    1.798778\n",
       "std      0.975856    0.527607    0.505622\n",
       "min      0.336302    0.496055    0.207518\n",
       "25%      1.692352    1.524850    1.523881\n",
       "50%      2.313859    1.890585    1.793863\n",
       "75%      3.106045    2.162781    2.094984\n",
       "max      4.846033    3.116847    3.132842"
      ]
     },
     "execution_count": 258,
     "metadata": {},
     "output_type": "execute_result"
    }
   ],
   "source": [
    "df_diff_est = pd.DataFrame({'5次元':MAE_diff_est[5],'10次元':MAE_diff_est[10],'15次元':MAE_diff_est[15]})\n",
    "df_diff_est.describe()"
   ]
  },
  {
   "cell_type": "code",
   "execution_count": null,
   "metadata": {},
   "outputs": [],
   "source": []
  }
 ],
 "metadata": {
  "kernelspec": {
   "display_name": "Python 3",
   "language": "python",
   "name": "python3"
  },
  "language_info": {
   "codemirror_mode": {
    "name": "ipython",
    "version": 3
   },
   "file_extension": ".py",
   "mimetype": "text/x-python",
   "name": "python",
   "nbconvert_exporter": "python",
   "pygments_lexer": "ipython3",
   "version": "3.9.10"
  },
  "orig_nbformat": 4
 },
 "nbformat": 4,
 "nbformat_minor": 2
}
