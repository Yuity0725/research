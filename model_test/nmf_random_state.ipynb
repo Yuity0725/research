{
 "cells": [
  {
   "cell_type": "code",
   "execution_count": 60,
   "metadata": {},
   "outputs": [],
   "source": [
    "import itertools\n",
    "import japanize_matplotlib\n",
    "import json\n",
    "import pickle\n",
    "import random\n",
    "import statistics\n",
    "\n",
    "import numpy as np\n",
    "import pandas as pd\n",
    "import seaborn as sns\n",
    "import matplotlib.pyplot as plt\n",
    "\n",
    "from pprint import pprint\n",
    "from sklearn.metrics import mean_absolute_error\n",
    "from tqdm.auto import tqdm"
   ]
  },
  {
   "cell_type": "code",
   "execution_count": 7,
   "metadata": {},
   "outputs": [
    {
     "data": {
      "application/vnd.jupyter.widget-view+json": {
       "model_id": "1341039f67c049cfba4b5e67c786b015",
       "version_major": 2,
       "version_minor": 0
      },
      "text/plain": [
       "  0%|          | 0/25 [00:00<?, ?it/s]"
      ]
     },
     "metadata": {},
     "output_type": "display_data"
    }
   ],
   "source": [
    "plt.rcParams[\"font.family\"] = \"IPAexGothic\"\n",
    "\n",
    "pd.options.display.max_columns = 200\n",
    "pd.options.display.max_rows = 100\n",
    "\n",
    "# 重みの読み込み\n",
    "matrix_dict = {}\n",
    "for dim in tqdm(range(5, 30)):\n",
    "    matrix_dict[dim] = [\n",
    "        np.load(f\"nmf_w/train/nmf_w_r{i}/nmf_50000_w_{dim}_r{i}.npy\") for i in range(1000)\n",
    "    ]\n",
    "\n",
    "\n",
    "# データセットの読み込み\n",
    "df_result = pd.read_csv(\"human0821.csv\")\n",
    "df_gt = pd.read_csv(\"all_data.csv\", index_col=0)\n",
    "df_t = df_gt.T\n",
    "selected_ids = list(set(df_result[\"target_ID\"]))\n",
    "df_drop = df_gt.drop(selected_ids, axis=0)\n",
    "df_train = pd.read_csv(\"train.csv\", index_col=0).T\n",
    "df_test = pd.read_csv(\"test.csv\", index_col=0)\n",
    "\n",
    "# NMFの次元数\n",
    "dims = (5, 10, 15)"
   ]
  },
  {
   "cell_type": "code",
   "execution_count": null,
   "metadata": {},
   "outputs": [],
   "source": [
    "# 推論\n",
    "def calculate_score(target_id: int, selected_images: list, dims: tuple):\n",
    "    result = {}\n",
    "    q_gt = df_gt.iloc[target_id].to_numpy()\n",
    "    x = df_gt.iloc[target_id, selected_images].to_numpy()\n",
    "\n",
    "    for dim in dims:\n",
    "        h_array = []\n",
    "        result[dim] = {}\n",
    "        for random_state in range(1000):\n",
    "            W = matrix_dict[dim][random_state]\n",
    "            W1 = W[selected_images]\n",
    "            W1_inv = np.linalg.pinv(W1)\n",
    "            h_est = np.dot(W1_inv, x)\n",
    "            h_array.append(h_est)\n",
    "        h_est_mean = sum(h_array) / len(h_array)\n",
    "        q = np.dot(W, h_est_mean)\n",
    "        q[q<0] = 0\n",
    "        q[q>10] = 10\n",
    "        result[dim][\"q\"] = q\n",
    "        result[dim][\"MAE\"] = mean_absolute_error(q, q_gt)\n",
    "    return result"
   ]
  },
  {
   "cell_type": "code",
   "execution_count": null,
   "metadata": {},
   "outputs": [],
   "source": [
    "# 6個のサンプルをランダムに100個生成\n",
    "random_samples = [sorted(random.sample(range(100), 6)) for _ in range(100)]\n",
    "\n",
    "with open(f\"random_samples_6_100.pkl\", \"wb\") as file:\n",
    "    pickle.dump(random_samples, file)"
   ]
  },
  {
   "cell_type": "code",
   "execution_count": 17,
   "metadata": {},
   "outputs": [
    {
     "data": {
      "application/vnd.jupyter.widget-view+json": {
       "model_id": "ef9b95e384d14fe9bf3e95bd60dc1ef0",
       "version_major": 2,
       "version_minor": 0
      },
      "text/plain": [
       "0it [00:00, ?it/s]"
      ]
     },
     "metadata": {},
     "output_type": "display_data"
    }
   ],
   "source": [
    "\n",
    "# targetを予測\n",
    "random_state_results = []\n",
    "\n",
    "for index, row in tqdm(df_result.iterrows()):\n",
    "    data = {}\n",
    "    target_ID = row[\"target_ID\"]\n",
    "    clicked_count = row[\"clicked_count\"]\n",
    "    clicked_images = sorted([int(x) for x in row[\"clicked_images\"].split(\",\")])\n",
    "    q_gt = df_gt.iloc[target_ID].to_numpy()\n",
    "    x = df_gt.iloc[target_ID, clicked_images].to_numpy()\n",
    "\n",
    "    target_row = df_gt[df_gt.index==target_ID]\n",
    "    correct_answers = []\n",
    "\n",
    "    results = {\"q\": {}, \"MAE\": {}}\n",
    "    for dim in dims:\n",
    "        q_dict = {}\n",
    "        MAE_dict = {}\n",
    "        # random_stateで比較\n",
    "        for random_state in range(1000):\n",
    "            W = matrix_dict[dim][random_state]\n",
    "            W1 = W[clicked_images]\n",
    "            W1_inv = np.linalg.pinv(W1)\n",
    "            h_est = np.dot(W1_inv, x)\n",
    "            q = np.dot(W, h_est)\n",
    "            q[q < 0] = 0\n",
    "            q[q > 10] = 10\n",
    "            q_dict[random_state] = q\n",
    "            MAE_dict[random_state] = mean_absolute_error(q_gt, q)\n",
    "        results[\"q\"][dim] = q_dict\n",
    "        results[\"MAE\"][dim] = MAE_dict\n",
    "    random_state_results.append(results)"
   ]
  },
  {
   "cell_type": "code",
   "execution_count": 39,
   "metadata": {},
   "outputs": [
    {
     "name": "stdout",
     "output_type": "stream",
     "text": [
      "808 2.1320029648161563 408 2.1317475888820834\n",
      "27 2.611433536744565 363 1.8360453147004683\n",
      "639 2.6584752527013626 476 1.9306953294058986\n"
     ]
    },
    {
     "data": {
      "image/png": "[encoded data removed]",
      "text/plain": [
       "<Figure size 600x600 with 3 Axes>"
      ]
     },
     "metadata": {},
     "output_type": "display_data"
    }
   ],
   "source": [
    "plt.rcParams[\"figure.figsize\"] = (6, 6)\n",
    "random_state_data = {}\n",
    "for dim in dims:\n",
    "    dim_data = {}\n",
    "    data = np.array([statistics.mean([result[\"MAE\"][dim][random_state] for result in random_state_results]) for random_state in range(1000)])\n",
    "    dim_data[\"data\"] = data\n",
    "    dim_data[\"argmin\"] = data.argmin()\n",
    "    dim_data[\"min\"] = data.min()\n",
    "    dim_data[\"argmax\"] = data.argmax()\n",
    "    dim_data[\"max\"] = data.max()\n",
    "    random_state_data[dim] = dim_data\n",
    "\n",
    "for index, dim in enumerate(dims):\n",
    "    plt.subplot(3, 1, index+1)\n",
    "    print(random_state_data[dim][\"argmax\"], random_state_data[dim][\"max\"], random_state_data[dim][\"argmin\"], random_state_data[dim][\"min\"])\n",
    "    plt.bar(x=range(1000), height=random_state_data[dim][\"data\"])"
   ]
  },
  {
   "cell_type": "code",
   "execution_count": 30,
   "metadata": {},
   "outputs": [
    {
     "data": {
      "text/plain": [
       "2.2188982650810796"
      ]
     },
     "execution_count": 30,
     "metadata": {},
     "output_type": "execute_result"
    }
   ],
   "source": [
    "random_state_data[15][\"data\"][random_state_data[10][\"argmin\"]]"
   ]
  },
  {
   "cell_type": "code",
   "execution_count": 43,
   "metadata": {},
   "outputs": [
    {
     "data": {
      "application/vnd.jupyter.widget-view+json": {
       "model_id": "63822c3c3751474ba9779faf2553a62e",
       "version_major": 2,
       "version_minor": 0
      },
      "text/plain": [
       "0it [00:00, ?it/s]"
      ]
     },
     "metadata": {},
     "output_type": "display_data"
    }
   ],
   "source": [
    "random_state_other_results = []\n",
    "\n",
    "for index, row in tqdm(df_result.iterrows()):\n",
    "    data = {}\n",
    "    target_ID = row[\"target_ID\"]\n",
    "    clicked_count = row[\"clicked_count\"]\n",
    "    clicked_images = sorted([int(x) for x in row[\"clicked_images\"].split(\",\")])\n",
    "    Q_gt = df_test.to_numpy().T\n",
    "    X = df_test.iloc[:, clicked_images].to_numpy().T\n",
    "\n",
    "    results = {\"Q\": {}, \"MAE\": {}}\n",
    "    for dim in dims:\n",
    "        Q_dict = {}\n",
    "        MAE_dict = {}\n",
    "        for random_state in range(1000):\n",
    "            W = matrix_dict[dim][random_state]\n",
    "            W1 = W[clicked_images]\n",
    "            W1_inv = np.linalg.pinv(W1)\n",
    "            H_est = np.dot(W1_inv, X)\n",
    "            Q = np.dot(W, H_est)\n",
    "            Q[Q < 0] = 0\n",
    "            Q[Q > 10] = 10\n",
    "            Q_dict[random_state] = Q\n",
    "            MAE_dict[random_state] = mean_absolute_error(Q_gt, Q)\n",
    "        results[\"Q\"][dim] = Q_dict\n",
    "        results[\"MAE\"][dim] = MAE_dict\n",
    "    random_state_other_results.append(results)\n"
   ]
  },
  {
   "cell_type": "code",
   "execution_count": 41,
   "metadata": {},
   "outputs": [
    {
     "name": "stdout",
     "output_type": "stream",
     "text": [
      "808 1.959544096766038 408 1.9593857805635944\n",
      "191 2.4071431387746736 244 2.081527150559991\n",
      "785 2.544614974027365 86 2.059377613122005\n"
     ]
    },
    {
     "data": {
      "image/png": "[encoded data removed]",
      "text/plain": [
       "<Figure size 600x600 with 3 Axes>"
      ]
     },
     "metadata": {},
     "output_type": "display_data"
    }
   ],
   "source": [
    "plt.rcParams[\"figure.figsize\"] = (6, 6)\n",
    "random_state_other_data = {}\n",
    "for dim in dims:\n",
    "    dim_data = {}\n",
    "    data = np.array([statistics.mean([result[\"MAE\"][dim][random_state] for result in random_state_other_results]) for random_state in range(1000)])\n",
    "    dim_data[\"data\"] = data\n",
    "    dim_data[\"argmin\"] = data.argmin()\n",
    "    dim_data[\"min\"] = data.min()\n",
    "    dim_data[\"argmax\"] = data.argmax()\n",
    "    dim_data[\"max\"] = data.max()\n",
    "    random_state_other_data[dim] = dim_data\n",
    "\n",
    "for index, dim in enumerate(dims):\n",
    "    plt.subplot(3, 1, index+1)\n",
    "    print(random_state_other_data[dim][\"argmax\"], random_state_other_data[dim][\"max\"], random_state_other_data[dim][\"argmin\"], random_state_other_data[dim][\"min\"])\n",
    "    plt.bar(x=range(1000), height=random_state_other_data[dim][\"data\"])"
   ]
  },
  {
   "cell_type": "code",
   "execution_count": 49,
   "metadata": {},
   "outputs": [
    {
     "data": {
      "text/plain": [
       "(100, 5)"
      ]
     },
     "execution_count": 49,
     "metadata": {},
     "output_type": "execute_result"
    }
   ],
   "source": [
    "matrix_dict[5][0].shape"
   ]
  },
  {
   "cell_type": "code",
   "execution_count": 76,
   "metadata": {},
   "outputs": [
    {
     "name": "stdout",
     "output_type": "stream",
     "text": [
      "5 dimensions\n",
      "10 dimensions\n",
      "15 dimensions\n"
     ]
    }
   ],
   "source": [
    "W_effect_data = {}\n",
    "W_effect_elm = {}\n",
    "\n",
    "for dim in dims:\n",
    "    dim_data = {}\n",
    "    print(f\"{dim} dimensions\")\n",
    "    W_mean_t = (sum(matrix_dict[dim]).T)/1000\n",
    "    W_effect_elm[dim] = W_mean_t.T\n",
    "    for index, elm in enumerate(W_mean_t):\n",
    "        elm_data = {}\n",
    "        elm_data[\"max\"] = {\n",
    "            \"arg\": int(elm.argmax()),\n",
    "            \"value\": elm.max()\n",
    "        }\n",
    "        elm_data[\"min\"] = {\n",
    "            \"arg\": int(elm.argmin()),\n",
    "            \"value\": elm.min()\n",
    "        }\n",
    "        elm_data[\"mean\"] = elm.mean()\n",
    "        elm_data[\"median\"] = np.median(elm)\n",
    "        dim_data[index] = elm_data\n",
    "    W_effect_data[dim] = dim_data\n",
    "\n",
    "with open(\"W_effect_data.json\", \"w\") as f:\n",
    "    json.dump(W_effect_data, f, indent=2)"
   ]
  },
  {
   "cell_type": "code",
   "execution_count": 77,
   "metadata": {},
   "outputs": [
    {
     "data": {
      "image/png": "[encoded data removed]",
      "text/plain": [
       "<Figure size 600x600 with 3 Axes>"
      ]
     },
     "metadata": {},
     "output_type": "display_data"
    }
   ],
   "source": [
    "for index, dim in enumerate(dims):\n",
    "    plt.subplot(3, 1, index+1)\n",
    "    plt.boxplot(W_effect_elm[dim], sym=\"\", vert=True)"
   ]
  },
  {
   "cell_type": "code",
   "execution_count": 99,
   "metadata": {},
   "outputs": [
    {
     "name": "stdout",
     "output_type": "stream",
     "text": [
      "[3, 8, 12, 40, 69, 74]\n"
     ]
    },
    {
     "data": {
      "application/vnd.jupyter.widget-view+json": {
       "model_id": "8a30d8c8260540d4bf5a077dda4ec2c5",
       "version_major": 2,
       "version_minor": 0
      },
      "text/plain": [
       "0it [00:00, ?it/s]"
      ]
     },
     "metadata": {},
     "output_type": "display_data"
    }
   ],
   "source": [
    "argmax_edge = set()\n",
    "\n",
    "for dim in dims:\n",
    "    argmax_edge.add(W_effect_data[dim][0][\"max\"][\"arg\"])\n",
    "    argmax_edge.add(W_effect_data[dim][dim-1][\"max\"][\"arg\"])\n",
    "\n",
    "print(sorted(argmax_edge))\n",
    "\n",
    "argmax_edge_results = []\n",
    "for index, row in tqdm(df_test.iterrows()):\n",
    "    result = calculate_score(row.name, sorted(argmax_edge), dims)\n",
    "    argmax_edge_results.append(result)\n",
    "\n",
    "MAE_argmax_edge = {5: [], 10: [], 15: []}\n",
    "for result in argmax_edge_results:\n",
    "    for dim in dims:\n",
    "        MAE_argmax_edge[dim].append(result[dim][\"MAE\"])"
   ]
  },
  {
   "cell_type": "code",
   "execution_count": 101,
   "metadata": {},
   "outputs": [
    {
     "data": {
      "image/png": "[encoded data removed]",
      "text/plain": [
       "<Figure size 600x600 with 3 Axes>"
      ]
     },
     "metadata": {},
     "output_type": "display_data"
    }
   ],
   "source": [
    "plt.rcParams[\"figure.figsize\"] = (6, 6)\n",
    "for index, dim in enumerate(dims):\n",
    "    plt.subplot(3, 1, index+1)\n",
    "    plt.hist(MAE_argmax_edge[dim], label=\"両端\", alpha=0.5)\n",
    "    plt.title(f\"{dim}次元\")\n",
    "    plt.xlim(0, 7)\n",
    "    plt.legend()\n",
    "\n",
    "plt.tight_layout()"
   ]
  },
  {
   "cell_type": "code",
   "execution_count": 102,
   "metadata": {},
   "outputs": [
    {
     "data": {
      "text/html": [
       "<div>\n",
       "<style scoped>\n",
       "    .dataframe tbody tr th:only-of-type {\n",
       "        vertical-align: middle;\n",
       "    }\n",
       "\n",
       "    .dataframe tbody tr th {\n",
       "        vertical-align: top;\n",
       "    }\n",
       "\n",
       "    .dataframe thead th {\n",
       "        text-align: right;\n",
       "    }\n",
       "</style>\n",
       "<table border=\"1\" class=\"dataframe\">\n",
       "  <thead>\n",
       "    <tr style=\"text-align: right;\">\n",
       "      <th></th>\n",
       "      <th>5次元</th>\n",
       "      <th>10次元</th>\n",
       "      <th>15次元</th>\n",
       "    </tr>\n",
       "  </thead>\n",
       "  <tbody>\n",
       "    <tr>\n",
       "      <th>count</th>\n",
       "      <td>130.000000</td>\n",
       "      <td>130.000000</td>\n",
       "      <td>130.000000</td>\n",
       "    </tr>\n",
       "    <tr>\n",
       "      <th>mean</th>\n",
       "      <td>2.014183</td>\n",
       "      <td>2.083080</td>\n",
       "      <td>2.201276</td>\n",
       "    </tr>\n",
       "    <tr>\n",
       "      <th>std</th>\n",
       "      <td>0.702395</td>\n",
       "      <td>0.703187</td>\n",
       "      <td>0.567338</td>\n",
       "    </tr>\n",
       "    <tr>\n",
       "      <th>min</th>\n",
       "      <td>0.203369</td>\n",
       "      <td>0.132840</td>\n",
       "      <td>0.238934</td>\n",
       "    </tr>\n",
       "    <tr>\n",
       "      <th>25%</th>\n",
       "      <td>1.496154</td>\n",
       "      <td>1.609774</td>\n",
       "      <td>1.892345</td>\n",
       "    </tr>\n",
       "    <tr>\n",
       "      <th>50%</th>\n",
       "      <td>1.915759</td>\n",
       "      <td>2.078687</td>\n",
       "      <td>2.179970</td>\n",
       "    </tr>\n",
       "    <tr>\n",
       "      <th>75%</th>\n",
       "      <td>2.602286</td>\n",
       "      <td>2.596711</td>\n",
       "      <td>2.568426</td>\n",
       "    </tr>\n",
       "    <tr>\n",
       "      <th>max</th>\n",
       "      <td>3.732499</td>\n",
       "      <td>3.716928</td>\n",
       "      <td>3.683191</td>\n",
       "    </tr>\n",
       "  </tbody>\n",
       "</table>\n",
       "</div>"
      ],
      "text/plain": [
       "              5次元        10次元        15次元\n",
       "count  130.000000  130.000000  130.000000\n",
       "mean     2.014183    2.083080    2.201276\n",
       "std      0.702395    0.703187    0.567338\n",
       "min      0.203369    0.132840    0.238934\n",
       "25%      1.496154    1.609774    1.892345\n",
       "50%      1.915759    2.078687    2.179970\n",
       "75%      2.602286    2.596711    2.568426\n",
       "max      3.732499    3.716928    3.683191"
      ]
     },
     "execution_count": 102,
     "metadata": {},
     "output_type": "execute_result"
    }
   ],
   "source": [
    "df_MAE_argmax_edge = pd.DataFrame({'5次元':MAE_argmax_edge[5],'10次元':MAE_argmax_edge[10],'15次元':MAE_argmax_edge[15]})\n",
    "df_MAE_argmax_edge.describe()"
   ]
  },
  {
   "cell_type": "code",
   "execution_count": 112,
   "metadata": {},
   "outputs": [
    {
     "name": "stdout",
     "output_type": "stream",
     "text": [
      "{3, 69, 70, 8, 86, 22}\n"
     ]
    },
    {
     "data": {
      "application/vnd.jupyter.widget-view+json": {
       "model_id": "01f329bd8822453297ad4274cd15e40e",
       "version_major": 2,
       "version_minor": 0
      },
      "text/plain": [
       "0it [00:00, ?it/s]"
      ]
     },
     "metadata": {},
     "output_type": "display_data"
    },
    {
     "data": {
      "text/html": [
       "<div>\n",
       "<style scoped>\n",
       "    .dataframe tbody tr th:only-of-type {\n",
       "        vertical-align: middle;\n",
       "    }\n",
       "\n",
       "    .dataframe tbody tr th {\n",
       "        vertical-align: top;\n",
       "    }\n",
       "\n",
       "    .dataframe thead th {\n",
       "        text-align: right;\n",
       "    }\n",
       "</style>\n",
       "<table border=\"1\" class=\"dataframe\">\n",
       "  <thead>\n",
       "    <tr style=\"text-align: right;\">\n",
       "      <th></th>\n",
       "      <th>5次元</th>\n",
       "      <th>10次元</th>\n",
       "      <th>15次元</th>\n",
       "    </tr>\n",
       "  </thead>\n",
       "  <tbody>\n",
       "    <tr>\n",
       "      <th>count</th>\n",
       "      <td>130.000000</td>\n",
       "      <td>130.000000</td>\n",
       "      <td>130.000000</td>\n",
       "    </tr>\n",
       "    <tr>\n",
       "      <th>mean</th>\n",
       "      <td>3.256253</td>\n",
       "      <td>1.770708</td>\n",
       "      <td>2.318010</td>\n",
       "    </tr>\n",
       "    <tr>\n",
       "      <th>std</th>\n",
       "      <td>1.500814</td>\n",
       "      <td>0.530503</td>\n",
       "      <td>0.760271</td>\n",
       "    </tr>\n",
       "    <tr>\n",
       "      <th>min</th>\n",
       "      <td>0.117414</td>\n",
       "      <td>0.270327</td>\n",
       "      <td>0.250345</td>\n",
       "    </tr>\n",
       "    <tr>\n",
       "      <th>25%</th>\n",
       "      <td>2.160439</td>\n",
       "      <td>1.415444</td>\n",
       "      <td>1.841866</td>\n",
       "    </tr>\n",
       "    <tr>\n",
       "      <th>50%</th>\n",
       "      <td>3.067879</td>\n",
       "      <td>1.763628</td>\n",
       "      <td>2.291728</td>\n",
       "    </tr>\n",
       "    <tr>\n",
       "      <th>75%</th>\n",
       "      <td>4.253250</td>\n",
       "      <td>2.113255</td>\n",
       "      <td>2.646197</td>\n",
       "    </tr>\n",
       "    <tr>\n",
       "      <th>max</th>\n",
       "      <td>7.639032</td>\n",
       "      <td>3.023144</td>\n",
       "      <td>5.143271</td>\n",
       "    </tr>\n",
       "  </tbody>\n",
       "</table>\n",
       "</div>"
      ],
      "text/plain": [
       "              5次元        10次元        15次元\n",
       "count  130.000000  130.000000  130.000000\n",
       "mean     3.256253    1.770708    2.318010\n",
       "std      1.500814    0.530503    0.760271\n",
       "min      0.117414    0.270327    0.250345\n",
       "25%      2.160439    1.415444    1.841866\n",
       "50%      3.067879    1.763628    2.291728\n",
       "75%      4.253250    2.113255    2.646197\n",
       "max      7.639032    3.023144    5.143271"
      ]
     },
     "execution_count": 112,
     "metadata": {},
     "output_type": "execute_result"
    }
   ],
   "source": [
    "elm_argmax_5 = set()\n",
    "elm_argmax_5.add(W_effect_data[5][0][\"max\"][\"arg\"])\n",
    "elm_argmax_5.add(W_effect_data[5][2][\"max\"][\"arg\"])\n",
    "elm_argmax_5.add(W_effect_data[5][3][\"max\"][\"arg\"])\n",
    "elm_argmax_5.add(W_effect_data[5][4][\"max\"][\"arg\"])\n",
    "elm_argmax_5.add(np.argsort(W_effect_elm[5].T[0])[-2])\n",
    "elm_argmax_5.add(np.argsort(W_effect_elm[5].T[4])[-2])\n",
    "\n",
    "print(elm_argmax_5)\n",
    "\n",
    "elm_argmax_5_results = []\n",
    "for index, row in tqdm(df_test.iterrows()):\n",
    "    result = calculate_score(row.name, sorted(elm_argmax_5), dims)\n",
    "    elm_argmax_5_results.append(result)\n",
    "\n",
    "MAE_elm_argmax_5 = {5: [], 10: [], 15: []}\n",
    "for result in elm_argmax_5_results:\n",
    "    for dim in dims:\n",
    "        MAE_elm_argmax_5[dim].append(result[dim][\"MAE\"])\n",
    "\n",
    "df_MAE_elm_argmax_5 = pd.DataFrame({'5次元':MAE_elm_argmax_5[5],'10次元':MAE_elm_argmax_5[10],'15次元':MAE_elm_argmax_5[15]})\n",
    "df_MAE_elm_argmax_5.describe()"
   ]
  },
  {
   "cell_type": "code",
   "execution_count": 114,
   "metadata": {},
   "outputs": [
    {
     "name": "stdout",
     "output_type": "stream",
     "text": [
      "{0, 3, 12, 47, 87, 89}\n"
     ]
    },
    {
     "data": {
      "application/vnd.jupyter.widget-view+json": {
       "model_id": "67bb768ee2cc43d282c7b7a8896e83fc",
       "version_major": 2,
       "version_minor": 0
      },
      "text/plain": [
       "0it [00:00, ?it/s]"
      ]
     },
     "metadata": {},
     "output_type": "display_data"
    },
    {
     "data": {
      "text/html": [
       "<div>\n",
       "<style scoped>\n",
       "    .dataframe tbody tr th:only-of-type {\n",
       "        vertical-align: middle;\n",
       "    }\n",
       "\n",
       "    .dataframe tbody tr th {\n",
       "        vertical-align: top;\n",
       "    }\n",
       "\n",
       "    .dataframe thead th {\n",
       "        text-align: right;\n",
       "    }\n",
       "</style>\n",
       "<table border=\"1\" class=\"dataframe\">\n",
       "  <thead>\n",
       "    <tr style=\"text-align: right;\">\n",
       "      <th></th>\n",
       "      <th>5次元</th>\n",
       "      <th>10次元</th>\n",
       "      <th>15次元</th>\n",
       "    </tr>\n",
       "  </thead>\n",
       "  <tbody>\n",
       "    <tr>\n",
       "      <th>count</th>\n",
       "      <td>130.000000</td>\n",
       "      <td>130.000000</td>\n",
       "      <td>130.000000</td>\n",
       "    </tr>\n",
       "    <tr>\n",
       "      <th>mean</th>\n",
       "      <td>2.238246</td>\n",
       "      <td>1.789276</td>\n",
       "      <td>2.292296</td>\n",
       "    </tr>\n",
       "    <tr>\n",
       "      <th>std</th>\n",
       "      <td>0.792326</td>\n",
       "      <td>0.525887</td>\n",
       "      <td>0.731828</td>\n",
       "    </tr>\n",
       "    <tr>\n",
       "      <th>min</th>\n",
       "      <td>0.090000</td>\n",
       "      <td>0.090000</td>\n",
       "      <td>0.090000</td>\n",
       "    </tr>\n",
       "    <tr>\n",
       "      <th>25%</th>\n",
       "      <td>1.745007</td>\n",
       "      <td>1.483254</td>\n",
       "      <td>1.897062</td>\n",
       "    </tr>\n",
       "    <tr>\n",
       "      <th>50%</th>\n",
       "      <td>2.276807</td>\n",
       "      <td>1.804008</td>\n",
       "      <td>2.259393</td>\n",
       "    </tr>\n",
       "    <tr>\n",
       "      <th>75%</th>\n",
       "      <td>2.715937</td>\n",
       "      <td>2.094537</td>\n",
       "      <td>2.600935</td>\n",
       "    </tr>\n",
       "    <tr>\n",
       "      <th>max</th>\n",
       "      <td>5.426617</td>\n",
       "      <td>3.127342</td>\n",
       "      <td>5.399662</td>\n",
       "    </tr>\n",
       "  </tbody>\n",
       "</table>\n",
       "</div>"
      ],
      "text/plain": [
       "              5次元        10次元        15次元\n",
       "count  130.000000  130.000000  130.000000\n",
       "mean     2.238246    1.789276    2.292296\n",
       "std      0.792326    0.525887    0.731828\n",
       "min      0.090000    0.090000    0.090000\n",
       "25%      1.745007    1.483254    1.897062\n",
       "50%      2.276807    1.804008    2.259393\n",
       "75%      2.715937    2.094537    2.600935\n",
       "max      5.426617    3.127342    5.399662"
      ]
     },
     "execution_count": 114,
     "metadata": {},
     "output_type": "execute_result"
    }
   ],
   "source": [
    "elm_argmax_10 = set()\n",
    "elm_argmax_10.add(W_effect_data[10][0][\"max\"][\"arg\"])\n",
    "elm_argmax_10.add(W_effect_data[10][2][\"max\"][\"arg\"])\n",
    "elm_argmax_10.add(W_effect_data[10][6][\"max\"][\"arg\"])\n",
    "elm_argmax_10.add(W_effect_data[10][7][\"max\"][\"arg\"])\n",
    "elm_argmax_10.add(W_effect_data[10][8][\"max\"][\"arg\"])\n",
    "elm_argmax_10.add(W_effect_data[10][9][\"max\"][\"arg\"])\n",
    "print(elm_argmax_10)\n",
    "\n",
    "elm_argmax_10_results = []\n",
    "for index, row in tqdm(df_test.iterrows()):\n",
    "    result = calculate_score(row.name, sorted(elm_argmax_10), dims)\n",
    "    elm_argmax_10_results.append(result)\n",
    "\n",
    "MAE_elm_argmax_10 = {5: [], 10: [], 15: []}\n",
    "for result in elm_argmax_10_results:\n",
    "    for dim in dims:\n",
    "        MAE_elm_argmax_10[dim].append(result[dim][\"MAE\"])\n",
    "\n",
    "df_MAE_elm_argmax_10 = pd.DataFrame({'5次元':MAE_elm_argmax_10[5],'10次元':MAE_elm_argmax_10[10],'15次元':MAE_elm_argmax_10[15]})\n",
    "df_MAE_elm_argmax_10.describe()"
   ]
  },
  {
   "cell_type": "code",
   "execution_count": 115,
   "metadata": {},
   "outputs": [
    {
     "name": "stdout",
     "output_type": "stream",
     "text": [
      "{64, 2, 3, 37, 40, 74}\n"
     ]
    },
    {
     "data": {
      "application/vnd.jupyter.widget-view+json": {
       "model_id": "cdee77ca9cde4bf7af870ddff1ea284b",
       "version_major": 2,
       "version_minor": 0
      },
      "text/plain": [
       "0it [00:00, ?it/s]"
      ]
     },
     "metadata": {},
     "output_type": "display_data"
    },
    {
     "data": {
      "text/html": [
       "<div>\n",
       "<style scoped>\n",
       "    .dataframe tbody tr th:only-of-type {\n",
       "        vertical-align: middle;\n",
       "    }\n",
       "\n",
       "    .dataframe tbody tr th {\n",
       "        vertical-align: top;\n",
       "    }\n",
       "\n",
       "    .dataframe thead th {\n",
       "        text-align: right;\n",
       "    }\n",
       "</style>\n",
       "<table border=\"1\" class=\"dataframe\">\n",
       "  <thead>\n",
       "    <tr style=\"text-align: right;\">\n",
       "      <th></th>\n",
       "      <th>5次元</th>\n",
       "      <th>10次元</th>\n",
       "      <th>15次元</th>\n",
       "    </tr>\n",
       "  </thead>\n",
       "  <tbody>\n",
       "    <tr>\n",
       "      <th>count</th>\n",
       "      <td>130.000000</td>\n",
       "      <td>130.000000</td>\n",
       "      <td>130.000000</td>\n",
       "    </tr>\n",
       "    <tr>\n",
       "      <th>mean</th>\n",
       "      <td>1.758497</td>\n",
       "      <td>1.706141</td>\n",
       "      <td>2.204813</td>\n",
       "    </tr>\n",
       "    <tr>\n",
       "      <th>std</th>\n",
       "      <td>0.640954</td>\n",
       "      <td>0.515121</td>\n",
       "      <td>0.641881</td>\n",
       "    </tr>\n",
       "    <tr>\n",
       "      <th>min</th>\n",
       "      <td>0.090000</td>\n",
       "      <td>0.090000</td>\n",
       "      <td>0.090000</td>\n",
       "    </tr>\n",
       "    <tr>\n",
       "      <th>25%</th>\n",
       "      <td>1.365274</td>\n",
       "      <td>1.372573</td>\n",
       "      <td>1.855866</td>\n",
       "    </tr>\n",
       "    <tr>\n",
       "      <th>50%</th>\n",
       "      <td>1.697582</td>\n",
       "      <td>1.640875</td>\n",
       "      <td>2.206865</td>\n",
       "    </tr>\n",
       "    <tr>\n",
       "      <th>75%</th>\n",
       "      <td>2.210470</td>\n",
       "      <td>2.045389</td>\n",
       "      <td>2.591355</td>\n",
       "    </tr>\n",
       "    <tr>\n",
       "      <th>max</th>\n",
       "      <td>3.698794</td>\n",
       "      <td>3.029448</td>\n",
       "      <td>3.634630</td>\n",
       "    </tr>\n",
       "  </tbody>\n",
       "</table>\n",
       "</div>"
      ],
      "text/plain": [
       "              5次元        10次元        15次元\n",
       "count  130.000000  130.000000  130.000000\n",
       "mean     1.758497    1.706141    2.204813\n",
       "std      0.640954    0.515121    0.641881\n",
       "min      0.090000    0.090000    0.090000\n",
       "25%      1.365274    1.372573    1.855866\n",
       "50%      1.697582    1.640875    2.206865\n",
       "75%      2.210470    2.045389    2.591355\n",
       "max      3.698794    3.029448    3.634630"
      ]
     },
     "execution_count": 115,
     "metadata": {},
     "output_type": "execute_result"
    }
   ],
   "source": [
    "elm_argmax_15 = set()\n",
    "elm_argmax_15.add(W_effect_data[15][0][\"max\"][\"arg\"])\n",
    "elm_argmax_15.add(W_effect_data[15][1][\"max\"][\"arg\"])\n",
    "elm_argmax_15.add(W_effect_data[15][2][\"max\"][\"arg\"])\n",
    "elm_argmax_15.add(W_effect_data[15][12][\"max\"][\"arg\"])\n",
    "elm_argmax_15.add(W_effect_data[15][13][\"max\"][\"arg\"])\n",
    "elm_argmax_15.add(W_effect_data[15][14][\"max\"][\"arg\"])\n",
    "print(elm_argmax_15)\n",
    "\n",
    "elm_argmax_15_results = []\n",
    "for index, row in tqdm(df_test.iterrows()):\n",
    "    result = calculate_score(row.name, sorted(elm_argmax_15), dims)\n",
    "    elm_argmax_15_results.append(result)\n",
    "\n",
    "MAE_elm_argmax_15 = {5: [], 10: [], 15: []}\n",
    "for result in elm_argmax_15_results:\n",
    "    for dim in dims:\n",
    "        MAE_elm_argmax_15[dim].append(result[dim][\"MAE\"])\n",
    "\n",
    "df_MAE_elm_argmax_15 = pd.DataFrame({'5次元':MAE_elm_argmax_15[5],'10次元':MAE_elm_argmax_15[10],'15次元':MAE_elm_argmax_15[15]})\n",
    "df_MAE_elm_argmax_15.describe()"
   ]
  },
  {
   "cell_type": "code",
   "execution_count": 117,
   "metadata": {},
   "outputs": [
    {
     "name": "stdout",
     "output_type": "stream",
     "text": [
      "{'max': {'arg': 3, 'value': 0.7860346620898562}, 'min': {'arg': 36, 'value': 0.0033826899959474087}, 'mean': 0.18220490046445914, 'median': 0.14775883342862195}\n",
      "{'max': {'arg': 8, 'value': 0.20927346392422336}, 'min': {'arg': 69, 'value': 0.010042412990883837}, 'mean': 0.07814091538427026, 'median': 0.06752253529042218}\n",
      "{'max': {'arg': 0, 'value': 0.27301604678600494}, 'min': {'arg': 73, 'value': 0.0}, 'mean': 0.054085444357812346, 'median': 0.024322650649225605}\n",
      "{'max': {'arg': 32, 'value': 0.2923791560324325}, 'min': {'arg': 29, 'value': 0.0}, 'mean': 0.04544224315691749, 'median': 0.026647382583102994}\n",
      "{'max': {'arg': 63, 'value': 0.14200305054628637}, 'min': {'arg': 73, 'value': 0.0}, 'mean': 0.027466594244542262, 'median': 0.017892143468179453}\n",
      "{'max': {'arg': 58, 'value': 0.13111127083298607}, 'min': {'arg': 73, 'value': 0.0}, 'mean': 0.027120523462192264, 'median': 0.01307280893786663}\n",
      "{'max': {'arg': 47, 'value': 0.23077024087538212}, 'min': {'arg': 73, 'value': 0.0}, 'mean': 0.051139301401456665, 'median': 0.029927874322885815}\n",
      "{'max': {'arg': 89, 'value': 0.17764989250824134}, 'min': {'arg': 3, 'value': 0.008956816890788477}, 'mean': 0.08261788821985949, 'median': 0.07783575025966871}\n",
      "{'max': {'arg': 87, 'value': 0.6192594659541052}, 'min': {'arg': 73, 'value': 0.0032324297016183778}, 'mean': 0.1419888508731055, 'median': 0.08848855063490832}\n",
      "{'max': {'arg': 12, 'value': 0.8709266604227383}, 'min': {'arg': 98, 'value': 0.0012230073190092614}, 'mean': 0.2869926305039292, 'median': 0.24286774134133718}\n"
     ]
    }
   ],
   "source": [
    "for value in W_effect_data[10].values():\n",
    "    print(value)"
   ]
  },
  {
   "cell_type": "code",
   "execution_count": 118,
   "metadata": {},
   "outputs": [
    {
     "name": "stdout",
     "output_type": "stream",
     "text": [
      "{'max': {'arg': 40, 'value': 0.5803511074937848}, 'min': {'arg': 8, 'value': 0.0}, 'mean': 0.18890627110230362, 'median': 0.15422933936509325}\n",
      "{'max': {'arg': 3, 'value': 0.46997074484116486}, 'min': {'arg': 54, 'value': 0.0}, 'mean': 0.07338759088751111, 'median': 0.026552412221734267}\n",
      "{'max': {'arg': 2, 'value': 0.2643150514148712}, 'min': {'arg': 73, 'value': 0.0}, 'mean': 0.052071070622855604, 'median': 0.03274402238430786}\n",
      "{'max': {'arg': 32, 'value': 0.36006900340096987}, 'min': {'arg': 3, 'value': 0.0}, 'mean': 0.031018997800081913, 'median': 0.005181196611220317}\n",
      "{'max': {'arg': 77, 'value': 0.17942204265136302}, 'min': {'arg': 9, 'value': 0.0}, 'mean': 0.025792537848062475, 'median': 0.008775102082330358}\n",
      "{'max': {'arg': 90, 'value': 0.09749688972530206}, 'min': {'arg': 6, 'value': 0.0}, 'mean': 0.021131725672476672, 'median': 0.015363493269363216}\n",
      "{'max': {'arg': 36, 'value': 0.19668894938641807}, 'min': {'arg': 8, 'value': 1.0928972773711126e-05}, 'mean': 0.025970618897559118, 'median': 0.00914974623949202}\n",
      "{'max': {'arg': 22, 'value': 0.06590765502176454}, 'min': {'arg': 56, 'value': 0.0}, 'mean': 0.010628897378574422, 'median': 0.0053172461306850915}\n",
      "{'max': {'arg': 69, 'value': 0.11671766787007049}, 'min': {'arg': 73, 'value': 0.0}, 'mean': 0.0150987516308896, 'median': 0.004771147753690402}\n",
      "{'max': {'arg': 12, 'value': 0.06431500779095758}, 'min': {'arg': 73, 'value': 7.084610602195726e-06}, 'mean': 0.008236841938849066, 'median': 0.001743521034365639}\n",
      "{'max': {'arg': 0, 'value': 0.03227701847336689}, 'min': {'arg': 54, 'value': 4.080820120492937e-05}, 'mean': 0.006626179234790036, 'median': 0.005318722454468879}\n",
      "{'max': {'arg': 53, 'value': 0.09588429288187689}, 'min': {'arg': 41, 'value': 0.0006208718718343472}, 'mean': 0.02023975084356217, 'median': 0.012413317039591136}\n",
      "{'max': {'arg': 64, 'value': 0.327616491842932}, 'min': {'arg': 54, 'value': 0.0009614842716379388}, 'mean': 0.053069333389219854, 'median': 0.027757837673663285}\n",
      "{'max': {'arg': 37, 'value': 0.47575027372095907}, 'min': {'arg': 54, 'value': 0.0015913196226581621}, 'mean': 0.11802666210941021, 'median': 0.07024420496239832}\n",
      "{'max': {'arg': 74, 'value': 1.0000763628131235}, 'min': {'arg': 3, 'value': 0.00026052673466861665}, 'mean': 0.254272085682652, 'median': 0.16132639616046296}\n"
     ]
    }
   ],
   "source": [
    "for value in W_effect_data[15].values():\n",
    "    print(value)"
   ]
  },
  {
   "cell_type": "code",
   "execution_count": null,
   "metadata": {},
   "outputs": [],
   "source": [
    "for i in (1, 2, 3, 6):\n",
    "    "
   ]
  }
 ],
 "metadata": {
  "kernelspec": {
   "display_name": "Python 3",
   "language": "python",
   "name": "python3"
  },
  "language_info": {
   "codemirror_mode": {
    "name": "ipython",
    "version": 3
   },
   "file_extension": ".py",
   "mimetype": "text/x-python",
   "name": "python",
   "nbconvert_exporter": "python",
   "pygments_lexer": "ipython3",
   "version": "3.9.10"
  },
  "orig_nbformat": 4
 },
 "nbformat": 4,
 "nbformat_minor": 2
}
